{
 "cells": [
  {
   "cell_type": "code",
   "execution_count": null,
   "id": "d8d21037-1936-4f7d-a997-dc84e609b4ff",
   "metadata": {},
   "outputs": [],
   "source": [
    "# author: Jana Lasser"
   ]
  },
  {
   "cell_type": "code",
   "execution_count": 1,
   "id": "b082f875-6ca7-4cd4-96ed-da62a556cdde",
   "metadata": {},
   "outputs": [],
   "source": [
    "import pandas as pd\n",
    "from os.path import join\n",
    "import numpy as np\n",
    "\n",
    "from scipy.stats import spearmanr\n",
    "\n",
    "# parallelisation functionality\n",
    "from multiprocess import Pool\n",
    "import psutil\n",
    "from tqdm import tqdm"
   ]
  },
  {
   "cell_type": "code",
   "execution_count": 2,
   "id": "90888f7e-c32a-47c1-9c36-2c55c210bf1c",
   "metadata": {},
   "outputs": [],
   "source": [
    "dst = \"../../data/bootstrapping\""
   ]
  },
  {
   "cell_type": "markdown",
   "id": "14d00a25-f70e-4138-98b4-2b48189952a6",
   "metadata": {},
   "source": [
    "# Tweets"
   ]
  },
  {
   "cell_type": "code",
   "execution_count": 3,
   "id": "5126c8bc-29b4-41a5-ad5a-56c5f8239c3f",
   "metadata": {},
   "outputs": [],
   "source": [
    "src = \"../../data/tweets\"\n",
    "fname = \"tweets.csv.gzip\"\n",
    "cols = [\"retweeted\", \"created_at\", \"avg_belief_score\", \"avg_truth_score\", \"party\"]\n",
    "tweets = pd.read_csv(\n",
    "    join(src, fname), \n",
    "    compression=\"gzip\", \n",
    "    parse_dates=[\"created_at\"],\n",
    "    dtype={\"id\":str},\n",
    "    usecols=cols\n",
    ")"
   ]
  },
  {
   "cell_type": "code",
   "execution_count": 4,
   "id": "ac8c0826-2964-4fb4-9948-ace93bf9e0ad",
   "metadata": {},
   "outputs": [],
   "source": [
    "# drop tweets without honesty component score (distill RoBERTa filtering)\n",
    "tweets = tweets.dropna(subset=[\"avg_belief_score\", \"avg_truth_score\"])"
   ]
  },
  {
   "cell_type": "code",
   "execution_count": 5,
   "id": "0638b599-810d-4a13-9dbb-8782c39eb716",
   "metadata": {},
   "outputs": [],
   "source": [
    "# set tweet creation date as index for easier sampling and aggregation\n",
    "tweets = tweets.set_index(\"created_at\")"
   ]
  },
  {
   "cell_type": "markdown",
   "id": "28949677-84bd-423e-9f7e-2ae9412ab260",
   "metadata": {},
   "source": [
    "## Honesty scores"
   ]
  },
  {
   "cell_type": "code",
   "execution_count": 6,
   "id": "fa183ce4-7026-4fc7-a676-7dfb2d23e706",
   "metadata": {},
   "outputs": [],
   "source": [
    "def run_bootstrap_belief(i):\n",
    "    tweet_sample = tweets.sample(frac=1, replace=True)\n",
    "    belief = tweet_sample[[\"avg_belief_score\", \"party\"]]\\\n",
    "        .groupby(by=[tweet_sample.index.year, tweet_sample.index.month, \"party\"])\\\n",
    "        .mean()\n",
    "\n",
    "    belief.index.set_names([\"year\", \"month\", \"party\"], inplace=True)\n",
    "    belief = belief.reset_index()\n",
    "    belief[\"run\"] = i\n",
    "    return belief"
   ]
  },
  {
   "cell_type": "code",
   "execution_count": 7,
   "id": "183f56cc-1a19-42f6-8267-1e76637e23e4",
   "metadata": {},
   "outputs": [
    {
     "name": "stderr",
     "output_type": "stream",
     "text": [
      "100%|█████████████████████████████████████████████████████████████████████████████████████████████████████████████████████████████████████████████████████████████████████████████████████████████████████████████████████████████████████████████████| 1000/1000 [04:24<00:00,  3.79it/s]\n"
     ]
    }
   ],
   "source": [
    "fname = \"belief.csv.gzip\"\n",
    "belief_score_bootstrap = pd.DataFrame()\n",
    "pool = Pool(10)\n",
    "N_bootstrap = 1000\n",
    "\n",
    "for tmp in tqdm(pool.imap_unordered(\n",
    "    func=run_bootstrap_belief, \n",
    "    iterable=range(N_bootstrap)), \n",
    "    total=N_bootstrap):\n",
    "        belief_score_bootstrap = pd.concat([belief_score_bootstrap, tmp])\n",
    "belief_score_bootstrap = belief_score_bootstrap.reset_index(drop=True)\n",
    "belief_score_bootstrap.to_csv(join(dst, fname), index=False, compression=\"gzip\")\n",
    "pool.close()"
   ]
  },
  {
   "cell_type": "code",
   "execution_count": 8,
   "id": "871bce76-ea06-4b48-971b-e32962fc669a",
   "metadata": {},
   "outputs": [],
   "source": [
    "def run_bootstrap_truth(i):\n",
    "    tweet_sample = tweets.sample(frac=1, replace=True)\n",
    "    truth = tweet_sample[[\"avg_truth_score\", \"party\"]]\\\n",
    "        .groupby(by=[tweet_sample.index.year, tweet_sample.index.month, \"party\"])\\\n",
    "        .mean()\n",
    "\n",
    "    truth.index.set_names([\"year\", \"month\", \"party\"], inplace=True)\n",
    "    truth = truth.reset_index()\n",
    "    truth[\"run\"] = i\n",
    "    return truth"
   ]
  },
  {
   "cell_type": "code",
   "execution_count": 9,
   "id": "dd28d0e2-f5c1-4f84-afa9-a259e086243c",
   "metadata": {},
   "outputs": [
    {
     "name": "stderr",
     "output_type": "stream",
     "text": [
      "100%|█████████████████████████████████████████████████████████████████████████████████████████████████████████████████████████████████████████████████████████████████████████████████████████████████████████████████████████████████████████████████| 1000/1000 [04:10<00:00,  3.98it/s]\n"
     ]
    }
   ],
   "source": [
    "fname = \"truth.csv.gzip\"\n",
    "truth_score_bootstrap = pd.DataFrame()\n",
    "pool = Pool(10)\n",
    "N_bootstrap = 1000\n",
    "\n",
    "for tmp in tqdm(pool.imap_unordered(\n",
    "    func=run_bootstrap_truth, \n",
    "    iterable=range(N_bootstrap)), \n",
    "    total=N_bootstrap):\n",
    "        truth_score_bootstrap = pd.concat([truth_score_bootstrap, tmp])\n",
    "truth_score_bootstrap = truth_score_bootstrap.reset_index(drop=True)\n",
    "truth_score_bootstrap.to_csv(join(dst, fname), index=False, compression=\"gzip\")\n",
    "pool.close()"
   ]
  },
  {
   "cell_type": "markdown",
   "id": "695c5ddf-e9c1-491e-b6ff-b048b8ab934a",
   "metadata": {},
   "source": [
    "## LIWC and VADER scores"
   ]
  },
  {
   "cell_type": "code",
   "execution_count": 10,
   "id": "f27fd905-4082-4ea8-8b46-d307e99bd1ae",
   "metadata": {},
   "outputs": [],
   "source": [
    "src = \"../../data/tweets\""
   ]
  },
  {
   "cell_type": "code",
   "execution_count": 11,
   "id": "bc3fcc3d-2048-42f5-98c7-2184a552438d",
   "metadata": {},
   "outputs": [],
   "source": [
    "fname = \"tweets.csv.gzip\"\n",
    "cols = [\"party\", \"created_at\", \"avg_belief_score\",\n",
    "        \"avg_truth_score\", \"LIWC_authentic\", \"LIWC_analytic\", \"LIWC_moral\", \n",
    "        \"VADER_neg\", \"VADER_pos\"]\n",
    "tweets = pd.read_csv(\n",
    "    join(src, fname), \n",
    "    compression=\"gzip\",\n",
    "    parse_dates=[\"created_at\"],\n",
    "    usecols=cols\n",
    ") "
   ]
  },
  {
   "cell_type": "code",
   "execution_count": 12,
   "id": "9de31ec8-db5c-4baa-8828-ff3814bfccab",
   "metadata": {},
   "outputs": [],
   "source": [
    "# give tweets that have a belief [truth] score in the highest quantile a \n",
    "# \"belief\" [\"truth\"] label\n",
    "belief_cutoff_top = tweets[\"avg_belief_score\"].quantile(0.8)\n",
    "truth_cutoff_top = tweets[\"avg_truth_score\"].quantile(0.8)\n",
    "belief_cutoff_bottom = tweets[\"avg_belief_score\"].quantile(0.2)\n",
    "truth_cutoff_bottom = tweets[\"avg_truth_score\"].quantile(0.2)"
   ]
  },
  {
   "cell_type": "code",
   "execution_count": 13,
   "id": "f1300841-2c8a-4b22-9840-440649c6d881",
   "metadata": {},
   "outputs": [],
   "source": [
    "tweets[\"belief\"] = 0\n",
    "tweets[\"truth\"] = 0\n",
    "tweets[\"neutral_belief\"] = 0\n",
    "tweets[\"neutral_truth\"] = 0\n",
    "tweets.loc[tweets[tweets[\"avg_belief_score\"] > belief_cutoff_top].index, \"belief\"] = 1\n",
    "tweets.loc[tweets[tweets[\"avg_truth_score\"] > truth_cutoff_top].index, \"truth\"] = 1\n",
    "tweets.loc[tweets[tweets[\"avg_belief_score\"] <= belief_cutoff_bottom].index, \"neutral_belief\"] = 1\n",
    "tweets.loc[tweets[tweets[\"avg_truth_score\"] <= truth_cutoff_bottom].index, \"neutral_truth\"] = 1"
   ]
  },
  {
   "cell_type": "code",
   "execution_count": 14,
   "id": "2283d84f-0a54-4bde-b750-995e60be6a4e",
   "metadata": {},
   "outputs": [],
   "source": [
    "tweets[\"honesty_component\"] = np.nan\n",
    "tweets.loc[tweets[tweets[\"belief\"] == 1].index, \"honesty_component\"] = \"belief\"\n",
    "tweets.loc[tweets[tweets[\"truth\"] == 1].index, \"honesty_component\"] = \"truth\"\n",
    "tweets.loc[tweets[tweets[\"neutral_belief\"] == 1].index, \"honesty_component\"] = \"neutral_belief\"\n",
    "tweets.loc[tweets[tweets[\"neutral_truth\"] == 1].index, \"honesty_component\"] = \"neutral_truth\""
   ]
  },
  {
   "cell_type": "code",
   "execution_count": 15,
   "id": "6dd82c7c-120a-4aec-a502-4278bad37477",
   "metadata": {},
   "outputs": [
    {
     "data": {
      "text/html": [
       "<div>\n",
       "<style scoped>\n",
       "    .dataframe tbody tr th:only-of-type {\n",
       "        vertical-align: middle;\n",
       "    }\n",
       "\n",
       "    .dataframe tbody tr th {\n",
       "        vertical-align: top;\n",
       "    }\n",
       "\n",
       "    .dataframe thead tr th {\n",
       "        text-align: left;\n",
       "    }\n",
       "\n",
       "    .dataframe thead tr:last-of-type th {\n",
       "        text-align: right;\n",
       "    }\n",
       "</style>\n",
       "<table border=\"1\" class=\"dataframe\">\n",
       "  <thead>\n",
       "    <tr>\n",
       "      <th></th>\n",
       "      <th colspan=\"2\" halign=\"left\">LIWC_analytic</th>\n",
       "      <th colspan=\"2\" halign=\"left\">LIWC_authentic</th>\n",
       "      <th colspan=\"2\" halign=\"left\">LIWC_moral</th>\n",
       "      <th colspan=\"2\" halign=\"left\">VADER_neg</th>\n",
       "      <th colspan=\"2\" halign=\"left\">VADER_pos</th>\n",
       "    </tr>\n",
       "    <tr>\n",
       "      <th></th>\n",
       "      <th>mean</th>\n",
       "      <th>std</th>\n",
       "      <th>mean</th>\n",
       "      <th>std</th>\n",
       "      <th>mean</th>\n",
       "      <th>std</th>\n",
       "      <th>mean</th>\n",
       "      <th>std</th>\n",
       "      <th>mean</th>\n",
       "      <th>std</th>\n",
       "    </tr>\n",
       "    <tr>\n",
       "      <th>honesty_component</th>\n",
       "      <th></th>\n",
       "      <th></th>\n",
       "      <th></th>\n",
       "      <th></th>\n",
       "      <th></th>\n",
       "      <th></th>\n",
       "      <th></th>\n",
       "      <th></th>\n",
       "      <th></th>\n",
       "      <th></th>\n",
       "    </tr>\n",
       "  </thead>\n",
       "  <tbody>\n",
       "    <tr>\n",
       "      <th>belief</th>\n",
       "      <td>63.816813</td>\n",
       "      <td>29.182050</td>\n",
       "      <td>33.540176</td>\n",
       "      <td>33.156391</td>\n",
       "      <td>0.903643</td>\n",
       "      <td>1.965382</td>\n",
       "      <td>0.085163</td>\n",
       "      <td>0.098149</td>\n",
       "      <td>0.158631</td>\n",
       "      <td>0.127333</td>\n",
       "    </tr>\n",
       "    <tr>\n",
       "      <th>neutral_belief</th>\n",
       "      <td>88.357840</td>\n",
       "      <td>15.783461</td>\n",
       "      <td>24.724051</td>\n",
       "      <td>28.387783</td>\n",
       "      <td>0.270979</td>\n",
       "      <td>1.129438</td>\n",
       "      <td>0.037345</td>\n",
       "      <td>0.069616</td>\n",
       "      <td>0.123823</td>\n",
       "      <td>0.110382</td>\n",
       "    </tr>\n",
       "    <tr>\n",
       "      <th>neutral_truth</th>\n",
       "      <td>85.195942</td>\n",
       "      <td>20.471554</td>\n",
       "      <td>24.756807</td>\n",
       "      <td>29.658462</td>\n",
       "      <td>0.544510</td>\n",
       "      <td>1.606829</td>\n",
       "      <td>0.037122</td>\n",
       "      <td>0.074383</td>\n",
       "      <td>0.151310</td>\n",
       "      <td>0.138800</td>\n",
       "    </tr>\n",
       "    <tr>\n",
       "      <th>truth</th>\n",
       "      <td>73.998799</td>\n",
       "      <td>26.223247</td>\n",
       "      <td>28.207291</td>\n",
       "      <td>31.461025</td>\n",
       "      <td>0.588890</td>\n",
       "      <td>1.709724</td>\n",
       "      <td>0.074363</td>\n",
       "      <td>0.094174</td>\n",
       "      <td>0.141605</td>\n",
       "      <td>0.115433</td>\n",
       "    </tr>\n",
       "  </tbody>\n",
       "</table>\n",
       "</div>"
      ],
      "text/plain": [
       "                  LIWC_analytic            LIWC_authentic             \\\n",
       "                           mean        std           mean        std   \n",
       "honesty_component                                                      \n",
       "belief                63.816813  29.182050      33.540176  33.156391   \n",
       "neutral_belief        88.357840  15.783461      24.724051  28.387783   \n",
       "neutral_truth         85.195942  20.471554      24.756807  29.658462   \n",
       "truth                 73.998799  26.223247      28.207291  31.461025   \n",
       "\n",
       "                  LIWC_moral           VADER_neg           VADER_pos            \n",
       "                        mean       std      mean       std      mean       std  \n",
       "honesty_component                                                               \n",
       "belief              0.903643  1.965382  0.085163  0.098149  0.158631  0.127333  \n",
       "neutral_belief      0.270979  1.129438  0.037345  0.069616  0.123823  0.110382  \n",
       "neutral_truth       0.544510  1.606829  0.037122  0.074383  0.151310  0.138800  \n",
       "truth               0.588890  1.709724  0.074363  0.094174  0.141605  0.115433  "
      ]
     },
     "execution_count": 15,
     "metadata": {},
     "output_type": "execute_result"
    }
   ],
   "source": [
    "cols = [\"honesty_component\", \"LIWC_analytic\", \"LIWC_authentic\", \"LIWC_moral\",\n",
    "        \"VADER_neg\", \"VADER_pos\"]\n",
    "tweets[cols]\\\n",
    "    .groupby([\"honesty_component\"])\\\n",
    "    .agg([\"mean\", \"std\"])"
   ]
  },
  {
   "cell_type": "code",
   "execution_count": 16,
   "id": "d821812b-29a3-499f-9c1f-16eaf39ab758",
   "metadata": {},
   "outputs": [],
   "source": [
    "tweets = tweets.set_index(\"created_at\")"
   ]
  },
  {
   "cell_type": "code",
   "execution_count": 17,
   "id": "36495468-992f-417e-beeb-23be61a70fa9",
   "metadata": {},
   "outputs": [],
   "source": [
    "def run_bootstrap_LIWC(i):\n",
    "    cols = [\"LIWC_analytic\", \"LIWC_authentic\", \"LIWC_moral\",\n",
    "            \"VADER_pos\", \"VADER_neg\"]\n",
    "    newcols = [\n",
    "        \"year\", \"month\", \"party\", \n",
    "        \"LIWC_analytic_sum\", \"LIWC_analytic_count\",\n",
    "        \"LIWC_authentic_sum\", \"LIWC_authentic_count\",\n",
    "        \"LIWC_moral_sum\", \"LIWC_moral_count\",\n",
    "        \"VADER_pos_sum\", \"VADER_pos_count\",\n",
    "        \"VADER_neg_sum\", \"VADER_neg_count\"\n",
    "    ]\n",
    "    \n",
    "    df_sample = tweets.sample(frac=1, replace=True, random_state=i)\n",
    "    grouping = df_sample[cols + [\"party\"]]\\\n",
    "        .groupby(by=[df_sample.index.year, df_sample.index.month, \"party\"])\\\n",
    "        .agg([\"sum\", \"count\"])\n",
    "\n",
    "    grouping.index.set_names([\"year\", \"month\", \"party\"], inplace=True)\n",
    "    grouping = grouping.reset_index()\n",
    "    grouping.columns = newcols\n",
    "    for col in cols:\n",
    "        grouping[f\"{col}_share\"] = grouping[f\"{col}_sum\"] / \\\n",
    "            grouping[f\"{col}_count\"]\n",
    "    grouping[\"run\"] = i\n",
    "    \n",
    "    belief_subset = df_sample[df_sample[\"belief\"] == 1]\n",
    "    truth_subset = df_sample[df_sample[\"truth\"] == 1]\n",
    "    neutral_belief_subset = df_sample[df_sample[\"neutral_belief\"] == 1]\n",
    "    neutral_truth_subset = df_sample[df_sample[\"neutral_truth\"] == 1]\n",
    "    \n",
    "    belief_grouping = belief_subset[cols + [\"party\"]]\\\n",
    "        .groupby(by=[belief_subset.index.year, belief_subset.index.month, \"party\"])\\\n",
    "        .agg([\"sum\", \"count\"])\n",
    "    belief_grouping.index.set_names([\"year\", \"month\", \"party\"], inplace=True)\n",
    "    belief_grouping = belief_grouping.reset_index()\n",
    "    belief_grouping.columns = newcols\n",
    "    for col in cols:\n",
    "        belief_grouping[f\"{col}_share\"] = belief_grouping[f\"{col}_sum\"] / \\\n",
    "            belief_grouping[f\"{col}_count\"]\n",
    "    belief_grouping[\"run\"] = i\n",
    "    \n",
    "    truth_grouping = truth_subset[cols + [\"party\"]]\\\n",
    "        .groupby(by=[truth_subset.index.year, truth_subset.index.month, \"party\"])\\\n",
    "        .agg([\"sum\", \"count\"])\n",
    "    truth_grouping.index.set_names([\"year\", \"month\", \"party\"], inplace=True)\n",
    "    truth_grouping = truth_grouping.reset_index()\n",
    "    truth_grouping.columns = newcols\n",
    "    for col in cols:\n",
    "        truth_grouping[f\"{col}_share\"] = truth_grouping[f\"{col}_sum\"] / \\\n",
    "            truth_grouping[f\"{col}_count\"]\n",
    "    truth_grouping[\"run\"] = i\n",
    "    \n",
    "    neutral_belief_grouping = neutral_belief_subset[cols + [\"party\"]]\\\n",
    "        .groupby(by=[neutral_belief_subset.index.year, neutral_belief_subset.index.month, \"party\"])\\\n",
    "        .agg([\"sum\", \"count\"])\n",
    "    neutral_belief_grouping.index.set_names([\"year\", \"month\", \"party\"], inplace=True)\n",
    "    neutral_belief_grouping = neutral_belief_grouping.reset_index()\n",
    "    neutral_belief_grouping.columns = newcols\n",
    "    for col in cols:\n",
    "        neutral_belief_grouping[f\"{col}_share\"] = neutral_belief_grouping[f\"{col}_sum\"] / \\\n",
    "            neutral_belief_grouping[f\"{col}_count\"]\n",
    "    neutral_belief_grouping[\"run\"] = i\n",
    "    \n",
    "    neutral_truth_grouping = neutral_truth_subset[cols + [\"party\"]]\\\n",
    "        .groupby(by=[neutral_truth_subset.index.year, neutral_truth_subset.index.month, \"party\"])\\\n",
    "        .agg([\"sum\", \"count\"])\n",
    "    neutral_truth_grouping.index.set_names([\"year\", \"month\", \"party\"], inplace=True)\n",
    "    neutral_truth_grouping = neutral_truth_grouping.reset_index()\n",
    "    neutral_truth_grouping.columns = newcols\n",
    "    for col in cols:\n",
    "        neutral_truth_grouping[f\"{col}_share\"] = neutral_truth_grouping[f\"{col}_sum\"] / \\\n",
    "            neutral_truth_grouping[f\"{col}_count\"]\n",
    "    neutral_truth_grouping[\"run\"] = i\n",
    "    \n",
    "    return grouping, belief_grouping, truth_grouping, \\\n",
    "           neutral_belief_grouping, neutral_truth_grouping"
   ]
  },
  {
   "cell_type": "code",
   "execution_count": 18,
   "id": "ab94a13b-e3eb-4c3f-928f-f414f2c3dc20",
   "metadata": {},
   "outputs": [
    {
     "name": "stderr",
     "output_type": "stream",
     "text": [
      "100%|█████████████████████████████████████████████████████████████████████████████████████████████████████████████████████████████████████████████████████████████████████████████████████████████████████████████████████████████████████████████████| 1000/1000 [15:59<00:00,  1.04it/s]\n"
     ]
    }
   ],
   "source": [
    "LIWC_bootstrap = pd.DataFrame()\n",
    "LIWC_belief_bootstrap = pd.DataFrame()\n",
    "LIWC_truth_bootstrap = pd.DataFrame()\n",
    "LIWC_neutral_belief_bootstrap = pd.DataFrame()\n",
    "LIWC_neutral_truth_bootstrap = pd.DataFrame()\n",
    "pool = Pool(10)\n",
    "N_bootstrap = 1000\n",
    "\n",
    "for tmp1, tmp2, tmp3, tmp4, tmp5 in tqdm(pool.imap_unordered(\n",
    "    func=run_bootstrap_LIWC, \n",
    "    iterable=range(N_bootstrap)), \n",
    "    total=N_bootstrap):\n",
    "        LIWC_bootstrap = pd.concat([LIWC_bootstrap, tmp1])\n",
    "        LIWC_belief_bootstrap = pd.concat([LIWC_belief_bootstrap, tmp2])\n",
    "        LIWC_truth_bootstrap = pd.concat([LIWC_truth_bootstrap, tmp3])\n",
    "        LIWC_neutral_belief_bootstrap = pd.concat([LIWC_neutral_belief_bootstrap, tmp4])\n",
    "        LIWC_neutral_truth_bootstrap = pd.concat([LIWC_neutral_truth_bootstrap, tmp5])\n",
    "        \n",
    "LIWC_bootstrap = LIWC_bootstrap.reset_index(drop=True)\n",
    "LIWC_belief_bootstrap = LIWC_belief_bootstrap.reset_index(drop=True)\n",
    "LIWC_truth_bootstrap = LIWC_truth_bootstrap.reset_index(drop=True)\n",
    "LIWC_neutral_belief_bootstrap = LIWC_neutral_belief_bootstrap.reset_index(drop=True)\n",
    "LIWC_neutral_truth_bootstrap = LIWC_neutral_truth_bootstrap.reset_index(drop=True)\n",
    "\n",
    "fname = \"LIWC.csv.gzip\"\n",
    "LIWC_bootstrap.to_csv(join(dst, fname), index=False, compression=\"gzip\")\n",
    "fname = \"LIWC_belief.csv.gzip\"\n",
    "LIWC_belief_bootstrap.to_csv(join(dst, fname), index=False, compression=\"gzip\")\n",
    "fname = \"LIWC_truth.csv.gzip\"\n",
    "LIWC_truth_bootstrap.to_csv(join(dst, fname), index=False, compression=\"gzip\")\n",
    "fname = \"LIWC_neutral_belief.csv.gzip\"\n",
    "LIWC_neutral_belief_bootstrap.to_csv(join(dst, fname), index=False, compression=\"gzip\")\n",
    "fname = \"LIWC_neutral_truth.csv.gzip\"\n",
    "LIWC_neutral_truth_bootstrap.to_csv(join(dst, fname), index=False, compression=\"gzip\")\n",
    "pool.close()"
   ]
  },
  {
   "cell_type": "code",
   "execution_count": 19,
   "id": "fd963d7b-8bfe-4d67-8fb3-fad3cff97c43",
   "metadata": {},
   "outputs": [],
   "source": [
    "del tweets"
   ]
  },
  {
   "cell_type": "markdown",
   "id": "287bf7fb-2583-4756-8dd9-887e6b9671f1",
   "metadata": {},
   "source": [
    "# URLs"
   ]
  },
  {
   "cell_type": "code",
   "execution_count": 19,
   "id": "335c9ab6-10a1-4443-8d8b-7ba5c48fe95e",
   "metadata": {},
   "outputs": [],
   "source": [
    "src = \"../../data/urls\"\n",
    "fname = \"urls.csv.gzip\"\n",
    "urls = pd.read_csv(\n",
    "    join(src, fname),\n",
    "    compression=\"gzip\",\n",
    "    parse_dates=[\"created_at\"]\n",
    ")"
   ]
  },
  {
   "cell_type": "code",
   "execution_count": 21,
   "id": "d02df2c8-f607-4eca-a3ec-26612ca6997c",
   "metadata": {},
   "outputs": [],
   "source": [
    "# drop entries without an honesty component score\n",
    "urls = urls.dropna(subset=[\"avg_belief_score\", \"avg_truth_score\"])"
   ]
  },
  {
   "cell_type": "code",
   "execution_count": 22,
   "id": "682354cb-a400-4d55-9de2-5ef07a73b139",
   "metadata": {},
   "outputs": [],
   "source": [
    "urls[\"has_NG_score\"] = False\n",
    "urls.loc[urls[\"NG_score\"].dropna().index, \"has_NG_score\"] = True\n",
    "urls[\"has_independent_score\"] = False\n",
    "urls.loc[urls[\"independent_unreliable\"].dropna().index, \"has_independent_score\"] = True"
   ]
  },
  {
   "cell_type": "code",
   "execution_count": 23,
   "id": "f9982eba-35be-474a-a365-6cc11811ba45",
   "metadata": {},
   "outputs": [],
   "source": [
    "urls = urls.set_index(\"created_at\")"
   ]
  },
  {
   "cell_type": "markdown",
   "id": "adba6993-d572-45e9-ab4c-333474e7d022",
   "metadata": {},
   "source": [
    "## NewsGuard coverage"
   ]
  },
  {
   "cell_type": "code",
   "execution_count": 24,
   "id": "fda14b13-21fd-42cb-9f48-9026f957f48f",
   "metadata": {},
   "outputs": [],
   "source": [
    "def run_bootstrap_NG_coverage(i):\n",
    "    url_sample = urls.sample(frac=1, replace=True)\n",
    "    coverage = url_sample[[\"has_NG_score\", \"party\"]]\\\n",
    "        .groupby(by=[url_sample.index.year, url_sample.index.month, \"party\"])\\\n",
    "        .agg([\"sum\", \"count\"])\n",
    "\n",
    "    coverage.index.set_names([\"year\", \"month\", \"party\"], inplace=True)\n",
    "    coverage = coverage.reset_index()\n",
    "    coverage.columns = [\"year\", \"month\", \"party\", \"has_NG_score_sum\", \"has_NG_score_count\"]\n",
    "    coverage[\"NG_coverage\"] = coverage[\"has_NG_score_sum\"] / coverage[\"has_NG_score_count\"]\n",
    "    coverage[\"run\"] = i\n",
    "    return coverage"
   ]
  },
  {
   "cell_type": "code",
   "execution_count": 25,
   "id": "f5865906-2e3c-4cfe-8923-e8d3d985bef1",
   "metadata": {},
   "outputs": [
    {
     "name": "stderr",
     "output_type": "stream",
     "text": [
      "100%|█████████████████████████████████████████████████████████████████████████████████████████████████████████████████████████████████████████████████████████████████████████████████████████████████████████████████████████████████████████████████| 1000/1000 [00:50<00:00, 19.94it/s]\n"
     ]
    }
   ],
   "source": [
    "fname = \"NG_coverage.csv.gzip\"\n",
    "pool = Pool(10)\n",
    "N_bootstrap = 1000\n",
    "NG_coverage_bootstrap = pd.DataFrame()\n",
    "for tmp in tqdm(pool.imap_unordered(\n",
    "    func=run_bootstrap_NG_coverage, \n",
    "    iterable = range(N_bootstrap)), \n",
    "    total = N_bootstrap):\n",
    "        NG_coverage_bootstrap = pd.concat([NG_coverage_bootstrap, tmp])\n",
    "NG_coverage_bootstrap = NG_coverage_bootstrap.reset_index(drop=True)\n",
    "NG_coverage_bootstrap.to_csv(join(dst, fname), index=False, compression=\"gzip\")\n",
    "pool.close()"
   ]
  },
  {
   "cell_type": "markdown",
   "id": "59b8e66a-c336-48f8-b860-d958f736f855",
   "metadata": {},
   "source": [
    "## Independent list coverage"
   ]
  },
  {
   "cell_type": "code",
   "execution_count": 26,
   "id": "946f7a68-2980-4c26-bb98-9ba26a57ed5f",
   "metadata": {},
   "outputs": [],
   "source": [
    "def run_bootstrap_independent_coverage(i):\n",
    "    url_sample = urls.sample(frac=1, replace=True)\n",
    "    coverage = url_sample[[\"has_independent_score\", \"party\"]]\\\n",
    "        .groupby(by=[url_sample.index.year, url_sample.index.month, \"party\"])\\\n",
    "        .agg([\"sum\", \"count\"])\n",
    "\n",
    "    coverage.index.set_names([\"year\", \"month\", \"party\"], inplace=True)\n",
    "    coverage = coverage.reset_index()\n",
    "    coverage.columns = [\"year\", \"month\", \"party\", \"has_independent_score_sum\", \"has_independent_score_count\"]\n",
    "    coverage[\"independent_coverage\"] = coverage[\"has_independent_score_sum\"] / coverage[\"has_independent_score_count\"]\n",
    "    coverage[\"run\"] = i\n",
    "    return coverage"
   ]
  },
  {
   "cell_type": "code",
   "execution_count": 27,
   "id": "990d9cdf-0f53-4b99-9cf8-2756016362c9",
   "metadata": {},
   "outputs": [
    {
     "name": "stderr",
     "output_type": "stream",
     "text": [
      "100%|█████████████████████████████████████████████████████████████████████████████████████████████████████████████████████████████████████████████████████████████████████████████████████████████████████████████████████████████████████████████████| 1000/1000 [00:50<00:00, 19.62it/s]\n"
     ]
    }
   ],
   "source": [
    "fname = \"independent_coverage.csv.gzip\"\n",
    "N_bootstrap = 1000\n",
    "pool = Pool(10)\n",
    "independent_coverage_bootstrap = pd.DataFrame()\n",
    "for tmp in tqdm(pool.imap_unordered(\n",
    "    func=run_bootstrap_independent_coverage, \n",
    "    iterable = range(N_bootstrap)), \n",
    "    total = N_bootstrap):\n",
    "        independent_coverage_bootstrap = pd.concat([independent_coverage_bootstrap, tmp])\n",
    "independent_coverage_bootstrap = independent_coverage_bootstrap.reset_index(drop=True)\n",
    "independent_coverage_bootstrap.to_csv(join(dst, fname), index=False, compression=\"gzip\")\n",
    "pool.close()"
   ]
  },
  {
   "cell_type": "code",
   "execution_count": 28,
   "id": "a70ab179-ff7e-4ab3-b7c2-ccf49123e55f",
   "metadata": {},
   "outputs": [],
   "source": [
    "del urls"
   ]
  },
  {
   "cell_type": "markdown",
   "id": "bf71b5cc-e003-4fea-84ca-9dfacd9a6c5b",
   "metadata": {},
   "source": [
    "# Users"
   ]
  },
  {
   "cell_type": "code",
   "execution_count": 29,
   "id": "79cdf926-6d32-4338-95e7-964dfde71c03",
   "metadata": {},
   "outputs": [],
   "source": [
    "src = \"../../data/users\"\n",
    "fname = \"users.csv\"\n",
    "users = pd.read_csv(join(src, fname))"
   ]
  },
  {
   "cell_type": "markdown",
   "id": "6a7a6b00-17e4-4610-b445-289a1589ca2c",
   "metadata": {},
   "source": [
    "## Politifact, NG score & unreliable correlations"
   ]
  },
  {
   "cell_type": "code",
   "execution_count": 30,
   "id": "adaaabc8-2737-4ff9-929c-acdcc8caeb88",
   "metadata": {},
   "outputs": [],
   "source": [
    "def run_bootstrap_reliability_score_correlations(i):\n",
    "    user_sample = users.sample(frac=1, replace=True, random_state=i)\n",
    "    pf_bootstrap = pd.DataFrame({\n",
    "        \"corr_NGScore_pf\":[user_sample[[\"NG_score_mean\", \"pf_score\"]]\\\n",
    "                           .corr().loc[\"pf_score\"][0]],\n",
    "        \"corr_ind_pf\":[np.abs(user_sample[[\"independent_unreliable_share\", \"pf_score\"]]\\\n",
    "                           .corr().loc[\"pf_score\"][0])],\n",
    "        \"corr_NGScore_ind\":[np.abs(user_sample[[\"NG_score_mean\", \"independent_unreliable_share\"]]\\\n",
    "                           .corr().loc[\"independent_unreliable_share\"][0])],\n",
    "        \"corr_NGShare_pf\":[np.abs(user_sample[[\"NG_unreliable_share\", \"pf_score\"]]\\\n",
    "                           .corr().loc[\"pf_score\"][0])],\n",
    "        \"corr_NGShare_ind\":[np.abs(user_sample[[\"NG_unreliable_share\", \"independent_unreliable_share\"]]\\\n",
    "                           .corr().loc[\"independent_unreliable_share\"][0])],\n",
    "        \"corr_NGScore_NGShare\":[np.abs(user_sample[[\"NG_unreliable_share\", \"NG_score_mean\"]]\\\n",
    "                           .corr().loc[\"NG_score_mean\"][0])],\n",
    "        \"corr_NGScore_accuracy\":[np.abs(user_sample[[\"NG_unreliable_share\", \"accuracy_mean\"]]\\\n",
    "                           .corr().loc[\"accuracy_mean\"][0])],\n",
    "        \"corr_NGScore_transparency\":[np.abs(user_sample[[\"NG_unreliable_share\", \"transparency_mean\"]]\\\n",
    "                           .corr().loc[\"transparency_mean\"][0])],\n",
    "        \"run\":[i]\n",
    "    })\n",
    "    return pf_bootstrap"
   ]
  },
  {
   "cell_type": "code",
   "execution_count": 31,
   "id": "4dd531aa-ec28-4c28-8a59-5e7bdf0b35c7",
   "metadata": {},
   "outputs": [
    {
     "name": "stderr",
     "output_type": "stream",
     "text": [
      "100%|█████████████████████████████████████████████████████████████████████████████████████████████████████████████████████████████████████████████████████████████████████████████████████████████████████████████████████████████████████████████| 10000/10000 [00:07<00:00, 1255.71it/s]\n"
     ]
    }
   ],
   "source": [
    "fname = \"user_reliability_score_correlations.csv.gzip\"\n",
    "N_bootstrap = 10000\n",
    "pool = Pool(10)\n",
    "pf_bootstrap = pd.DataFrame()\n",
    "for tmp in tqdm(pool.imap_unordered(\n",
    "    func=run_bootstrap_reliability_score_correlations, \n",
    "    iterable = range(N_bootstrap)), \n",
    "    total = N_bootstrap):\n",
    "        pf_bootstrap = pd.concat([pf_bootstrap, tmp])\n",
    "pf_bootstrap = pf_bootstrap.reset_index(drop=True)\n",
    "pf_bootstrap.to_csv(join(dst, fname), index=False, compression=\"gzip\")\n",
    "pool.close()"
   ]
  },
  {
   "cell_type": "code",
   "execution_count": 32,
   "id": "585adc53-1b65-4acb-af52-26a10802687a",
   "metadata": {},
   "outputs": [],
   "source": [
    "del users"
   ]
  }
 ],
 "metadata": {
  "kernelspec": {
   "display_name": "Python 3 (ipykernel)",
   "language": "python",
   "name": "python3"
  },
  "language_info": {
   "codemirror_mode": {
    "name": "ipython",
    "version": 3
   },
   "file_extension": ".py",
   "mimetype": "text/x-python",
   "name": "python",
   "nbconvert_exporter": "python",
   "pygments_lexer": "ipython3",
   "version": "3.8.5"
  }
 },
 "nbformat": 4,
 "nbformat_minor": 5
}
