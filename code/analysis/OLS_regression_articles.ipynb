{
 "cells": [
  {
   "cell_type": "code",
   "execution_count": null,
   "id": "0a660bdd-fb3b-40b8-879a-5c599e64f31a",
   "metadata": {},
   "outputs": [],
   "source": [
    "# author: Jana Lasser & Almog Simchon"
   ]
  },
  {
   "cell_type": "code",
   "execution_count": 2,
   "id": "3730870a-9e0f-4f32-a089-15105b3d34b6",
   "metadata": {},
   "outputs": [],
   "source": [
    "import pandas as pd\n",
    "import numpy as np\n",
    "from os.path import join\n",
    "import statsmodels.api as sm\n",
    "import statsmodels.formula.api as smf\n",
    "from statsmodels.stats.stattools import durbin_watson\n",
    "from statsmodels.stats.outliers_influence import variance_inflation_factor\n",
    "from statsmodels.tools.tools import add_constant\n",
    "import matplotlib.pyplot as plt"
   ]
  },
  {
   "cell_type": "markdown",
   "id": "27fabf77-94c3-4528-bbdc-c7fcfad6a0cf",
   "metadata": {},
   "source": [
    "# OLS regression articles"
   ]
  },
  {
   "cell_type": "markdown",
   "id": "9feb679d-1eb2-43c9-ab39-b4d57ec3a680",
   "metadata": {},
   "source": [
    "## Regression table functionality"
   ]
  },
  {
   "cell_type": "code",
   "execution_count": 9,
   "id": "83eda48f-3c7d-492c-be7c-e39397c2b7dd",
   "metadata": {},
   "outputs": [],
   "source": [
    "table_header = '''\n",
    "\\\\begin{table}[]\n",
    "    \\\\footnotesize\n",
    "    \\\\centering\n",
    "    \\\\begin{tabular}{l|c|c|c|c|c|c}\n",
    "            & coef. & std. err. & $t$ & $P>\\\\vert t \\\\vert$ & [0.025 & 0.975] \\\\\\\\\n",
    "            \\\\toprule\n",
    "'''\n",
    "table_footer = '''\n",
    "            \\\\bottomrule\n",
    "    \\end{tabular}\n",
    "    \\caption{TODO}\n",
    "    \\label{tab:TODO}\n",
    "\\end{table}\n",
    "'''\n",
    "\n",
    "def make_regression_table(res, data, dep_col, name_map, decimals=3):\n",
    "    tab = table_header\n",
    "    conf_int = res.conf_int()\n",
    "    for var in conf_int.index:\n",
    "        varname = name_map[var]\n",
    "        coef = res.params[var]\n",
    "        stderr = res.bse[var]\n",
    "        t = res.tvalues[var]\n",
    "        pval = res.pvalues[var]\n",
    "        #if pval == 0: pval = \"$< 0.001$\"\n",
    "        ci_low = conf_int.loc[var][0]\n",
    "        ci_hi = conf_int.loc[var][1]\n",
    "        line = f\"\\t\\t{varname} & {coef:1.3f} & {stderr:1.3f} & {t:1.3f} & {pval:1.3f} & {ci_low:1.3f} & {ci_hi:1.3f} \\\\\\\\ \\n\"\n",
    "        tab += line\n",
    "        \n",
    "    tab += \"\\t\\t\\\\bottomrule \\n\"\n",
    "    mean_dep_var = data[dep_col].mean()\n",
    "    std_dep_var = data[dep_col].std()\n",
    "    line = f\"\\t\\t\\multicolumn{{2}}{{l}}{{R-squared}} & \\multicolumn{{1}}{{r}}{res.rsquared:1.3f} & \"\n",
    "    line += f\"\\multicolumn{{2}}{{l}}{{Mean dependent var}} & \\multicolumn{{2}}{{r}}{mean_dep_var:1.3f} \\\\\\\\ \\n\"\n",
    "    tab += line\n",
    "    line = f\"\\t\\t\\multicolumn{{2}}{{l}}{{Adjusted R-squared}} & \\multicolumn{{1}}{{r}}{res.rsquared_adj:1.3f} & \"\n",
    "    line += f\"\\multicolumn{{2}}{{l}}{{S.D. dependent var}} & \\multicolumn{{2}}{{r}}{std_dep_var:1.3f} \\\\\\\\ \\n\"\n",
    "    tab += line\n",
    "    line = f\"\\t\\t\\multicolumn{{2}}{{l}}{{Model MSE}} & \\multicolumn{{1}}{{r}}{res.mse_model:1.3f} & \"\n",
    "    line += f\"\\multicolumn{{2}}{{l}}{{AIC}} & \\multicolumn{{2}}{{r}}{res.aic:1.3f} \\\\\\\\ \\n\"\n",
    "    tab += line\n",
    "    line = f\"\\t\\t\\multicolumn{{2}}{{l}}{{Sum squared resid}} & \\multicolumn{{1}}{{r}}{res.ssr:1.3f} & \"\n",
    "    line += f\"\\multicolumn{{2}}{{l}}{{BIC}} & \\multicolumn{{2}}{{r}}{res.bic:1.3f} \\\\\\\\ \\n\"\n",
    "    tab += line\n",
    "    line = f\"\\t\\t\\multicolumn{{2}}{{l}}{{Log-likelihood}} & \\multicolumn{{1}}{{r}}{res.llf:1.3f} & \"\n",
    "    line += f\"\\multicolumn{{2}}{{l}}{{F-statistic}} & \\multicolumn{{2}}{{r}}{res.fvalue:1.3f} \\\\\\\\ \\n\"\n",
    "    tab += line\n",
    "    dw = durbin_watson(res.resid)\n",
    "    line = f\"\\t\\t\\multicolumn{{2}}{{l}}{{Durbin-Watson stat}} & \\multicolumn{{1}}{{r}}{dw:1.3f} & \"\n",
    "    line += f\"\\multicolumn{{2}}{{l}}{{Prob(F-statistic)}} & \\multicolumn{{2}}{{r}}{res.f_pvalue:1.3f} \\\\\\\\ \\n\"\n",
    "    tab += line\n",
    "    tab += table_footer\n",
    "    \n",
    "    return tab"
   ]
  },
  {
   "cell_type": "markdown",
   "id": "64fa3526-0e55-41fe-b900-aabf4b5a6382",
   "metadata": {},
   "source": [
    "## OLS regression NewsGuard score on belief & truth similarity"
   ]
  },
  {
   "cell_type": "code",
   "execution_count": 3,
   "id": "ecd2d7da-5dff-4dfa-9c60-44f007f487a3",
   "metadata": {},
   "outputs": [],
   "source": [
    "src = \"../../data/articles\"\n",
    "fname = \"articles.csv.gzip\"\n",
    "articles = pd.read_csv(join(src, fname), compression=\"gzip\")\n",
    "# filter for articles that have only been shared by one party\n",
    "articles = articles[articles[\"party_count\"] == 1]"
   ]
  },
  {
   "cell_type": "code",
   "execution_count": 4,
   "id": "911d4eaa-a520-41a7-b3cb-fb73d777c361",
   "metadata": {},
   "outputs": [],
   "source": [
    "# normalize and center the scores\n",
    "articles[\"NG_score\"] = articles[\"NG_score\"] / 100\n",
    "articles[\"avg_belief_score\"] = articles[\"avg_belief_score\"] - \\\n",
    "    articles[\"avg_belief_score\"].mean()\n",
    "articles[\"avg_truth_score\"] = articles[\"avg_truth_score\"] - \\\n",
    "    articles[\"avg_truth_score\"].mean()"
   ]
  },
  {
   "cell_type": "code",
   "execution_count": 5,
   "id": "74b42483-fdd5-4284-a86b-6c49ba4b1e23",
   "metadata": {},
   "outputs": [
    {
     "name": "stdout",
     "output_type": "stream",
     "text": [
      "                                                       Coef.  Std.Err.  \\\n",
      "Intercept                                           0.945342  0.000428   \n",
      "party[T.Republican]                                -0.093835  0.000676   \n",
      "avg_belief_score                                   -0.002277  0.007632   \n",
      "party[T.Republican]:avg_belief_score               -0.339251  0.012057   \n",
      "avg_truth_score                                     0.016746  0.008399   \n",
      "party[T.Republican]:avg_truth_score                 0.172206  0.013259   \n",
      "avg_belief_score:avg_truth_score                    0.146949  0.020161   \n",
      "party[T.Republican]:avg_belief_score:avg_truth_... -0.063404  0.035111   \n",
      "\n",
      "                                                              t  \\\n",
      "Intercept                                           2208.290601   \n",
      "party[T.Republican]                                 -138.898371   \n",
      "avg_belief_score                                      -0.298330   \n",
      "party[T.Republican]:avg_belief_score                 -28.138367   \n",
      "avg_truth_score                                        1.993889   \n",
      "party[T.Republican]:avg_truth_score                   12.987476   \n",
      "avg_belief_score:avg_truth_score                       7.288588   \n",
      "party[T.Republican]:avg_belief_score:avg_truth_...    -1.805840   \n",
      "\n",
      "                                                            P>|t|    [0.025  \\\n",
      "Intercept                                            0.000000e+00  0.944503   \n",
      "party[T.Republican]                                  0.000000e+00 -0.095159   \n",
      "avg_belief_score                                     7.654519e-01 -0.017236   \n",
      "party[T.Republican]:avg_belief_score                9.284533e-174 -0.362882   \n",
      "avg_truth_score                                      4.616601e-02  0.000285   \n",
      "party[T.Republican]:avg_truth_score                  1.510577e-38  0.146218   \n",
      "avg_belief_score:avg_truth_score                     3.147263e-13  0.107433   \n",
      "party[T.Republican]:avg_belief_score:avg_truth_...   7.094526e-02 -0.132220   \n",
      "\n",
      "                                                      0.975]  \n",
      "Intercept                                           0.946181  \n",
      "party[T.Republican]                                -0.092511  \n",
      "avg_belief_score                                    0.012682  \n",
      "party[T.Republican]:avg_belief_score               -0.315621  \n",
      "avg_truth_score                                     0.033207  \n",
      "party[T.Republican]:avg_truth_score                 0.198194  \n",
      "avg_belief_score:avg_truth_score                    0.186465  \n",
      "party[T.Republican]:avg_belief_score:avg_truth_...  0.005412  \n"
     ]
    }
   ],
   "source": [
    "mod = smf.ols(formula='NG_score ~ avg_belief_score + avg_truth_score + party + party * avg_belief_score + party * avg_truth_score + party * avg_belief_score * avg_truth_score', data=articles)\n",
    "res = mod.fit()\n",
    "print(res.summary2().tables[1])"
   ]
  },
  {
   "cell_type": "code",
   "execution_count": 7,
   "id": "075e269a-9db1-4180-985c-a264209fa1b0",
   "metadata": {},
   "outputs": [
    {
     "data": {
      "text/html": [
       "<table class=\"simpletable\">\n",
       "<caption>OLS Regression Results</caption>\n",
       "<tr>\n",
       "  <th>Dep. Variable:</th>        <td>NG_score</td>     <th>  R-squared:         </th>  <td>   0.132</td> \n",
       "</tr>\n",
       "<tr>\n",
       "  <th>Model:</th>                   <td>OLS</td>       <th>  Adj. R-squared:    </th>  <td>   0.132</td> \n",
       "</tr>\n",
       "<tr>\n",
       "  <th>Method:</th>             <td>Least Squares</td>  <th>  F-statistic:       </th>  <td>   3319.</td> \n",
       "</tr>\n",
       "<tr>\n",
       "  <th>Date:</th>             <td>Tue, 06 Dec 2022</td> <th>  Prob (F-statistic):</th>   <td>  0.00</td>  \n",
       "</tr>\n",
       "<tr>\n",
       "  <th>Time:</th>                 <td>08:37:43</td>     <th>  Log-Likelihood:    </th> <td>1.0268e+05</td>\n",
       "</tr>\n",
       "<tr>\n",
       "  <th>No. Observations:</th>      <td>152532</td>      <th>  AIC:               </th> <td>-2.053e+05</td>\n",
       "</tr>\n",
       "<tr>\n",
       "  <th>Df Residuals:</th>          <td>152524</td>      <th>  BIC:               </th> <td>-2.053e+05</td>\n",
       "</tr>\n",
       "<tr>\n",
       "  <th>Df Model:</th>              <td>     7</td>      <th>                     </th>      <td> </td>    \n",
       "</tr>\n",
       "<tr>\n",
       "  <th>Covariance Type:</th>      <td>nonrobust</td>    <th>                     </th>      <td> </td>    \n",
       "</tr>\n",
       "</table>\n",
       "<table class=\"simpletable\">\n",
       "<tr>\n",
       "                            <td></td>                              <th>coef</th>     <th>std err</th>      <th>t</th>      <th>P>|t|</th>  <th>[0.025</th>    <th>0.975]</th>  \n",
       "</tr>\n",
       "<tr>\n",
       "  <th>Intercept</th>                                            <td>    0.9453</td> <td>    0.000</td> <td> 2208.291</td> <td> 0.000</td> <td>    0.945</td> <td>    0.946</td>\n",
       "</tr>\n",
       "<tr>\n",
       "  <th>party[T.Republican]</th>                                  <td>   -0.0938</td> <td>    0.001</td> <td> -138.898</td> <td> 0.000</td> <td>   -0.095</td> <td>   -0.093</td>\n",
       "</tr>\n",
       "<tr>\n",
       "  <th>avg_belief_score</th>                                     <td>   -0.0023</td> <td>    0.008</td> <td>   -0.298</td> <td> 0.765</td> <td>   -0.017</td> <td>    0.013</td>\n",
       "</tr>\n",
       "<tr>\n",
       "  <th>party[T.Republican]:avg_belief_score</th>                 <td>   -0.3393</td> <td>    0.012</td> <td>  -28.138</td> <td> 0.000</td> <td>   -0.363</td> <td>   -0.316</td>\n",
       "</tr>\n",
       "<tr>\n",
       "  <th>avg_truth_score</th>                                      <td>    0.0167</td> <td>    0.008</td> <td>    1.994</td> <td> 0.046</td> <td>    0.000</td> <td>    0.033</td>\n",
       "</tr>\n",
       "<tr>\n",
       "  <th>party[T.Republican]:avg_truth_score</th>                  <td>    0.1722</td> <td>    0.013</td> <td>   12.987</td> <td> 0.000</td> <td>    0.146</td> <td>    0.198</td>\n",
       "</tr>\n",
       "<tr>\n",
       "  <th>avg_belief_score:avg_truth_score</th>                     <td>    0.1469</td> <td>    0.020</td> <td>    7.289</td> <td> 0.000</td> <td>    0.107</td> <td>    0.186</td>\n",
       "</tr>\n",
       "<tr>\n",
       "  <th>party[T.Republican]:avg_belief_score:avg_truth_score</th> <td>   -0.0634</td> <td>    0.035</td> <td>   -1.806</td> <td> 0.071</td> <td>   -0.132</td> <td>    0.005</td>\n",
       "</tr>\n",
       "</table>\n",
       "<table class=\"simpletable\">\n",
       "<tr>\n",
       "  <th>Omnibus:</th>       <td>61732.956</td> <th>  Durbin-Watson:     </th>  <td>   1.344</td> \n",
       "</tr>\n",
       "<tr>\n",
       "  <th>Prob(Omnibus):</th>  <td> 0.000</td>   <th>  Jarque-Bera (JB):  </th> <td>359930.215</td>\n",
       "</tr>\n",
       "<tr>\n",
       "  <th>Skew:</th>           <td>-1.864</td>   <th>  Prob(JB):          </th>  <td>    0.00</td> \n",
       "</tr>\n",
       "<tr>\n",
       "  <th>Kurtosis:</th>       <td> 9.537</td>   <th>  Cond. No.          </th>  <td>    131.</td> \n",
       "</tr>\n",
       "</table><br/><br/>Notes:<br/>[1] Standard Errors assume that the covariance matrix of the errors is correctly specified."
      ],
      "text/plain": [
       "<class 'statsmodels.iolib.summary.Summary'>\n",
       "\"\"\"\n",
       "                            OLS Regression Results                            \n",
       "==============================================================================\n",
       "Dep. Variable:               NG_score   R-squared:                       0.132\n",
       "Model:                            OLS   Adj. R-squared:                  0.132\n",
       "Method:                 Least Squares   F-statistic:                     3319.\n",
       "Date:                Tue, 06 Dec 2022   Prob (F-statistic):               0.00\n",
       "Time:                        08:37:43   Log-Likelihood:             1.0268e+05\n",
       "No. Observations:              152532   AIC:                        -2.053e+05\n",
       "Df Residuals:                  152524   BIC:                        -2.053e+05\n",
       "Df Model:                           7                                         \n",
       "Covariance Type:            nonrobust                                         \n",
       "========================================================================================================================\n",
       "                                                           coef    std err          t      P>|t|      [0.025      0.975]\n",
       "------------------------------------------------------------------------------------------------------------------------\n",
       "Intercept                                                0.9453      0.000   2208.291      0.000       0.945       0.946\n",
       "party[T.Republican]                                     -0.0938      0.001   -138.898      0.000      -0.095      -0.093\n",
       "avg_belief_score                                        -0.0023      0.008     -0.298      0.765      -0.017       0.013\n",
       "party[T.Republican]:avg_belief_score                    -0.3393      0.012    -28.138      0.000      -0.363      -0.316\n",
       "avg_truth_score                                          0.0167      0.008      1.994      0.046       0.000       0.033\n",
       "party[T.Republican]:avg_truth_score                      0.1722      0.013     12.987      0.000       0.146       0.198\n",
       "avg_belief_score:avg_truth_score                         0.1469      0.020      7.289      0.000       0.107       0.186\n",
       "party[T.Republican]:avg_belief_score:avg_truth_score    -0.0634      0.035     -1.806      0.071      -0.132       0.005\n",
       "==============================================================================\n",
       "Omnibus:                    61732.956   Durbin-Watson:                   1.344\n",
       "Prob(Omnibus):                  0.000   Jarque-Bera (JB):           359930.215\n",
       "Skew:                          -1.864   Prob(JB):                         0.00\n",
       "Kurtosis:                       9.537   Cond. No.                         131.\n",
       "==============================================================================\n",
       "\n",
       "Notes:\n",
       "[1] Standard Errors assume that the covariance matrix of the errors is correctly specified.\n",
       "\"\"\""
      ]
     },
     "execution_count": 7,
     "metadata": {},
     "output_type": "execute_result"
    }
   ],
   "source": [
    "res.summary()"
   ]
  },
  {
   "cell_type": "code",
   "execution_count": 11,
   "id": "3b05573b-d114-4c62-84ff-e44a69ee8871",
   "metadata": {},
   "outputs": [
    {
     "data": {
      "text/plain": [
       "153910"
      ]
     },
     "execution_count": 11,
     "metadata": {},
     "output_type": "execute_result"
    }
   ],
   "source": [
    "len(articles)"
   ]
  },
  {
   "cell_type": "code",
   "execution_count": 10,
   "id": "827c4178-6c29-4ac8-8620-137c955aa766",
   "metadata": {},
   "outputs": [],
   "source": [
    "name_map = {\n",
    "    \"Intercept\":\"Intercept\",\n",
    "    \"party[T.Republican]\":\"Republican\",\n",
    "    \"avg_belief_score\":\"$D_\\\\mathrm{b}$\",\n",
    "    \"avg_belief_score:avg_truth_score\":\"$D_\\\\mathrm{b}$ \\\\times $D_\\\\mathrm{t}$\",\n",
    "    \"party[T.Republican]:avg_belief_score\":\"Republican $\\\\times$ $D_\\\\mathrm{b}$\",\n",
    "    \"avg_truth_score\":\"$D_\\\\mathrm{t}$\",\n",
    "    \"party[T.Republican]:avg_truth_score\":\"Rep. $\\\\times$ $D_\\\\mathrm{t}$\",\n",
    "    \"party[T.Republican]:avg_belief_score:avg_truth_score\":\"Rep. $\\\\times$ $D_\\\\mathrm{b}$ $\\\\times$ $D_\\\\mathrm{t}$\"\n",
    "}\n",
    "\n",
    "tab = make_regression_table(res, articles, \"NG_score\", name_map)\n",
    "dst = \"../../tables\"\n",
    "fname = \"OLS_table_article_NG_score.txt\"\n",
    "with open(join(dst, fname), \"w\") as f:\n",
    "    f.write(tab)"
   ]
  },
  {
   "cell_type": "markdown",
   "id": "6f81d953-02cc-4332-a271-1ca0de12d435",
   "metadata": {},
   "source": [
    "## Prediction"
   ]
  },
  {
   "cell_type": "code",
   "execution_count": 31,
   "id": "2bdf5b67-d649-4ac2-812c-4987de0906a8",
   "metadata": {},
   "outputs": [],
   "source": [
    "honesty_component_score = np.arange(-1.0, 0.4, 0.01)\n",
    "N = len(honesty_component_score)\n",
    "belief_pred_df_dem = pd.DataFrame({\n",
    "    \"avg_belief_score\":honesty_component_score,\n",
    "    \"party\":[\"Democrat\"] * N,\n",
    "    \"avg_truth_score\":[articles[\"avg_truth_score\"].mean()] * N\n",
    "})\n",
    "belief_pred_df_rep = pd.DataFrame({\n",
    "    \"avg_belief_score\":honesty_component_score,\n",
    "    \"party\":[\"Republican\"] * N,\n",
    "    \"avg_truth_score\":[articles[\"avg_truth_score\"].mean()] * N\n",
    "})\n",
    "truth_pred_df_dem = pd.DataFrame({\n",
    "    \"avg_truth_score\":honesty_component_score,\n",
    "    \"party\":[\"Democrat\"] * N,\n",
    "    \"avg_belief_score\":[articles[\"avg_belief_score\"].mean()] * N\n",
    "})\n",
    "truth_pred_df_rep = pd.DataFrame({\n",
    "    \"avg_truth_score\":honesty_component_score,\n",
    "    \"party\":[\"Republican\"] * N,\n",
    "    \"avg_belief_score\":[articles[\"avg_belief_score\"].mean()] * N\n",
    "})"
   ]
  },
  {
   "cell_type": "code",
   "execution_count": 32,
   "id": "0d75f44c-16e0-409f-b0dd-cecb9045c136",
   "metadata": {},
   "outputs": [],
   "source": [
    "belief_pred_dem = res.get_prediction(belief_pred_df_dem)\n",
    "belief_pred_rep = res.get_prediction(belief_pred_df_rep)\n",
    "truth_pred_dem = res.get_prediction(truth_pred_df_dem)\n",
    "truth_pred_rep = res.get_prediction(truth_pred_df_rep)\n",
    "\n",
    "belief_pred_dem = belief_pred_dem.summary_frame(alpha=0.05)\n",
    "belief_pred_dem[\"party\"] = \"Democrat\"\n",
    "belief_pred_dem[\"honesty_component\"] = \"belief\"\n",
    "belief_pred_rep = belief_pred_rep.summary_frame(alpha=0.05)\n",
    "belief_pred_rep[\"party\"] = \"Republican\"\n",
    "belief_pred_rep[\"honesty_component\"] = \"belief\"\n",
    "truth_pred_dem = truth_pred_dem.summary_frame(alpha=0.05)\n",
    "truth_pred_dem[\"party\"] = \"Democrat\"\n",
    "truth_pred_dem[\"honesty_component\"] = \"truth\"\n",
    "truth_pred_rep = truth_pred_rep.summary_frame(alpha=0.05)\n",
    "truth_pred_rep[\"party\"] = \"Republican\"\n",
    "truth_pred_rep[\"honesty_component\"] = \"truth\""
   ]
  },
  {
   "cell_type": "code",
   "execution_count": 33,
   "id": "8d6ee6d2-9fe0-4813-9b8a-89a24096abfd",
   "metadata": {},
   "outputs": [],
   "source": [
    "for df in [belief_pred_dem, belief_pred_rep]:\n",
    "    df[\"belief\"] = honesty_component_score\n",
    "    df[\"truth\"] = np.nan\n",
    "    df[\"honesty_component\"] = \"belief\"\n",
    "    df.rename(columns={\"mean\":\"NG\", \"mean_ci_lower\":\"ymin\", \"mean_ci_upper\":\"ymax\"}, inplace=True)\n",
    "for df in [truth_pred_dem, truth_pred_rep]:\n",
    "    df[\"belief\"] = np.nan\n",
    "    df[\"truth\"] = honesty_component_score\n",
    "    df[\"honesty_component\"] = \"truth\"\n",
    "    df.rename(columns={\"mean\":\"NG\", \"mean_ci_lower\":\"ymin\", \"mean_ci_upper\":\"ymax\"}, inplace=True)"
   ]
  },
  {
   "cell_type": "code",
   "execution_count": 34,
   "id": "0ec04ec1-7a0e-49e1-97a4-1dd6bba9236e",
   "metadata": {},
   "outputs": [],
   "source": [
    "dst = \"../../data/articles\"\n",
    "fname = \"OLS_predictions_articles.csv\"\n",
    "cols = [\"NG\", \"belief\", \"truth\", \"ymin\", \"ymax\", \"party\", \"honesty_component\"]\n",
    "predictions = pd.concat([\n",
    "    belief_pred_dem[cols],\n",
    "    belief_pred_rep[cols],\n",
    "    truth_pred_dem[cols],\n",
    "    truth_pred_rep[cols]\n",
    "]).reset_index(drop=True)\n",
    "predictions.to_csv(join(dst, fname), index=False)"
   ]
  }
 ],
 "metadata": {
  "kernelspec": {
   "display_name": "Python 3 (ipykernel)",
   "language": "python",
   "name": "python3"
  },
  "language_info": {
   "codemirror_mode": {
    "name": "ipython",
    "version": 3
   },
   "file_extension": ".py",
   "mimetype": "text/x-python",
   "name": "python",
   "nbconvert_exporter": "python",
   "pygments_lexer": "ipython3",
   "version": "3.8.5"
  }
 },
 "nbformat": 4,
 "nbformat_minor": 5
}
