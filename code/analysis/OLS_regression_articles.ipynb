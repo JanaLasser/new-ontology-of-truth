{
 "cells": [
  {
   "cell_type": "code",
   "execution_count": null,
   "id": "0a660bdd-fb3b-40b8-879a-5c599e64f31a",
   "metadata": {},
   "outputs": [],
   "source": [
    "# author: Jana Lasser & Almog Simchon"
   ]
  },
  {
   "cell_type": "code",
   "execution_count": 1,
   "id": "3730870a-9e0f-4f32-a089-15105b3d34b6",
   "metadata": {},
   "outputs": [],
   "source": [
    "import pandas as pd\n",
    "import numpy as np\n",
    "from os.path import join\n",
    "import statsmodels.api as sm\n",
    "import statsmodels.formula.api as smf\n",
    "from statsmodels.stats.stattools import durbin_watson\n",
    "from statsmodels.stats.outliers_influence import variance_inflation_factor\n",
    "from statsmodels.tools.tools import add_constant"
   ]
  },
  {
   "cell_type": "markdown",
   "id": "27fabf77-94c3-4528-bbdc-c7fcfad6a0cf",
   "metadata": {},
   "source": [
    "# OLS regression articles"
   ]
  },
  {
   "cell_type": "markdown",
   "id": "9feb679d-1eb2-43c9-ab39-b4d57ec3a680",
   "metadata": {},
   "source": [
    "## Regression table functionality"
   ]
  },
  {
   "cell_type": "code",
   "execution_count": 2,
   "id": "83eda48f-3c7d-492c-be7c-e39397c2b7dd",
   "metadata": {},
   "outputs": [],
   "source": [
    "table_header = '''\n",
    "\\\\begin{table}[]\n",
    "    \\\\footnotesize\n",
    "    \\\\centering\n",
    "    \\\\begin{tabular}{l|c|c|c|c|c|c}\n",
    "            & coef. & std. err. & $t$ & $P>\\\\vert t \\\\vert$ & [0.025 & 0.975] \\\\\\\\\n",
    "            \\\\toprule\n",
    "'''\n",
    "table_footer = '''\n",
    "            \\\\bottomrule\n",
    "    \\end{tabular}\n",
    "    \\caption{TODO}\n",
    "    \\label{tab:TODO}\n",
    "\\end{table}\n",
    "'''\n",
    "\n",
    "def make_regression_table(res, data, dep_col, name_map, decimals=3):\n",
    "    tab = table_header\n",
    "    conf_int = res.conf_int()\n",
    "    for var in conf_int.index:\n",
    "        varname = name_map[var]\n",
    "        coef = res.params[var]\n",
    "        stderr = res.bse[var]\n",
    "        t = res.tvalues[var]\n",
    "        pval = res.pvalues[var]\n",
    "        #if pval == 0: pval = \"$< 0.001$\"\n",
    "        ci_low = conf_int.loc[var][0]\n",
    "        ci_hi = conf_int.loc[var][1]\n",
    "        line = f\"\\t\\t{varname} & {coef:1.3f} & {stderr:1.3f} & {t:1.3f} & {pval:1.3f} & {ci_low:1.3f} & {ci_hi:1.3f} \\\\\\\\ \\n\"\n",
    "        tab += line\n",
    "        \n",
    "    tab += \"\\t\\t\\\\bottomrule \\n\"\n",
    "    mean_dep_var = data[dep_col].mean()\n",
    "    std_dep_var = data[dep_col].std()\n",
    "    line = f\"\\t\\t\\multicolumn{{2}}{{l}}{{R-squared}} & \\multicolumn{{1}}{{r}}{res.rsquared:1.3f} & \"\n",
    "    line += f\"\\multicolumn{{2}}{{l}}{{Mean dependent var}} & \\multicolumn{{2}}{{r}}{mean_dep_var:1.3f} \\\\\\\\ \\n\"\n",
    "    tab += line\n",
    "    line = f\"\\t\\t\\multicolumn{{2}}{{l}}{{Adjusted R-squared}} & \\multicolumn{{1}}{{r}}{res.rsquared_adj:1.3f} & \"\n",
    "    line += f\"\\multicolumn{{2}}{{l}}{{S.D. dependent var}} & \\multicolumn{{2}}{{r}}{std_dep_var:1.3f} \\\\\\\\ \\n\"\n",
    "    tab += line\n",
    "    line = f\"\\t\\t\\multicolumn{{2}}{{l}}{{Model MSE}} & \\multicolumn{{1}}{{r}}{res.mse_model:1.3f} & \"\n",
    "    line += f\"\\multicolumn{{2}}{{l}}{{AIC}} & \\multicolumn{{2}}{{r}}{res.aic:1.3f} \\\\\\\\ \\n\"\n",
    "    tab += line\n",
    "    line = f\"\\t\\t\\multicolumn{{2}}{{l}}{{Sum squared resid}} & \\multicolumn{{1}}{{r}}{res.ssr:1.3f} & \"\n",
    "    line += f\"\\multicolumn{{2}}{{l}}{{BIC}} & \\multicolumn{{2}}{{r}}{res.bic:1.3f} \\\\\\\\ \\n\"\n",
    "    tab += line\n",
    "    line = f\"\\t\\t\\multicolumn{{2}}{{l}}{{Log-likelihood}} & \\multicolumn{{1}}{{r}}{res.llf:1.3f} & \"\n",
    "    line += f\"\\multicolumn{{2}}{{l}}{{F-statistic}} & \\multicolumn{{2}}{{r}}{res.fvalue:1.3f} \\\\\\\\ \\n\"\n",
    "    tab += line\n",
    "    dw = durbin_watson(res.resid)\n",
    "    line = f\"\\t\\t\\multicolumn{{2}}{{l}}{{Durbin-Watson stat}} & \\multicolumn{{1}}{{r}}{dw:1.3f} & \"\n",
    "    line += f\"\\multicolumn{{2}}{{l}}{{Prob(F-statistic)}} & \\multicolumn{{2}}{{r}}{res.f_pvalue:1.3f} \\\\\\\\ \\n\"\n",
    "    tab += line\n",
    "    tab += table_footer\n",
    "    \n",
    "    return tab"
   ]
  },
  {
   "cell_type": "markdown",
   "id": "64fa3526-0e55-41fe-b900-aabf4b5a6382",
   "metadata": {},
   "source": [
    "## OLS regression NewsGuard score on belief & truth similarity"
   ]
  },
  {
   "cell_type": "code",
   "execution_count": 31,
   "id": "ecd2d7da-5dff-4dfa-9c60-44f007f487a3",
   "metadata": {},
   "outputs": [],
   "source": [
    "src = \"../../data/articles\"\n",
    "fname = \"articles.csv.gzip\"\n",
    "articles = pd.read_csv(join(src, fname), compression=\"gzip\")\n",
    "# filter for articles that have only been shared by one party\n",
    "articles = articles[articles[\"party_count\"] == 1]\n",
    "articles = articles.dropna()"
   ]
  },
  {
   "cell_type": "code",
   "execution_count": 32,
   "id": "911d4eaa-a520-41a7-b3cb-fb73d777c361",
   "metadata": {},
   "outputs": [],
   "source": [
    "# normalize score\n",
    "articles[\"NG_score\"] = articles[\"NG_score\"] / 100"
   ]
  },
  {
   "cell_type": "code",
   "execution_count": 33,
   "id": "86606e84-33e5-461f-984f-2ec5ccdc39ea",
   "metadata": {},
   "outputs": [
    {
     "name": "stdout",
     "output_type": "stream",
     "text": [
      "                                                       Coef.  Std.Err.  \\\n",
      "Intercept                                           0.955607  0.000329   \n",
      "party[T.Republican]                                -0.099173  0.000537   \n",
      "avg_belief_score                                   -0.065092  0.009861   \n",
      "party[T.Republican]:avg_belief_score               -0.539981  0.015997   \n",
      "avg_truth_score                                     0.025702  0.011246   \n",
      "party[T.Republican]:avg_truth_score                 0.110374  0.018452   \n",
      "avg_belief_score:avg_truth_score                    0.065859  0.023888   \n",
      "party[T.Republican]:avg_belief_score:avg_truth_... -0.594276  0.040067   \n",
      "\n",
      "                                                              t  \\\n",
      "Intercept                                           2904.316104   \n",
      "party[T.Republican]                                 -184.755779   \n",
      "avg_belief_score                                      -6.601216   \n",
      "party[T.Republican]:avg_belief_score                 -33.754864   \n",
      "avg_truth_score                                        2.285446   \n",
      "party[T.Republican]:avg_truth_score                    5.981766   \n",
      "avg_belief_score:avg_truth_score                       2.757036   \n",
      "party[T.Republican]:avg_belief_score:avg_truth_...   -14.832082   \n",
      "\n",
      "                                                            P>|t|    [0.025  \\\n",
      "Intercept                                            0.000000e+00  0.954963   \n",
      "party[T.Republican]                                  0.000000e+00 -0.100226   \n",
      "avg_belief_score                                     4.085721e-11 -0.084419   \n",
      "party[T.Republican]:avg_belief_score                3.129776e-249 -0.571335   \n",
      "avg_truth_score                                      2.228750e-02  0.003660   \n",
      "party[T.Republican]:avg_truth_score                  2.210167e-09  0.074209   \n",
      "avg_belief_score:avg_truth_score                     5.833193e-03  0.019040   \n",
      "party[T.Republican]:avg_belief_score:avg_truth_...   9.520632e-50 -0.672806   \n",
      "\n",
      "                                                      0.975]  \n",
      "Intercept                                           0.956252  \n",
      "party[T.Republican]                                -0.098121  \n",
      "avg_belief_score                                   -0.045766  \n",
      "party[T.Republican]:avg_belief_score               -0.508627  \n",
      "avg_truth_score                                     0.047744  \n",
      "party[T.Republican]:avg_truth_score                 0.146539  \n",
      "avg_belief_score:avg_truth_score                    0.112678  \n",
      "party[T.Republican]:avg_belief_score:avg_truth_... -0.515746  \n"
     ]
    }
   ],
   "source": [
    "mod = smf.ols(formula='NG_score ~ avg_belief_score + avg_truth_score + party + party * avg_belief_score + party * avg_truth_score + party * avg_belief_score * avg_truth_score', data=articles)\n",
    "res = mod.fit()\n",
    "print(res.summary2().tables[1])"
   ]
  },
  {
   "cell_type": "code",
   "execution_count": 34,
   "id": "075e269a-9db1-4180-985c-a264209fa1b0",
   "metadata": {},
   "outputs": [
    {
     "data": {
      "text/html": [
       "<table class=\"simpletable\">\n",
       "<caption>OLS Regression Results</caption>\n",
       "<tr>\n",
       "  <th>Dep. Variable:</th>        <td>NG_score</td>     <th>  R-squared:         </th>  <td>   0.152</td> \n",
       "</tr>\n",
       "<tr>\n",
       "  <th>Model:</th>                   <td>OLS</td>       <th>  Adj. R-squared:    </th>  <td>   0.152</td> \n",
       "</tr>\n",
       "<tr>\n",
       "  <th>Method:</th>             <td>Least Squares</td>  <th>  F-statistic:       </th>  <td>   6701.</td> \n",
       "</tr>\n",
       "<tr>\n",
       "  <th>Date:</th>             <td>Sat, 11 Mar 2023</td> <th>  Prob (F-statistic):</th>   <td>  0.00</td>  \n",
       "</tr>\n",
       "<tr>\n",
       "  <th>Time:</th>                 <td>12:42:41</td>     <th>  Log-Likelihood:    </th> <td>1.7439e+05</td>\n",
       "</tr>\n",
       "<tr>\n",
       "  <th>No. Observations:</th>      <td>261765</td>      <th>  AIC:               </th> <td>-3.488e+05</td>\n",
       "</tr>\n",
       "<tr>\n",
       "  <th>Df Residuals:</th>          <td>261757</td>      <th>  BIC:               </th> <td>-3.487e+05</td>\n",
       "</tr>\n",
       "<tr>\n",
       "  <th>Df Model:</th>              <td>     7</td>      <th>                     </th>      <td> </td>    \n",
       "</tr>\n",
       "<tr>\n",
       "  <th>Covariance Type:</th>      <td>nonrobust</td>    <th>                     </th>      <td> </td>    \n",
       "</tr>\n",
       "</table>\n",
       "<table class=\"simpletable\">\n",
       "<tr>\n",
       "                            <td></td>                              <th>coef</th>     <th>std err</th>      <th>t</th>      <th>P>|t|</th>  <th>[0.025</th>    <th>0.975]</th>  \n",
       "</tr>\n",
       "<tr>\n",
       "  <th>Intercept</th>                                            <td>    0.9556</td> <td>    0.000</td> <td> 2904.316</td> <td> 0.000</td> <td>    0.955</td> <td>    0.956</td>\n",
       "</tr>\n",
       "<tr>\n",
       "  <th>party[T.Republican]</th>                                  <td>   -0.0992</td> <td>    0.001</td> <td> -184.756</td> <td> 0.000</td> <td>   -0.100</td> <td>   -0.098</td>\n",
       "</tr>\n",
       "<tr>\n",
       "  <th>avg_belief_score</th>                                     <td>   -0.0651</td> <td>    0.010</td> <td>   -6.601</td> <td> 0.000</td> <td>   -0.084</td> <td>   -0.046</td>\n",
       "</tr>\n",
       "<tr>\n",
       "  <th>party[T.Republican]:avg_belief_score</th>                 <td>   -0.5400</td> <td>    0.016</td> <td>  -33.755</td> <td> 0.000</td> <td>   -0.571</td> <td>   -0.509</td>\n",
       "</tr>\n",
       "<tr>\n",
       "  <th>avg_truth_score</th>                                      <td>    0.0257</td> <td>    0.011</td> <td>    2.285</td> <td> 0.022</td> <td>    0.004</td> <td>    0.048</td>\n",
       "</tr>\n",
       "<tr>\n",
       "  <th>party[T.Republican]:avg_truth_score</th>                  <td>    0.1104</td> <td>    0.018</td> <td>    5.982</td> <td> 0.000</td> <td>    0.074</td> <td>    0.147</td>\n",
       "</tr>\n",
       "<tr>\n",
       "  <th>avg_belief_score:avg_truth_score</th>                     <td>    0.0659</td> <td>    0.024</td> <td>    2.757</td> <td> 0.006</td> <td>    0.019</td> <td>    0.113</td>\n",
       "</tr>\n",
       "<tr>\n",
       "  <th>party[T.Republican]:avg_belief_score:avg_truth_score</th> <td>   -0.5943</td> <td>    0.040</td> <td>  -14.832</td> <td> 0.000</td> <td>   -0.673</td> <td>   -0.516</td>\n",
       "</tr>\n",
       "</table>\n",
       "<table class=\"simpletable\">\n",
       "<tr>\n",
       "  <th>Omnibus:</th>       <td>110696.989</td> <th>  Durbin-Watson:     </th>  <td>   1.451</td> \n",
       "</tr>\n",
       "<tr>\n",
       "  <th>Prob(Omnibus):</th>   <td> 0.000</td>   <th>  Jarque-Bera (JB):  </th> <td>668620.294</td>\n",
       "</tr>\n",
       "<tr>\n",
       "  <th>Skew:</th>            <td>-1.951</td>   <th>  Prob(JB):          </th>  <td>    0.00</td> \n",
       "</tr>\n",
       "<tr>\n",
       "  <th>Kurtosis:</th>        <td> 9.788</td>   <th>  Cond. No.          </th>  <td>    196.</td> \n",
       "</tr>\n",
       "</table><br/><br/>Notes:<br/>[1] Standard Errors assume that the covariance matrix of the errors is correctly specified."
      ],
      "text/plain": [
       "<class 'statsmodels.iolib.summary.Summary'>\n",
       "\"\"\"\n",
       "                            OLS Regression Results                            \n",
       "==============================================================================\n",
       "Dep. Variable:               NG_score   R-squared:                       0.152\n",
       "Model:                            OLS   Adj. R-squared:                  0.152\n",
       "Method:                 Least Squares   F-statistic:                     6701.\n",
       "Date:                Sat, 11 Mar 2023   Prob (F-statistic):               0.00\n",
       "Time:                        12:42:41   Log-Likelihood:             1.7439e+05\n",
       "No. Observations:              261765   AIC:                        -3.488e+05\n",
       "Df Residuals:                  261757   BIC:                        -3.487e+05\n",
       "Df Model:                           7                                         \n",
       "Covariance Type:            nonrobust                                         \n",
       "========================================================================================================================\n",
       "                                                           coef    std err          t      P>|t|      [0.025      0.975]\n",
       "------------------------------------------------------------------------------------------------------------------------\n",
       "Intercept                                                0.9556      0.000   2904.316      0.000       0.955       0.956\n",
       "party[T.Republican]                                     -0.0992      0.001   -184.756      0.000      -0.100      -0.098\n",
       "avg_belief_score                                        -0.0651      0.010     -6.601      0.000      -0.084      -0.046\n",
       "party[T.Republican]:avg_belief_score                    -0.5400      0.016    -33.755      0.000      -0.571      -0.509\n",
       "avg_truth_score                                          0.0257      0.011      2.285      0.022       0.004       0.048\n",
       "party[T.Republican]:avg_truth_score                      0.1104      0.018      5.982      0.000       0.074       0.147\n",
       "avg_belief_score:avg_truth_score                         0.0659      0.024      2.757      0.006       0.019       0.113\n",
       "party[T.Republican]:avg_belief_score:avg_truth_score    -0.5943      0.040    -14.832      0.000      -0.673      -0.516\n",
       "==============================================================================\n",
       "Omnibus:                   110696.989   Durbin-Watson:                   1.451\n",
       "Prob(Omnibus):                  0.000   Jarque-Bera (JB):           668620.294\n",
       "Skew:                          -1.951   Prob(JB):                         0.00\n",
       "Kurtosis:                       9.788   Cond. No.                         196.\n",
       "==============================================================================\n",
       "\n",
       "Notes:\n",
       "[1] Standard Errors assume that the covariance matrix of the errors is correctly specified.\n",
       "\"\"\""
      ]
     },
     "execution_count": 34,
     "metadata": {},
     "output_type": "execute_result"
    }
   ],
   "source": [
    "res.summary()"
   ]
  },
  {
   "cell_type": "code",
   "execution_count": 35,
   "id": "3b05573b-d114-4c62-84ff-e44a69ee8871",
   "metadata": {},
   "outputs": [
    {
     "data": {
      "text/plain": [
       "261765"
      ]
     },
     "execution_count": 35,
     "metadata": {},
     "output_type": "execute_result"
    }
   ],
   "source": [
    "len(articles)"
   ]
  },
  {
   "cell_type": "code",
   "execution_count": 36,
   "id": "827c4178-6c29-4ac8-8620-137c955aa766",
   "metadata": {},
   "outputs": [],
   "source": [
    "name_map = {\n",
    "    \"Intercept\":\"Intercept\",\n",
    "    \"party[T.Republican]\":\"Republican\",\n",
    "    \"avg_belief_score\":\"$D_\\\\mathrm{b}$\",\n",
    "    \"avg_belief_score:avg_truth_score\":\"$D_\\\\mathrm{b}$ \\\\times $D_\\\\mathrm{t}$\",\n",
    "    \"party[T.Republican]:avg_belief_score\":\"Republican $\\\\times$ $D_\\\\mathrm{b}$\",\n",
    "    \"avg_truth_score\":\"$D_\\\\mathrm{t}$\",\n",
    "    \"party[T.Republican]:avg_truth_score\":\"Rep. $\\\\times$ $D_\\\\mathrm{t}$\",\n",
    "    \"party[T.Republican]:avg_belief_score:avg_truth_score\":\"Rep. $\\\\times$ $D_\\\\mathrm{b}$ $\\\\times$ $D_\\\\mathrm{t}$\"\n",
    "}\n",
    "\n",
    "tab = make_regression_table(res, articles, \"NG_score\", name_map)\n",
    "dst = \"../../tables\"\n",
    "fname = \"OLS_table_article_NG_score.txt\"\n",
    "with open(join(dst, fname), \"w\") as f:\n",
    "    f.write(tab)"
   ]
  },
  {
   "cell_type": "markdown",
   "id": "6f81d953-02cc-4332-a271-1ca0de12d435",
   "metadata": {},
   "source": [
    "## Prediction"
   ]
  },
  {
   "cell_type": "code",
   "execution_count": 27,
   "id": "2bdf5b67-d649-4ac2-812c-4987de0906a8",
   "metadata": {},
   "outputs": [],
   "source": [
    "honesty_component_score = np.arange(-1.0, 0.4, 0.01)\n",
    "N = len(honesty_component_score)\n",
    "belief_pred_df_dem = pd.DataFrame({\n",
    "    \"avg_belief_score\":honesty_component_score,\n",
    "    \"party\":[\"Democrat\"] * N,\n",
    "    \"avg_truth_score\":[articles[\"avg_truth_score\"].mean()] * N\n",
    "})\n",
    "belief_pred_df_rep = pd.DataFrame({\n",
    "    \"avg_belief_score\":honesty_component_score,\n",
    "    \"party\":[\"Republican\"] * N,\n",
    "    \"avg_truth_score\":[articles[\"avg_truth_score\"].mean()] * N\n",
    "})\n",
    "truth_pred_df_dem = pd.DataFrame({\n",
    "    \"avg_truth_score\":honesty_component_score,\n",
    "    \"party\":[\"Democrat\"] * N,\n",
    "    \"avg_belief_score\":[articles[\"avg_belief_score\"].mean()] * N\n",
    "})\n",
    "truth_pred_df_rep = pd.DataFrame({\n",
    "    \"avg_truth_score\":honesty_component_score,\n",
    "    \"party\":[\"Republican\"] * N,\n",
    "    \"avg_belief_score\":[articles[\"avg_belief_score\"].mean()] * N\n",
    "})"
   ]
  },
  {
   "cell_type": "code",
   "execution_count": 28,
   "id": "0d75f44c-16e0-409f-b0dd-cecb9045c136",
   "metadata": {},
   "outputs": [],
   "source": [
    "belief_pred_dem = res.get_prediction(belief_pred_df_dem)\n",
    "belief_pred_rep = res.get_prediction(belief_pred_df_rep)\n",
    "truth_pred_dem = res.get_prediction(truth_pred_df_dem)\n",
    "truth_pred_rep = res.get_prediction(truth_pred_df_rep)\n",
    "\n",
    "belief_pred_dem = belief_pred_dem.summary_frame(alpha=0.05)\n",
    "belief_pred_dem[\"party\"] = \"Democrat\"\n",
    "belief_pred_dem[\"honesty_component\"] = \"belief\"\n",
    "belief_pred_rep = belief_pred_rep.summary_frame(alpha=0.05)\n",
    "belief_pred_rep[\"party\"] = \"Republican\"\n",
    "belief_pred_rep[\"honesty_component\"] = \"belief\"\n",
    "truth_pred_dem = truth_pred_dem.summary_frame(alpha=0.05)\n",
    "truth_pred_dem[\"party\"] = \"Democrat\"\n",
    "truth_pred_dem[\"honesty_component\"] = \"truth\"\n",
    "truth_pred_rep = truth_pred_rep.summary_frame(alpha=0.05)\n",
    "truth_pred_rep[\"party\"] = \"Republican\"\n",
    "truth_pred_rep[\"honesty_component\"] = \"truth\""
   ]
  },
  {
   "cell_type": "code",
   "execution_count": 29,
   "id": "8d6ee6d2-9fe0-4813-9b8a-89a24096abfd",
   "metadata": {},
   "outputs": [],
   "source": [
    "for df in [belief_pred_dem, belief_pred_rep]:\n",
    "    df[\"belief\"] = honesty_component_score\n",
    "    df[\"truth\"] = np.nan\n",
    "    df[\"honesty_component\"] = \"belief\"\n",
    "    df.rename(columns={\"mean\":\"NG\", \"mean_ci_lower\":\"ymin\", \"mean_ci_upper\":\"ymax\"}, inplace=True)\n",
    "for df in [truth_pred_dem, truth_pred_rep]:\n",
    "    df[\"belief\"] = np.nan\n",
    "    df[\"truth\"] = honesty_component_score\n",
    "    df[\"honesty_component\"] = \"truth\"\n",
    "    df.rename(columns={\"mean\":\"NG\", \"mean_ci_lower\":\"ymin\", \"mean_ci_upper\":\"ymax\"}, inplace=True)"
   ]
  },
  {
   "cell_type": "code",
   "execution_count": 30,
   "id": "0ec04ec1-7a0e-49e1-97a4-1dd6bba9236e",
   "metadata": {},
   "outputs": [],
   "source": [
    "dst = \"../../data/articles\"\n",
    "fname = \"OLS_predictions_articles.csv\"\n",
    "cols = [\"NG\", \"belief\", \"truth\", \"ymin\", \"ymax\", \"party\", \"honesty_component\"]\n",
    "predictions = pd.concat([\n",
    "    belief_pred_dem[cols],\n",
    "    belief_pred_rep[cols],\n",
    "    truth_pred_dem[cols],\n",
    "    truth_pred_rep[cols]\n",
    "]).reset_index(drop=True)\n",
    "predictions.to_csv(join(dst, fname), index=False)"
   ]
  }
 ],
 "metadata": {
  "kernelspec": {
   "display_name": "Python 3 (ipykernel)",
   "language": "python",
   "name": "python3"
  },
  "language_info": {
   "codemirror_mode": {
    "name": "ipython",
    "version": 3
   },
   "file_extension": ".py",
   "mimetype": "text/x-python",
   "name": "python",
   "nbconvert_exporter": "python",
   "pygments_lexer": "ipython3",
   "version": "3.8.5"
  }
 },
 "nbformat": 4,
 "nbformat_minor": 5
}
