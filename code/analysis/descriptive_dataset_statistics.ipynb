{
 "cells": [
  {
   "cell_type": "code",
   "execution_count": null,
   "id": "7de817cf-ff4a-4a08-877c-c013c76dc81b",
   "metadata": {},
   "outputs": [],
   "source": [
    "# author: Jana Lasser"
   ]
  },
  {
   "cell_type": "code",
   "execution_count": 3,
   "id": "26e9175d-186a-4a27-bc9a-ef0b6163cb67",
   "metadata": {},
   "outputs": [],
   "source": [
    "import pandas as pd\n",
    "import numpy as np\n",
    "from pathlib import Path\n",
    "import matplotlib.pyplot as plt\n",
    "import numpy as np\n",
    "import krippendorff\n",
    "import pingouin as pt\n",
    "from scipy.stats import pearsonr"
   ]
  },
  {
   "cell_type": "code",
   "execution_count": 2,
   "id": "31232873-b52b-43f5-a60f-61eb98e5b66f",
   "metadata": {},
   "outputs": [
    {
     "name": "stderr",
     "output_type": "stream",
     "text": [
      "/home/jana/anaconda3/lib/python3.8/site-packages/outdated/utils.py:14: OutdatedPackageWarning: The package outdated is out of date. Your version is 0.2.1, the latest is 0.2.2.\n",
      "Set the environment variable OUTDATED_IGNORE=1 to disable these warnings.\n",
      "  return warn(\n"
     ]
    }
   ],
   "source": [
    "# colors\n",
    "demblue = \"#0015BC\"\n",
    "repred = \"#FF0000\"\n",
    "indgrey = \"#696969\""
   ]
  },
  {
   "cell_type": "markdown",
   "id": "99f33f65-6058-4b87-b27f-80c3e0fbef6a",
   "metadata": {},
   "source": [
    "# New York Times corpus"
   ]
  },
  {
   "cell_type": "markdown",
   "id": "ce58df21-d80b-46d1-9107-b74505d3742d",
   "metadata": {},
   "source": [
    "**Note**: the below code won't work if you haven't collected the NYT articles corpus yourself, since we can't share the data."
   ]
  },
  {
   "cell_type": "code",
   "execution_count": 25,
   "id": "5c25dab8-aa24-4143-a206-b9e40b14d8f5",
   "metadata": {},
   "outputs": [
    {
     "data": {
      "text/html": [
       "<div>\n",
       "<style scoped>\n",
       "    .dataframe tbody tr th:only-of-type {\n",
       "        vertical-align: middle;\n",
       "    }\n",
       "\n",
       "    .dataframe tbody tr th {\n",
       "        vertical-align: top;\n",
       "    }\n",
       "\n",
       "    .dataframe thead th {\n",
       "        text-align: right;\n",
       "    }\n",
       "</style>\n",
       "<table border=\"1\" class=\"dataframe\">\n",
       "  <thead>\n",
       "    <tr style=\"text-align: right;\">\n",
       "      <th></th>\n",
       "      <th>id</th>\n",
       "      <th>section</th>\n",
       "      <th>avg_truth_score</th>\n",
       "      <th>avg_belief_score</th>\n",
       "    </tr>\n",
       "  </thead>\n",
       "  <tbody>\n",
       "    <tr>\n",
       "      <th>0</th>\n",
       "      <td>4fd10a478eb7c8105d5bdb80</td>\n",
       "      <td>Politics</td>\n",
       "      <td>0.421069</td>\n",
       "      <td>0.502379</td>\n",
       "    </tr>\n",
       "    <tr>\n",
       "      <th>1</th>\n",
       "      <td>4fd10f2a8eb7c8105d5c4039</td>\n",
       "      <td>Politics</td>\n",
       "      <td>0.563957</td>\n",
       "      <td>0.516552</td>\n",
       "    </tr>\n",
       "    <tr>\n",
       "      <th>2</th>\n",
       "      <td>4fd10f2a8eb7c8105d5c407e</td>\n",
       "      <td>Opinion</td>\n",
       "      <td>0.618621</td>\n",
       "      <td>0.742473</td>\n",
       "    </tr>\n",
       "  </tbody>\n",
       "</table>\n",
       "</div>"
      ],
      "text/plain": [
       "                         id   section  avg_truth_score  avg_belief_score\n",
       "0  4fd10a478eb7c8105d5bdb80  Politics         0.421069          0.502379\n",
       "1  4fd10f2a8eb7c8105d5c4039  Politics         0.563957          0.516552\n",
       "2  4fd10f2a8eb7c8105d5c407e   Opinion         0.618621          0.742473"
      ]
     },
     "execution_count": 25,
     "metadata": {},
     "output_type": "execute_result"
    }
   ],
   "source": [
    "src = \"../../data/NYT/\"\n",
    "# get honesty scores\n",
    "fname = \"NYT_abstracts_honesty_component_scores_glove.csv.gzip\"\n",
    "honesty_scores = pd.read_csv(Path(src, fname), compression=\"gzip\")\n",
    "\n",
    "fname = \"NYT_abstracts.csv.gzip\"\n",
    "# get abstract categories\n",
    "cols = [\"id\", \"section\"]\n",
    "abstracts = pd.read_csv(Path(src, fname), compression=\"gzip\", usecols=cols)\n",
    "\n",
    "abstracts = pd.merge(\n",
    "    abstracts,\n",
    "    honesty_scores,\n",
    "    how=\"left\",\n",
    "    left_on=\"id\",\n",
    "    right_on=\"id\"\n",
    ")\n",
    "\n",
    "# merge categories\n",
    "abstracts[\"section\"] = abstracts[\"section\"].replace({\n",
    "    \"Climate\":\"Science\",\n",
    "    \"Education\":\"Science\",\n",
    "    \"Health\":\"Science\",\n",
    "    \"U.S.\":\"Politics\",\n",
    "    \"Washington\":\"Politics\",\n",
    "    \"World\":\"Politics\"\n",
    "})\n",
    "abstracts.head(3)"
   ]
  },
  {
   "cell_type": "code",
   "execution_count": 26,
   "id": "343fc76b-8403-42ce-90d9-fd8f0bf12ac1",
   "metadata": {},
   "outputs": [],
   "source": [
    "# calculate corpus means for belief-speaking and truth-seeking similarity\n",
    "belief_corpus_mean = abstracts[\"avg_belief_score\"].mean()\n",
    "truth_corpus_mean = abstracts[\"avg_truth_score\"].mean()"
   ]
  },
  {
   "cell_type": "code",
   "execution_count": 27,
   "id": "e892e771-a460-4a4a-9200-96c58373056b",
   "metadata": {},
   "outputs": [
    {
     "data": {
      "text/html": [
       "<div>\n",
       "<style scoped>\n",
       "    .dataframe tbody tr th:only-of-type {\n",
       "        vertical-align: middle;\n",
       "    }\n",
       "\n",
       "    .dataframe tbody tr th {\n",
       "        vertical-align: top;\n",
       "    }\n",
       "\n",
       "    .dataframe thead th {\n",
       "        text-align: right;\n",
       "    }\n",
       "</style>\n",
       "<table border=\"1\" class=\"dataframe\">\n",
       "  <thead>\n",
       "    <tr style=\"text-align: right;\">\n",
       "      <th></th>\n",
       "      <th>avg_belief_score</th>\n",
       "    </tr>\n",
       "    <tr>\n",
       "      <th>section</th>\n",
       "      <th></th>\n",
       "    </tr>\n",
       "  </thead>\n",
       "  <tbody>\n",
       "    <tr>\n",
       "      <th>Opinion</th>\n",
       "      <td>0.014221</td>\n",
       "    </tr>\n",
       "    <tr>\n",
       "      <th>Politics</th>\n",
       "      <td>-0.007335</td>\n",
       "    </tr>\n",
       "    <tr>\n",
       "      <th>Science</th>\n",
       "      <td>0.007502</td>\n",
       "    </tr>\n",
       "  </tbody>\n",
       "</table>\n",
       "</div>"
      ],
      "text/plain": [
       "          avg_belief_score\n",
       "section                   \n",
       "Opinion           0.014221\n",
       "Politics         -0.007335\n",
       "Science           0.007502"
      ]
     },
     "execution_count": 27,
     "metadata": {},
     "output_type": "execute_result"
    }
   ],
   "source": [
    "abstracts[[\"section\", \"avg_belief_score\"]].groupby(\"section\").mean() - belief_corpus_mean"
   ]
  },
  {
   "cell_type": "code",
   "execution_count": 28,
   "id": "dacb90f7-99c9-4a87-b8e8-c3b0ddff7cee",
   "metadata": {},
   "outputs": [
    {
     "data": {
      "text/html": [
       "<div>\n",
       "<style scoped>\n",
       "    .dataframe tbody tr th:only-of-type {\n",
       "        vertical-align: middle;\n",
       "    }\n",
       "\n",
       "    .dataframe tbody tr th {\n",
       "        vertical-align: top;\n",
       "    }\n",
       "\n",
       "    .dataframe thead th {\n",
       "        text-align: right;\n",
       "    }\n",
       "</style>\n",
       "<table border=\"1\" class=\"dataframe\">\n",
       "  <thead>\n",
       "    <tr style=\"text-align: right;\">\n",
       "      <th></th>\n",
       "      <th>avg_truth_score</th>\n",
       "    </tr>\n",
       "    <tr>\n",
       "      <th>section</th>\n",
       "      <th></th>\n",
       "    </tr>\n",
       "  </thead>\n",
       "  <tbody>\n",
       "    <tr>\n",
       "      <th>Opinion</th>\n",
       "      <td>0.005548</td>\n",
       "    </tr>\n",
       "    <tr>\n",
       "      <th>Politics</th>\n",
       "      <td>-0.007357</td>\n",
       "    </tr>\n",
       "    <tr>\n",
       "      <th>Science</th>\n",
       "      <td>0.048976</td>\n",
       "    </tr>\n",
       "  </tbody>\n",
       "</table>\n",
       "</div>"
      ],
      "text/plain": [
       "          avg_truth_score\n",
       "section                  \n",
       "Opinion          0.005548\n",
       "Politics        -0.007357\n",
       "Science          0.048976"
      ]
     },
     "execution_count": 28,
     "metadata": {},
     "output_type": "execute_result"
    }
   ],
   "source": [
    "abstracts[[\"section\", \"avg_truth_score\"]].groupby(\"section\").mean() - truth_corpus_mean"
   ]
  },
  {
   "cell_type": "code",
   "execution_count": 29,
   "id": "65f04107-bb69-4544-9ae1-26c1dcfb26b8",
   "metadata": {},
   "outputs": [],
   "source": [
    "del honesty_scores\n",
    "del abstracts"
   ]
  },
  {
   "cell_type": "markdown",
   "id": "f0d17e3f-75eb-41e6-a053-3d8e5471a303",
   "metadata": {},
   "source": [
    "# Users"
   ]
  },
  {
   "cell_type": "code",
   "execution_count": 30,
   "id": "a8372269-0c76-42ec-8830-61536b98a3f7",
   "metadata": {},
   "outputs": [
    {
     "data": {
      "text/html": [
       "<div>\n",
       "<style scoped>\n",
       "    .dataframe tbody tr th:only-of-type {\n",
       "        vertical-align: middle;\n",
       "    }\n",
       "\n",
       "    .dataframe tbody tr th {\n",
       "        vertical-align: top;\n",
       "    }\n",
       "\n",
       "    .dataframe thead th {\n",
       "        text-align: right;\n",
       "    }\n",
       "</style>\n",
       "<table border=\"1\" class=\"dataframe\">\n",
       "  <thead>\n",
       "    <tr style=\"text-align: right;\">\n",
       "      <th></th>\n",
       "      <th>handle</th>\n",
       "      <th>author_id</th>\n",
       "      <th>name</th>\n",
       "      <th>party</th>\n",
       "      <th>N_tweets</th>\n",
       "      <th>followers_count</th>\n",
       "      <th>following_count</th>\n",
       "      <th>tweet_count</th>\n",
       "      <th>created_at</th>\n",
       "      <th>congress</th>\n",
       "      <th>...</th>\n",
       "      <th>avg_truth_score_2019_to_2022</th>\n",
       "      <th>LIWC_analytic_mean</th>\n",
       "      <th>LIWC_authentic_mean</th>\n",
       "      <th>LIWC_emo_pos_mean</th>\n",
       "      <th>LIWC_emo_neg_mean</th>\n",
       "      <th>LIWC_moral_mean</th>\n",
       "      <th>ideology_mean</th>\n",
       "      <th>ideology_std</th>\n",
       "      <th>ideology_count</th>\n",
       "      <th>pf_score</th>\n",
       "    </tr>\n",
       "  </thead>\n",
       "  <tbody>\n",
       "    <tr>\n",
       "      <th>0</th>\n",
       "      <td>RepLipinski</td>\n",
       "      <td>1009269193</td>\n",
       "      <td>Former Rep. Daniel Lipinski</td>\n",
       "      <td>Democrat</td>\n",
       "      <td>3179</td>\n",
       "      <td>19893.0</td>\n",
       "      <td>2478.0</td>\n",
       "      <td>4359.0</td>\n",
       "      <td>2012-12-13 17:03:06+00:00</td>\n",
       "      <td>116.0</td>\n",
       "      <td>...</td>\n",
       "      <td>0.563447</td>\n",
       "      <td>82.752486</td>\n",
       "      <td>39.963044</td>\n",
       "      <td>1.228396</td>\n",
       "      <td>0.274875</td>\n",
       "      <td>0.598755</td>\n",
       "      <td>0.471657</td>\n",
       "      <td>0.055874</td>\n",
       "      <td>8.0</td>\n",
       "      <td>NaN</td>\n",
       "    </tr>\n",
       "    <tr>\n",
       "      <th>1</th>\n",
       "      <td>CaptClayHiggins</td>\n",
       "      <td>1011053278304592000</td>\n",
       "      <td>Clay Higgins</td>\n",
       "      <td>Republican</td>\n",
       "      <td>21</td>\n",
       "      <td>3289.0</td>\n",
       "      <td>156.0</td>\n",
       "      <td>24.0</td>\n",
       "      <td>2018-06-25 01:07:40+00:00</td>\n",
       "      <td>116.0</td>\n",
       "      <td>...</td>\n",
       "      <td>0.450737</td>\n",
       "      <td>55.855385</td>\n",
       "      <td>30.375385</td>\n",
       "      <td>0.788462</td>\n",
       "      <td>2.152308</td>\n",
       "      <td>3.519231</td>\n",
       "      <td>0.282969</td>\n",
       "      <td>0.041444</td>\n",
       "      <td>8.0</td>\n",
       "      <td>NaN</td>\n",
       "    </tr>\n",
       "    <tr>\n",
       "      <th>2</th>\n",
       "      <td>SenBillCassidy</td>\n",
       "      <td>1017500185356852992</td>\n",
       "      <td>U.S. Senator Bill Cassidy, M.D.</td>\n",
       "      <td>Republican</td>\n",
       "      <td>3691</td>\n",
       "      <td>49027.0</td>\n",
       "      <td>1420.0</td>\n",
       "      <td>5979.0</td>\n",
       "      <td>2018-07-12 20:05:23+00:00</td>\n",
       "      <td>116.0</td>\n",
       "      <td>...</td>\n",
       "      <td>0.557309</td>\n",
       "      <td>72.967450</td>\n",
       "      <td>37.168018</td>\n",
       "      <td>0.897189</td>\n",
       "      <td>0.411022</td>\n",
       "      <td>0.638981</td>\n",
       "      <td>0.797008</td>\n",
       "      <td>0.038197</td>\n",
       "      <td>8.0</td>\n",
       "      <td>0.05</td>\n",
       "    </tr>\n",
       "  </tbody>\n",
       "</table>\n",
       "<p>3 rows × 31 columns</p>\n",
       "</div>"
      ],
      "text/plain": [
       "            handle            author_id                             name  \\\n",
       "0      RepLipinski           1009269193      Former Rep. Daniel Lipinski   \n",
       "1  CaptClayHiggins  1011053278304592000                     Clay Higgins   \n",
       "2   SenBillCassidy  1017500185356852992  U.S. Senator Bill Cassidy, M.D.   \n",
       "\n",
       "        party  N_tweets  followers_count  following_count  tweet_count  \\\n",
       "0    Democrat      3179          19893.0           2478.0       4359.0   \n",
       "1  Republican        21           3289.0            156.0         24.0   \n",
       "2  Republican      3691          49027.0           1420.0       5979.0   \n",
       "\n",
       "                  created_at  congress  ... avg_truth_score_2019_to_2022  \\\n",
       "0  2012-12-13 17:03:06+00:00     116.0  ...                     0.563447   \n",
       "1  2018-06-25 01:07:40+00:00     116.0  ...                     0.450737   \n",
       "2  2018-07-12 20:05:23+00:00     116.0  ...                     0.557309   \n",
       "\n",
       "   LIWC_analytic_mean  LIWC_authentic_mean  LIWC_emo_pos_mean  \\\n",
       "0           82.752486            39.963044           1.228396   \n",
       "1           55.855385            30.375385           0.788462   \n",
       "2           72.967450            37.168018           0.897189   \n",
       "\n",
       "   LIWC_emo_neg_mean  LIWC_moral_mean  ideology_mean  ideology_std  \\\n",
       "0           0.274875         0.598755       0.471657      0.055874   \n",
       "1           2.152308         3.519231       0.282969      0.041444   \n",
       "2           0.411022         0.638981       0.797008      0.038197   \n",
       "\n",
       "   ideology_count  pf_score  \n",
       "0             8.0       NaN  \n",
       "1             8.0       NaN  \n",
       "2             8.0      0.05  \n",
       "\n",
       "[3 rows x 31 columns]"
      ]
     },
     "execution_count": 30,
     "metadata": {},
     "output_type": "execute_result"
    }
   ],
   "source": [
    "src = \"../../data/users\"\n",
    "fname = \"US_politician_accounts_2010-11-06_to_2022-03-16.csv\"\n",
    "users = pd.read_csv(Path(src, fname), dtype={\"author_id\":str})\n",
    "users.head(3)"
   ]
  },
  {
   "cell_type": "code",
   "execution_count": 35,
   "id": "4b28d7ff-5a44-46e0-8e1d-9c3783b110bf",
   "metadata": {},
   "outputs": [],
   "source": [
    "dem = users[users[\"party\"] == \"Democrat\"].copy()\n",
    "rep = users[users[\"party\"] == \"Republican\"].copy()"
   ]
  },
  {
   "cell_type": "markdown",
   "id": "ec953a60-9db8-4e5b-8bab-5b6272259497",
   "metadata": {},
   "source": [
    "## Number of Democrats and Republicans in both time periods"
   ]
  },
  {
   "cell_type": "code",
   "execution_count": 36,
   "id": "a6ad8912-5636-462a-be27-15d512673cc4",
   "metadata": {},
   "outputs": [
    {
     "data": {
      "text/plain": [
       "128"
      ]
     },
     "execution_count": 36,
     "metadata": {},
     "output_type": "execute_result"
    }
   ],
   "source": [
    "len(dem[\"avg_belief_score_2010_to_2013\"].dropna())"
   ]
  },
  {
   "cell_type": "code",
   "execution_count": 37,
   "id": "abbcdeae-3040-4bba-8a6d-a41abf0f6e6d",
   "metadata": {},
   "outputs": [
    {
     "data": {
      "text/plain": [
       "515"
      ]
     },
     "execution_count": 37,
     "metadata": {},
     "output_type": "execute_result"
    }
   ],
   "source": [
    "len(dem[\"avg_belief_score_2019_to_2022\"].dropna())"
   ]
  },
  {
   "cell_type": "code",
   "execution_count": 38,
   "id": "564bf480-1896-438c-8dbb-b52f39353870",
   "metadata": {},
   "outputs": [
    {
     "data": {
      "text/plain": [
       "166"
      ]
     },
     "execution_count": 38,
     "metadata": {},
     "output_type": "execute_result"
    }
   ],
   "source": [
    "len(rep[\"avg_belief_score_2010_to_2013\"].dropna())"
   ]
  },
  {
   "cell_type": "code",
   "execution_count": 39,
   "id": "86229a6c-5def-4c0f-a6d0-b8eea41da8c1",
   "metadata": {},
   "outputs": [
    {
     "data": {
      "text/plain": [
       "469"
      ]
     },
     "execution_count": 39,
     "metadata": {},
     "output_type": "execute_result"
    }
   ],
   "source": [
    "len(rep[\"avg_belief_score_2019_to_2022\"].dropna())"
   ]
  },
  {
   "cell_type": "markdown",
   "id": "05340be9-1463-45fe-8303-9cc4a17c8264",
   "metadata": {},
   "source": [
    "## Mean values of belief-speaking and truth-seeking similarity"
   ]
  },
  {
   "cell_type": "code",
   "execution_count": 40,
   "id": "96f0ce2c-e3d5-4974-97c6-f79b46e8c964",
   "metadata": {},
   "outputs": [
    {
     "data": {
      "text/plain": [
       "0.45141602245774337"
      ]
     },
     "execution_count": 40,
     "metadata": {},
     "output_type": "execute_result"
    }
   ],
   "source": [
    "dem[\"avg_belief_score_2010_to_2013\"].mean()"
   ]
  },
  {
   "cell_type": "code",
   "execution_count": 41,
   "id": "4241db87-cba4-4669-b296-2f8a851f72f5",
   "metadata": {},
   "outputs": [
    {
     "data": {
      "text/plain": [
       "0.5994718415031841"
      ]
     },
     "execution_count": 41,
     "metadata": {},
     "output_type": "execute_result"
    }
   ],
   "source": [
    "dem[\"avg_belief_score_2019_to_2022\"].mean()"
   ]
  },
  {
   "cell_type": "code",
   "execution_count": 42,
   "id": "aad59ae0-608b-4fb1-b202-82cb28bc442b",
   "metadata": {},
   "outputs": [
    {
     "data": {
      "text/plain": [
       "0.44126319259356717"
      ]
     },
     "execution_count": 42,
     "metadata": {},
     "output_type": "execute_result"
    }
   ],
   "source": [
    "rep[\"avg_belief_score_2010_to_2013\"].mean()"
   ]
  },
  {
   "cell_type": "code",
   "execution_count": 43,
   "id": "cdb0ea4d-f995-45cc-97dd-9067bfae02cd",
   "metadata": {},
   "outputs": [
    {
     "data": {
      "text/plain": [
       "0.5828170773628023"
      ]
     },
     "execution_count": 43,
     "metadata": {},
     "output_type": "execute_result"
    }
   ],
   "source": [
    "rep[\"avg_belief_score_2019_to_2022\"].mean()"
   ]
  },
  {
   "cell_type": "code",
   "execution_count": 44,
   "id": "b3fbcb7c-eb9a-4cdd-a519-3eca860ff317",
   "metadata": {},
   "outputs": [
    {
     "data": {
      "text/plain": [
       "0.3963573963208399"
      ]
     },
     "execution_count": 44,
     "metadata": {},
     "output_type": "execute_result"
    }
   ],
   "source": [
    "dem[\"avg_truth_score_2010_to_2013\"].mean()"
   ]
  },
  {
   "cell_type": "code",
   "execution_count": 45,
   "id": "8ba92760-6582-4168-b857-081ed7e9ea9e",
   "metadata": {},
   "outputs": [
    {
     "data": {
      "text/plain": [
       "0.5498971020328406"
      ]
     },
     "execution_count": 45,
     "metadata": {},
     "output_type": "execute_result"
    }
   ],
   "source": [
    "dem[\"avg_truth_score_2019_to_2022\"].mean()"
   ]
  },
  {
   "cell_type": "code",
   "execution_count": 46,
   "id": "a2a34b4d-163d-4fd3-aec2-d6bf003fc93a",
   "metadata": {},
   "outputs": [
    {
     "data": {
      "text/plain": [
       "0.3865088406629971"
      ]
     },
     "execution_count": 46,
     "metadata": {},
     "output_type": "execute_result"
    }
   ],
   "source": [
    "rep[\"avg_truth_score_2010_to_2013\"].mean()"
   ]
  },
  {
   "cell_type": "code",
   "execution_count": 47,
   "id": "aa19acfc-3785-41f9-8e57-a03b64e40bcf",
   "metadata": {},
   "outputs": [
    {
     "data": {
      "text/plain": [
       "0.5247807354848475"
      ]
     },
     "execution_count": 47,
     "metadata": {},
     "output_type": "execute_result"
    }
   ],
   "source": [
    "rep[\"avg_truth_score_2019_to_2022\"].mean()"
   ]
  },
  {
   "cell_type": "markdown",
   "id": "2c867f53-62bf-4659-9430-560414824711",
   "metadata": {},
   "source": [
    "## T-tests to compare differences"
   ]
  },
  {
   "cell_type": "code",
   "execution_count": 48,
   "id": "fb0e290b-981e-4c34-b9d0-938d59ab2547",
   "metadata": {},
   "outputs": [
    {
     "data": {
      "text/html": [
       "<div>\n",
       "<style scoped>\n",
       "    .dataframe tbody tr th:only-of-type {\n",
       "        vertical-align: middle;\n",
       "    }\n",
       "\n",
       "    .dataframe tbody tr th {\n",
       "        vertical-align: top;\n",
       "    }\n",
       "\n",
       "    .dataframe thead th {\n",
       "        text-align: right;\n",
       "    }\n",
       "</style>\n",
       "<table border=\"1\" class=\"dataframe\">\n",
       "  <thead>\n",
       "    <tr style=\"text-align: right;\">\n",
       "      <th></th>\n",
       "      <th>T</th>\n",
       "      <th>dof</th>\n",
       "      <th>alternative</th>\n",
       "      <th>p-val</th>\n",
       "      <th>CI95%</th>\n",
       "      <th>cohen-d</th>\n",
       "      <th>BF10</th>\n",
       "      <th>power</th>\n",
       "    </tr>\n",
       "  </thead>\n",
       "  <tbody>\n",
       "    <tr>\n",
       "      <th>T-test</th>\n",
       "      <td>-27.568351</td>\n",
       "      <td>176.412474</td>\n",
       "      <td>two-sided</td>\n",
       "      <td>7.554521e-66</td>\n",
       "      <td>[-0.16, -0.14]</td>\n",
       "      <td>2.982276</td>\n",
       "      <td>7.182e+106</td>\n",
       "      <td>1.0</td>\n",
       "    </tr>\n",
       "  </tbody>\n",
       "</table>\n",
       "</div>"
      ],
      "text/plain": [
       "                T         dof alternative         p-val           CI95%  \\\n",
       "T-test -27.568351  176.412474   two-sided  7.554521e-66  [-0.16, -0.14]   \n",
       "\n",
       "         cohen-d        BF10  power  \n",
       "T-test  2.982276  7.182e+106    1.0  "
      ]
     },
     "execution_count": 48,
     "metadata": {},
     "output_type": "execute_result"
    }
   ],
   "source": [
    "# Democrats belief-speaking\n",
    "pt.ttest(dem[\"avg_belief_score_2010_to_2013\"],\n",
    "         dem[\"avg_belief_score_2019_to_2022\"], paired=False)"
   ]
  },
  {
   "cell_type": "code",
   "execution_count": 49,
   "id": "0aa20399-802c-4f29-bf90-e483684ca6f4",
   "metadata": {},
   "outputs": [
    {
     "data": {
      "text/html": [
       "<div>\n",
       "<style scoped>\n",
       "    .dataframe tbody tr th:only-of-type {\n",
       "        vertical-align: middle;\n",
       "    }\n",
       "\n",
       "    .dataframe tbody tr th {\n",
       "        vertical-align: top;\n",
       "    }\n",
       "\n",
       "    .dataframe thead th {\n",
       "        text-align: right;\n",
       "    }\n",
       "</style>\n",
       "<table border=\"1\" class=\"dataframe\">\n",
       "  <thead>\n",
       "    <tr style=\"text-align: right;\">\n",
       "      <th></th>\n",
       "      <th>T</th>\n",
       "      <th>dof</th>\n",
       "      <th>alternative</th>\n",
       "      <th>p-val</th>\n",
       "      <th>CI95%</th>\n",
       "      <th>cohen-d</th>\n",
       "      <th>BF10</th>\n",
       "      <th>power</th>\n",
       "    </tr>\n",
       "  </thead>\n",
       "  <tbody>\n",
       "    <tr>\n",
       "      <th>T-test</th>\n",
       "      <td>-23.455095</td>\n",
       "      <td>226.413581</td>\n",
       "      <td>two-sided</td>\n",
       "      <td>1.591857e-62</td>\n",
       "      <td>[-0.15, -0.13]</td>\n",
       "      <td>2.484678</td>\n",
       "      <td>1.316e+84</td>\n",
       "      <td>1.0</td>\n",
       "    </tr>\n",
       "  </tbody>\n",
       "</table>\n",
       "</div>"
      ],
      "text/plain": [
       "                T         dof alternative         p-val           CI95%  \\\n",
       "T-test -23.455095  226.413581   two-sided  1.591857e-62  [-0.15, -0.13]   \n",
       "\n",
       "         cohen-d       BF10  power  \n",
       "T-test  2.484678  1.316e+84    1.0  "
      ]
     },
     "execution_count": 49,
     "metadata": {},
     "output_type": "execute_result"
    }
   ],
   "source": [
    "# Republicans belief-speaking\n",
    "pt.ttest(rep[\"avg_belief_score_2010_to_2013\"],\n",
    "         rep[\"avg_belief_score_2019_to_2022\"], paired=False)"
   ]
  },
  {
   "cell_type": "code",
   "execution_count": 50,
   "id": "1e655b9f-976a-40c5-800e-e3a82a4c4ac0",
   "metadata": {},
   "outputs": [
    {
     "data": {
      "text/html": [
       "<div>\n",
       "<style scoped>\n",
       "    .dataframe tbody tr th:only-of-type {\n",
       "        vertical-align: middle;\n",
       "    }\n",
       "\n",
       "    .dataframe tbody tr th {\n",
       "        vertical-align: top;\n",
       "    }\n",
       "\n",
       "    .dataframe thead th {\n",
       "        text-align: right;\n",
       "    }\n",
       "</style>\n",
       "<table border=\"1\" class=\"dataframe\">\n",
       "  <thead>\n",
       "    <tr style=\"text-align: right;\">\n",
       "      <th></th>\n",
       "      <th>T</th>\n",
       "      <th>dof</th>\n",
       "      <th>alternative</th>\n",
       "      <th>p-val</th>\n",
       "      <th>CI95%</th>\n",
       "      <th>cohen-d</th>\n",
       "      <th>BF10</th>\n",
       "      <th>power</th>\n",
       "    </tr>\n",
       "  </thead>\n",
       "  <tbody>\n",
       "    <tr>\n",
       "      <th>T-test</th>\n",
       "      <td>-29.347828</td>\n",
       "      <td>174.276108</td>\n",
       "      <td>two-sided</td>\n",
       "      <td>2.401095e-69</td>\n",
       "      <td>[-0.16, -0.14]</td>\n",
       "      <td>3.214738</td>\n",
       "      <td>3.431e+116</td>\n",
       "      <td>1.0</td>\n",
       "    </tr>\n",
       "  </tbody>\n",
       "</table>\n",
       "</div>"
      ],
      "text/plain": [
       "                T         dof alternative         p-val           CI95%  \\\n",
       "T-test -29.347828  174.276108   two-sided  2.401095e-69  [-0.16, -0.14]   \n",
       "\n",
       "         cohen-d        BF10  power  \n",
       "T-test  3.214738  3.431e+116    1.0  "
      ]
     },
     "execution_count": 50,
     "metadata": {},
     "output_type": "execute_result"
    }
   ],
   "source": [
    "# Democrats truth-seeking\n",
    "pt.ttest(dem[\"avg_truth_score_2010_to_2013\"],\n",
    "         dem[\"avg_truth_score_2019_to_2022\"], paired=False)"
   ]
  },
  {
   "cell_type": "code",
   "execution_count": 51,
   "id": "99b613df-910b-41e0-94d4-0dc39873a9b3",
   "metadata": {},
   "outputs": [
    {
     "data": {
      "text/html": [
       "<div>\n",
       "<style scoped>\n",
       "    .dataframe tbody tr th:only-of-type {\n",
       "        vertical-align: middle;\n",
       "    }\n",
       "\n",
       "    .dataframe tbody tr th {\n",
       "        vertical-align: top;\n",
       "    }\n",
       "\n",
       "    .dataframe thead th {\n",
       "        text-align: right;\n",
       "    }\n",
       "</style>\n",
       "<table border=\"1\" class=\"dataframe\">\n",
       "  <thead>\n",
       "    <tr style=\"text-align: right;\">\n",
       "      <th></th>\n",
       "      <th>T</th>\n",
       "      <th>dof</th>\n",
       "      <th>alternative</th>\n",
       "      <th>p-val</th>\n",
       "      <th>CI95%</th>\n",
       "      <th>cohen-d</th>\n",
       "      <th>BF10</th>\n",
       "      <th>power</th>\n",
       "    </tr>\n",
       "  </thead>\n",
       "  <tbody>\n",
       "    <tr>\n",
       "      <th>T-test</th>\n",
       "      <td>-25.103991</td>\n",
       "      <td>237.786923</td>\n",
       "      <td>two-sided</td>\n",
       "      <td>8.410439e-69</td>\n",
       "      <td>[-0.15, -0.13]</td>\n",
       "      <td>2.56367</td>\n",
       "      <td>1.205e+93</td>\n",
       "      <td>1.0</td>\n",
       "    </tr>\n",
       "  </tbody>\n",
       "</table>\n",
       "</div>"
      ],
      "text/plain": [
       "                T         dof alternative         p-val           CI95%  \\\n",
       "T-test -25.103991  237.786923   two-sided  8.410439e-69  [-0.15, -0.13]   \n",
       "\n",
       "        cohen-d       BF10  power  \n",
       "T-test  2.56367  1.205e+93    1.0  "
      ]
     },
     "execution_count": 51,
     "metadata": {},
     "output_type": "execute_result"
    }
   ],
   "source": [
    "# Republicans truth-seeking\n",
    "pt.ttest(rep[\"avg_truth_score_2010_to_2013\"],\n",
    "         rep[\"avg_truth_score_2019_to_2022\"], paired=False)"
   ]
  },
  {
   "cell_type": "markdown",
   "id": "bc20ab87-d29e-4f1f-a6b6-37cbaa2784a4",
   "metadata": {},
   "source": [
    "# Tweets"
   ]
  },
  {
   "cell_type": "markdown",
   "id": "46e47ed4-4e6c-44a6-878a-daa8be93c476",
   "metadata": {},
   "source": [
    "## Number of tweets"
   ]
  },
  {
   "cell_type": "code",
   "execution_count": 79,
   "id": "c16b085c-0afa-401e-ba43-be517f262ef1",
   "metadata": {},
   "outputs": [],
   "source": [
    "src = \"../../data/tweets\"\n",
    "fname = \"US_politician_tweets_2010-11-06_to_2022-03-16.csv.gzip\"\n",
    "tweets = pd.read_csv(Path(src, fname), compression=\"gzip\", parse_dates=[\"created_at\"])"
   ]
  },
  {
   "cell_type": "code",
   "execution_count": 80,
   "id": "94ae786d-4152-436e-967e-e3f1f2d5cee5",
   "metadata": {},
   "outputs": [
    {
     "name": "stdout",
     "output_type": "stream",
     "text": [
      "number of tweets in the corpus: 2588559\n",
      "number of original in the corpus: 1523050\n",
      "number of quoted tweets in the corpus: 266737\n",
      "number of replies in the corpus: 248511\n",
      "number of retweets in the corpus: 552892\n"
     ]
    }
   ],
   "source": [
    "print(f\"number of tweets in the corpus: {len(tweets)}\")\n",
    "print(\"number of original in the corpus: {}\"\\\n",
    "      .format(len(tweets[(tweets[\"retweeted\"] == False) &\\\n",
    "                         (tweets[\"quoted\"] == False) &\\\n",
    "                         (tweets[\"reply\"] == False)])))\n",
    "print(\"number of quoted tweets in the corpus: {}\"\\\n",
    "      .format(len(tweets[tweets[\"quoted\"] == True])))\n",
    "print(\"number of replies in the corpus: {}\"\\\n",
    "      .format(len(tweets[tweets[\"reply\"] == True])))\n",
    "print(\"number of retweets in the corpus: {}\"\\\n",
    "      .format(len(tweets[tweets[\"retweeted\"] == True])))"
   ]
  },
  {
   "cell_type": "code",
   "execution_count": 81,
   "id": "a139fcf5-113f-4a9b-91ab-cafa2d25dc54",
   "metadata": {},
   "outputs": [
    {
     "name": "stdout",
     "output_type": "stream",
     "text": [
      "dropped 552892 retweets\n"
     ]
    }
   ],
   "source": [
    "# drop retweets\n",
    "N = len(tweets)\n",
    "tweets = tweets[tweets[\"retweeted\"] == False]\n",
    "print(f\"dropped {N - len(tweets)} retweets\")"
   ]
  },
  {
   "cell_type": "code",
   "execution_count": 82,
   "id": "b90d983e-aa13-4483-bda3-458632bf314a",
   "metadata": {},
   "outputs": [
    {
     "data": {
      "text/plain": [
       "2035667"
      ]
     },
     "execution_count": 82,
     "metadata": {},
     "output_type": "execute_result"
    }
   ],
   "source": [
    "len(tweets)"
   ]
  },
  {
   "cell_type": "code",
   "execution_count": 83,
   "id": "680b6966-1416-446e-ac85-c2853a644c6f",
   "metadata": {},
   "outputs": [
    {
     "data": {
      "text/plain": [
       "1034"
      ]
     },
     "execution_count": 83,
     "metadata": {},
     "output_type": "execute_result"
    }
   ],
   "source": [
    "len(tweets[\"author_id\"].unique())"
   ]
  },
  {
   "cell_type": "code",
   "execution_count": 84,
   "id": "3204f591-d2e7-4d07-8f7c-91c5a29d984e",
   "metadata": {},
   "outputs": [],
   "source": [
    "tweets[\"year\"] = pd.to_datetime(tweets[\"created_at\"]).dt.year"
   ]
  },
  {
   "cell_type": "code",
   "execution_count": 85,
   "id": "fa3d3b1a-7249-46e3-8ccd-6af00eccf834",
   "metadata": {},
   "outputs": [
    {
     "data": {
      "image/png": "[encoded data removed]",
      "text/plain": [
       "<Figure size 1000x500 with 1 Axes>"
      ]
     },
     "metadata": {},
     "output_type": "display_data"
    }
   ],
   "source": [
    "counts, years = np.histogram(tweets[\"year\"], bins=range(2010, 2022))\n",
    "fig, ax = plt.subplots(figsize=(10, 5))\n",
    "ax.bar(tweets[\"year\"].value_counts(ascending=True).index,\n",
    "       tweets[\"year\"].value_counts(ascending=True).values,\n",
    "       color=\"DarkBlue\")\n",
    "ax.set_xticks(range(2010, 2023))\n",
    "ax.set_ylabel(\"tweet count\", fontsize=16)\n",
    "ax.set_xlabel(\"year\", fontsize=10)\n",
    "ax.spines['right'].set_visible(False)\n",
    "ax.spines['top'].set_visible(False)"
   ]
  },
  {
   "cell_type": "code",
   "execution_count": 86,
   "id": "1ab6f8d3-2357-4b15-9776-db9135de3dbf",
   "metadata": {},
   "outputs": [
    {
     "name": "stdout",
     "output_type": "stream",
     "text": [
      "dropped 228822 tweets without an honesty score\n"
     ]
    }
   ],
   "source": [
    "# drop tweets without honesty component (distill RoBERTa filtering)\n",
    "N = len(tweets)\n",
    "tweets = tweets.dropna(subset=[\"avg_belief_score\", \"avg_truth_score\"])\n",
    "print(f\"dropped {N - len(tweets)} tweets without an honesty score\")"
   ]
  },
  {
   "cell_type": "code",
   "execution_count": 87,
   "id": "bf255b01-9f42-410e-b03f-30edf72d238f",
   "metadata": {},
   "outputs": [],
   "source": [
    "# set tweet creation date as index for easier sampling and aggregation\n",
    "tweets = tweets.set_index(\"created_at\")"
   ]
  },
  {
   "cell_type": "code",
   "execution_count": 88,
   "id": "904adb23-eb70-4d4b-a9c2-77edd5b40464",
   "metadata": {},
   "outputs": [
    {
     "name": "stdout",
     "output_type": "stream",
     "text": [
      "dropped 772 tweets from before 2011\n"
     ]
    }
   ],
   "source": [
    "# drop tweets from 2010\n",
    "N = len(tweets)\n",
    "tweets = tweets[tweets.index.year > 2010]\n",
    "print(f\"dropped {N - len(tweets)} tweets from before 2011\")"
   ]
  },
  {
   "cell_type": "code",
   "execution_count": 89,
   "id": "5ec25753-c0ef-4ca2-aa9c-1239eb1631b7",
   "metadata": {},
   "outputs": [
    {
     "name": "stdout",
     "output_type": "stream",
     "text": [
      "N tweets in final corpus 1806073\n"
     ]
    }
   ],
   "source": [
    "print(f\"N tweets in final corpus {len(tweets)}\")"
   ]
  },
  {
   "cell_type": "code",
   "execution_count": 90,
   "id": "c5a74eee-7a56-4c8f-a9cb-e76e5e9c8e58",
   "metadata": {},
   "outputs": [
    {
     "data": {
      "text/plain": [
       "1328411"
      ]
     },
     "execution_count": 90,
     "metadata": {},
     "output_type": "execute_result"
    }
   ],
   "source": [
    "tweets[\"has_url\"].sum()"
   ]
  },
  {
   "cell_type": "markdown",
   "id": "e1cb00c1-ce53-43d9-965e-48e055d936c4",
   "metadata": {},
   "source": [
    "## Score correlations"
   ]
  },
  {
   "cell_type": "code",
   "execution_count": 64,
   "id": "05021b48-91da-48f2-8371-f967d325c84a",
   "metadata": {},
   "outputs": [
    {
     "data": {
      "text/plain": [
       "0.5719579937734619"
      ]
     },
     "execution_count": 64,
     "metadata": {},
     "output_type": "execute_result"
    }
   ],
   "source": [
    "tweets[\"avg_belief_score\"].mean()"
   ]
  },
  {
   "cell_type": "code",
   "execution_count": 65,
   "id": "eb6d5f68-ec39-40b0-bf2e-22a092fbf64b",
   "metadata": {},
   "outputs": [
    {
     "data": {
      "text/plain": [
       "0.5254136428785026"
      ]
     },
     "execution_count": 65,
     "metadata": {},
     "output_type": "execute_result"
    }
   ],
   "source": [
    "tweets[\"avg_truth_score\"].mean()"
   ]
  },
  {
   "cell_type": "code",
   "execution_count": 66,
   "id": "6cd3adff-5bfc-4891-ab2b-e80e41cb07df",
   "metadata": {},
   "outputs": [
    {
     "data": {
      "text/plain": [
       "(-0.23414270490361974, 0.0)"
      ]
     },
     "execution_count": 66,
     "metadata": {},
     "output_type": "execute_result"
    }
   ],
   "source": [
    "pearsonr(tweets[\"avg_belief_score\"], tweets[\"LIWC_analytic\"])"
   ]
  },
  {
   "cell_type": "code",
   "execution_count": 67,
   "id": "2a104cc4-48ec-4e54-80b1-a402ea46f7a1",
   "metadata": {},
   "outputs": [
    {
     "data": {
      "text/plain": [
       "(-0.11909292286549945, 0.0)"
      ]
     },
     "execution_count": 67,
     "metadata": {},
     "output_type": "execute_result"
    }
   ],
   "source": [
    "pearsonr(tweets[\"avg_truth_score\"], tweets[\"LIWC_analytic\"])"
   ]
  },
  {
   "cell_type": "code",
   "execution_count": 68,
   "id": "5f00dbb8-1b95-4d53-9a5b-afa1b6407524",
   "metadata": {},
   "outputs": [
    {
     "data": {
      "text/plain": [
       "(0.08879377069881633, 0.0)"
      ]
     },
     "execution_count": 68,
     "metadata": {},
     "output_type": "execute_result"
    }
   ],
   "source": [
    "pearsonr(tweets[\"avg_belief_score\"], tweets[\"LIWC_authentic\"])"
   ]
  },
  {
   "cell_type": "code",
   "execution_count": 69,
   "id": "c2446a0f-ed56-4895-ba8a-df50ba20960c",
   "metadata": {},
   "outputs": [
    {
     "data": {
      "text/plain": [
       "(0.03893889750332938, 0.0)"
      ]
     },
     "execution_count": 69,
     "metadata": {},
     "output_type": "execute_result"
    }
   ],
   "source": [
    "pearsonr(tweets[\"avg_truth_score\"], tweets[\"LIWC_authentic\"])"
   ]
  },
  {
   "cell_type": "code",
   "execution_count": 70,
   "id": "7e2f3b2a-9fb8-4358-b360-bab0594f456b",
   "metadata": {},
   "outputs": [
    {
     "data": {
      "text/plain": [
       "(0.0700075655166808, 0.0)"
      ]
     },
     "execution_count": 70,
     "metadata": {},
     "output_type": "execute_result"
    }
   ],
   "source": [
    "pearsonr(tweets[\"avg_belief_score\"], tweets[\"LIWC_moral\"])"
   ]
  },
  {
   "cell_type": "code",
   "execution_count": 71,
   "id": "ccce3920-5a29-4508-b704-bd5aa0a88bc5",
   "metadata": {},
   "outputs": [
    {
     "data": {
      "text/plain": [
       "(0.008842714807681814, 1.4339591049852488e-32)"
      ]
     },
     "execution_count": 71,
     "metadata": {},
     "output_type": "execute_result"
    }
   ],
   "source": [
    "pearsonr(tweets[\"avg_truth_score\"], tweets[\"LIWC_moral\"])"
   ]
  },
  {
   "cell_type": "code",
   "execution_count": 72,
   "id": "e7ed972d-381f-45e2-bef8-8029e8b907ed",
   "metadata": {},
   "outputs": [
    {
     "data": {
      "text/plain": [
       "(-0.06523965238331189, 0.0)"
      ]
     },
     "execution_count": 72,
     "metadata": {},
     "output_type": "execute_result"
    }
   ],
   "source": [
    "pearsonr(tweets[\"avg_belief_score\"], tweets[\"LIWC_emo_pos\"])"
   ]
  },
  {
   "cell_type": "code",
   "execution_count": 73,
   "id": "fedb2edf-f1a8-448d-a10c-3dcb8ed2ea2c",
   "metadata": {},
   "outputs": [
    {
     "data": {
      "text/plain": [
       "(-0.18635375756795872, 0.0)"
      ]
     },
     "execution_count": 73,
     "metadata": {},
     "output_type": "execute_result"
    }
   ],
   "source": [
    "pearsonr(tweets[\"avg_truth_score\"], tweets[\"LIWC_emo_pos\"])"
   ]
  },
  {
   "cell_type": "code",
   "execution_count": 74,
   "id": "699b4386-2107-4fb2-9778-c5b2343b3d94",
   "metadata": {},
   "outputs": [
    {
     "data": {
      "text/plain": [
       "(0.11486025646177159, 0.0)"
      ]
     },
     "execution_count": 74,
     "metadata": {},
     "output_type": "execute_result"
    }
   ],
   "source": [
    "pearsonr(tweets[\"avg_belief_score\"], tweets[\"LIWC_emo_neg\"])"
   ]
  },
  {
   "cell_type": "code",
   "execution_count": 75,
   "id": "003541ba-ffcb-45e8-8e0c-b270908af2b0",
   "metadata": {},
   "outputs": [
    {
     "data": {
      "text/plain": [
       "(0.04349723801335499, 0.0)"
      ]
     },
     "execution_count": 75,
     "metadata": {},
     "output_type": "execute_result"
    }
   ],
   "source": [
    "pearsonr(tweets[\"avg_truth_score\"], tweets[\"LIWC_emo_neg\"])"
   ]
  },
  {
   "cell_type": "markdown",
   "id": "64b0831e-4202-4ccd-a961-a2a89a253ddd",
   "metadata": {},
   "source": [
    "# URLs"
   ]
  },
  {
   "cell_type": "code",
   "execution_count": 91,
   "id": "8217f0b8-4013-4d1a-8997-d0764f743e62",
   "metadata": {},
   "outputs": [],
   "source": [
    "src = \"../../data/urls\"\n",
    "fname = \"US_politician_URLs_2010-11-06_to_2022-03-16.csv.gzip\"\n",
    "urls = pd.read_csv(join(src, fname), compression=\"gzip\", parse_dates=[\"created_at\"])"
   ]
  },
  {
   "cell_type": "code",
   "execution_count": 92,
   "id": "4c0abe9e-53a9-4db7-9a67-63c0d942fb09",
   "metadata": {},
   "outputs": [
    {
     "data": {
      "text/plain": [
       "1425813"
      ]
     },
     "execution_count": 92,
     "metadata": {},
     "output_type": "execute_result"
    }
   ],
   "source": [
    "len(urls[urls[\"id\"].isin(tweets[\"id\"])])"
   ]
  },
  {
   "cell_type": "code",
   "execution_count": 93,
   "id": "2e5c4382-f3c9-4fdc-aab2-207f3732a0fd",
   "metadata": {},
   "outputs": [],
   "source": [
    "del urls\n",
    "del tweets"
   ]
  },
  {
   "cell_type": "markdown",
   "id": "8bd2608a-3556-4292-bec6-1e728473f19c",
   "metadata": {},
   "source": [
    "# Articles"
   ]
  },
  {
   "cell_type": "code",
   "execution_count": 98,
   "id": "57817fbd-b06a-489f-93d5-5e49be7ad05c",
   "metadata": {},
   "outputs": [
    {
     "data": {
      "text/plain": [
       "153914"
      ]
     },
     "execution_count": 98,
     "metadata": {},
     "output_type": "execute_result"
    }
   ],
   "source": [
    "src = \"../../data/articles\"\n",
    "fname = \"article_corpus_clean.csv.gzip\"\n",
    "articles = pd.read_csv(Path(src, fname), compression=\"gzip\")\n",
    "len(articles)"
   ]
  },
  {
   "cell_type": "code",
   "execution_count": 99,
   "id": "b4dc8195-2406-4f4e-8b5e-a65b65a200b9",
   "metadata": {},
   "outputs": [],
   "source": [
    "del articles"
   ]
  },
  {
   "cell_type": "markdown",
   "id": "f3ad076c-5be9-4810-a871-573ebc283ad8",
   "metadata": {},
   "source": [
    "# Trustworthiness scores"
   ]
  },
  {
   "cell_type": "markdown",
   "id": "fcae8fdf-8267-4fd7-a47b-e7f0009ca8af",
   "metadata": {},
   "source": [
    "## NewsGuard nutrition scores"
   ]
  },
  {
   "cell_type": "code",
   "execution_count": 100,
   "id": "f4f6be68-0d05-44da-8f03-d57fa7605240",
   "metadata": {},
   "outputs": [],
   "source": [
    "# load the nutrition labels\n",
    "src = \"../../data/utilities\"\n",
    "fname = \"NewsGuard_labels.csv\"\n",
    "NG_scores = pd.read_csv(join(src, fname))\n",
    "# if more than one score exists for the same domain, keep the most recent one\n",
    "NG_scores = NG_scores.sort_values(by=[\"Domain\",\"Last Updated\"], ascending=False)\n",
    "NG_scores = NG_scores.drop_duplicates(subset=[\"Domain\"])\n",
    "\n",
    "# threshold scores at various cutoffs to define untrustworthy domains\n",
    "NG_scores[\"NewsGuard_unreliable\"] = 0\n",
    "NG_scores.loc[NG_scores[NG_scores[\"Score\"] < 60].index, \"NewsGuard_unreliable\"] = 1\n",
    "unreliable_60_domains = set(NG_scores[NG_scores[\"NewsGuard_unreliable\"] == 1][\"Domain\"])"
   ]
  },
  {
   "cell_type": "code",
   "execution_count": 101,
   "id": "bda1f259-081b-4212-8f35-997de803bf2f",
   "metadata": {},
   "outputs": [
    {
     "name": "stdout",
     "output_type": "stream",
     "text": [
      "The NewsGuard dataset as of 2022-03-01 contains 6860 english entries\n",
      "37.24 % (2757) of English entries have a score < 60\n"
     ]
    }
   ],
   "source": [
    "number_of_english_domains = NG_scores[\"Language\"].value_counts().loc[\"en\"]\n",
    "\n",
    "unreliable_60 = len(NG_scores[(NG_scores[\"Language\"] == \"en\") &\\\n",
    "                        (NG_scores[\"Score\"] < 60)]) / \\\n",
    "                        len(NG_scores[NG_scores[\"Language\"] == \"en\"])\n",
    "\n",
    "print(\"The NewsGuard dataset as of 2022-03-01 contains {} english entries\"\\\n",
    "        .format(number_of_english_domains))\n",
    "print(\"{:1.2f} % ({}) of English entries have a score < 60\"\\\n",
    "        .format(unreliable_60 * 100, len(unreliable_60_domains)))"
   ]
  },
  {
   "cell_type": "code",
   "execution_count": 102,
   "id": "d46e8446-3601-4e3c-b06d-037bb71ca87e",
   "metadata": {},
   "outputs": [
    {
     "data": {
      "text/plain": [
       "Text(15, 2000, 'not trustworthy')"
      ]
     },
     "execution_count": 102,
     "metadata": {},
     "output_type": "execute_result"
    },
    {
     "data": {
      "image/png": "[encoded data removed]",
      "text/plain": [
       "<Figure size 800x300 with 1 Axes>"
      ]
     },
     "metadata": {},
     "output_type": "display_data"
    }
   ],
   "source": [
    "fig, ax = plt.subplots(figsize=(8, 3))\n",
    "ax.hist(NG_scores[\"Score\"], rwidth=0.8, color=\"DarkBlue\")\n",
    "ax.set_xlim(0, 100)\n",
    "ax.spines['right'].set_visible(False)\n",
    "ax.spines['top'].set_visible(False)\n",
    "ax.set_ylabel(\"count\", fontsize=16)\n",
    "ax.set_xlabel(\"nutrition score\", fontsize=16)\n",
    "ax.plot([60, 60], [0, 2500], '--', color=\"grey\")\n",
    "ax.text(15, 2000, \"not trustworthy\", color=\"grey\", fontsize=16)"
   ]
  },
  {
   "cell_type": "markdown",
   "id": "2d246559-71e3-42bf-9983-ac8988e4f308",
   "metadata": {},
   "source": [
    "## Independent trustworthiness labels"
   ]
  },
  {
   "cell_type": "code",
   "execution_count": 103,
   "id": "910238c7-9cfb-4676-b109-37b88989fc84",
   "metadata": {},
   "outputs": [],
   "source": [
    "# load the list of independently compiled trustworthiness labels for \n",
    "# news sources\n",
    "src = \"../../data/utilities\"\n",
    "fname = \"independent_labels.csv\"\n",
    "alt_labels = pd.read_csv(join(src, fname))\n",
    "alt_labels = alt_labels.rename(columns = {\"type\":\"unreliable\", \"url\":\"Domain\"})\n",
    "\n",
    "# convert reliability labels to binary\n",
    "alt_labels[\"unreliable\"] = alt_labels[\"unreliable\"]\\\n",
    "    .replace({\"reliable\":0, \"unreliable\":1})\n",
    "N_alt_labels = len(alt_labels)\n",
    "N_alt_untrustworthy = alt_labels[\"unreliable\"].value_counts().loc[1]"
   ]
  },
  {
   "cell_type": "code",
   "execution_count": 107,
   "id": "9927a5eb-9d64-467d-932f-db5fe9795f9b",
   "metadata": {},
   "outputs": [],
   "source": [
    "NG_domains = set(NG_scores[\"Domain\"])\n",
    "alt_domains = set(alt_labels[\"Domain\"])\n",
    "shared_domains = len(NG_domains.intersection(alt_domains))\n",
    "untrustworthy_domains = set(alt_labels[alt_labels[\"unreliable\"] == 1][\"Domain\"])\n",
    "shared_untrustworthy_domains_60 = len(unreliable_60_domains\\\n",
    "                                   .intersection(untrustworthy_domains))"
   ]
  },
  {
   "cell_type": "code",
   "execution_count": 108,
   "id": "54550d2a-fc24-46d7-a336-07a65a575485",
   "metadata": {},
   "outputs": [
    {
     "name": "stdout",
     "output_type": "stream",
     "text": [
      "The alternative list contains 4767 domains\n",
      "Out of which 2170 are labelled 'untrustworthy'\n",
      "1677 domains are also indexed by NewsGuard\n",
      "566 untrustworthy domains are also indexed by NewsGuard (score < 60)\n"
     ]
    }
   ],
   "source": [
    "print(f\"The alternative list contains {N_alt_labels} domains\")\n",
    "print(f\"Out of which {N_alt_untrustworthy} are labelled 'untrustworthy'\")\n",
    "print(f\"{shared_domains} domains are also indexed by NewsGuard\")\n",
    "print(f\"{shared_untrustworthy_domains_60} untrustworthy domains are also indexed by NewsGuard (score < 60)\")"
   ]
  },
  {
   "cell_type": "markdown",
   "id": "468c8fdc-d8eb-48c1-8c52-f5bdf505b1fa",
   "metadata": {},
   "source": [
    "## Comparison NewsGuard <-> independent labels"
   ]
  },
  {
   "cell_type": "code",
   "execution_count": 109,
   "id": "b4940c63-75a7-45f9-a681-faf51820fbbb",
   "metadata": {},
   "outputs": [],
   "source": [
    "alt_domains = set(alt_labels[\"Domain\"])"
   ]
  },
  {
   "cell_type": "code",
   "execution_count": 110,
   "id": "0b55eb13-ab6d-441b-8946-b78484117f45",
   "metadata": {},
   "outputs": [
    {
     "data": {
      "text/plain": [
       "4767"
      ]
     },
     "execution_count": 110,
     "metadata": {},
     "output_type": "execute_result"
    }
   ],
   "source": [
    "len(alt_domains)"
   ]
  },
  {
   "cell_type": "code",
   "execution_count": 111,
   "id": "abc63963-b009-469a-b4e9-e8afe8917896",
   "metadata": {},
   "outputs": [
    {
     "data": {
      "text/plain": [
       "0    2597\n",
       "1    2170\n",
       "Name: unreliable, dtype: int64"
      ]
     },
     "execution_count": 111,
     "metadata": {},
     "output_type": "execute_result"
    }
   ],
   "source": [
    "alt_labels[\"unreliable\"].value_counts()"
   ]
  },
  {
   "cell_type": "code",
   "execution_count": 112,
   "id": "90fc4709-0655-4ca2-8de4-1ea78f679b39",
   "metadata": {},
   "outputs": [],
   "source": [
    "NG_domains = set(NG_scores[\"Domain\"])"
   ]
  },
  {
   "cell_type": "code",
   "execution_count": 113,
   "id": "b221dd01-d275-4670-a543-df367b3ff816",
   "metadata": {},
   "outputs": [
    {
     "data": {
      "text/plain": [
       "1677"
      ]
     },
     "execution_count": 113,
     "metadata": {},
     "output_type": "execute_result"
    }
   ],
   "source": [
    "in_both = alt_domains.intersection(NG_domains)\n",
    "len(in_both)"
   ]
  },
  {
   "cell_type": "code",
   "execution_count": 114,
   "id": "5328d16d-2dfd-4295-83ec-4cd5b2b088f9",
   "metadata": {},
   "outputs": [
    {
     "data": {
      "text/plain": [
       "0    1062\n",
       "1     615\n",
       "Name: unreliable, dtype: int64"
      ]
     },
     "execution_count": 114,
     "metadata": {},
     "output_type": "execute_result"
    }
   ],
   "source": [
    "alt_labels[alt_labels[\"Domain\"].isin(list(NG_domains))][\"unreliable\"].value_counts()"
   ]
  },
  {
   "cell_type": "code",
   "execution_count": 115,
   "id": "c0bc61d9-4e92-448e-8ad7-9231c13105f7",
   "metadata": {},
   "outputs": [],
   "source": [
    "alt_labels[\"unreliable\"] = alt_labels[\"unreliable\"].replace({\n",
    "    \"reliable\":0,\n",
    "    \"unreliable\":1\n",
    "})"
   ]
  },
  {
   "cell_type": "code",
   "execution_count": 116,
   "id": "f2018a22-939e-405a-95df-0f8ada923fa1",
   "metadata": {},
   "outputs": [],
   "source": [
    "NG_scores[\"unreliable\"] = 0\n",
    "NG_scores.loc[NG_scores[NG_scores[\"Score\"] < 60].index, \"unreliable\"] = 1"
   ]
  },
  {
   "cell_type": "code",
   "execution_count": 117,
   "id": "5aa7f7d4-78ed-4192-93cb-329eceae85bf",
   "metadata": {},
   "outputs": [
    {
     "name": "stdout",
     "output_type": "stream",
     "text": [
      "number of same labels: 1553, krippendorff's alpha: 0.8422170341180256\n"
     ]
    }
   ],
   "source": [
    "labels_NG = NG_scores[NG_scores[\"Domain\"].isin(in_both)]\\\n",
    "    .sort_values(by=\"Domain\")[[\"Domain\", \"unreliable\"]]\n",
    "labels_ind = alt_labels[alt_labels[\"Domain\"].isin(in_both)]\\\n",
    "    .sort_values(by=\"Domain\")[[\"Domain\", \"unreliable\"]]\n",
    "joint_labels = pd.DataFrame({\n",
    "    \"label_NG\":labels_NG[\"unreliable\"].values,\n",
    "    \"label_ind\":labels_ind[\"unreliable\"].values})\n",
    "\n",
    "same = len(joint_labels[joint_labels[\"label_NG\"] == joint_labels[\"label_ind\"]])\n",
    "kripp = krippendorff.alpha(joint_labels.transpose())\n",
    "print(f\"number of same labels: {same}, krippendorff's alpha: {kripp}\")"
   ]
  }
 ],
 "metadata": {
  "kernelspec": {
   "display_name": "Python 3 (ipykernel)",
   "language": "python",
   "name": "python3"
  },
  "language_info": {
   "codemirror_mode": {
    "name": "ipython",
    "version": 3
   },
   "file_extension": ".py",
   "mimetype": "text/x-python",
   "name": "python",
   "nbconvert_exporter": "python",
   "pygments_lexer": "ipython3",
   "version": "3.8.5"
  }
 },
 "nbformat": 4,
 "nbformat_minor": 5
}
