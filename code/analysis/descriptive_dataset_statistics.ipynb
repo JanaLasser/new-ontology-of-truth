{
 "cells": [
  {
   "cell_type": "code",
   "execution_count": 1,
   "id": "7de817cf-ff4a-4a08-877c-c013c76dc81b",
   "metadata": {},
   "outputs": [],
   "source": [
    "# author: Jana Lasser"
   ]
  },
  {
   "cell_type": "code",
   "execution_count": 60,
   "id": "26e9175d-186a-4a27-bc9a-ef0b6163cb67",
   "metadata": {},
   "outputs": [],
   "source": [
    "import pandas as pd\n",
    "import numpy as np\n",
    "from pathlib import Path\n",
    "import matplotlib.pyplot as plt\n",
    "import numpy as np\n",
    "import krippendorff\n",
    "import pingouin as pt\n",
    "from scipy.stats import pearsonr, skew"
   ]
  },
  {
   "cell_type": "code",
   "execution_count": 61,
   "id": "31232873-b52b-43f5-a60f-61eb98e5b66f",
   "metadata": {},
   "outputs": [],
   "source": [
    "# colors\n",
    "demblue = \"#0015BC\"\n",
    "repred = \"#FF0000\"\n",
    "indgrey = \"#696969\""
   ]
  },
  {
   "cell_type": "markdown",
   "id": "99f33f65-6058-4b87-b27f-80c3e0fbef6a",
   "metadata": {},
   "source": [
    "# New York Times corpus"
   ]
  },
  {
   "cell_type": "markdown",
   "id": "ce58df21-d80b-46d1-9107-b74505d3742d",
   "metadata": {},
   "source": [
    "**Note**: the below code won't work if you haven't collected the NYT articles corpus yourself, since we can't share the data."
   ]
  },
  {
   "cell_type": "code",
   "execution_count": 70,
   "id": "5c25dab8-aa24-4143-a206-b9e40b14d8f5",
   "metadata": {},
   "outputs": [
    {
     "data": {
      "text/html": [
       "<div>\n",
       "<style scoped>\n",
       "    .dataframe tbody tr th:only-of-type {\n",
       "        vertical-align: middle;\n",
       "    }\n",
       "\n",
       "    .dataframe tbody tr th {\n",
       "        vertical-align: top;\n",
       "    }\n",
       "\n",
       "    .dataframe thead th {\n",
       "        text-align: right;\n",
       "    }\n",
       "</style>\n",
       "<table border=\"1\" class=\"dataframe\">\n",
       "  <thead>\n",
       "    <tr style=\"text-align: right;\">\n",
       "      <th></th>\n",
       "      <th>section</th>\n",
       "      <th>avg_belief_score</th>\n",
       "      <th>avg_truth_score</th>\n",
       "    </tr>\n",
       "  </thead>\n",
       "  <tbody>\n",
       "    <tr>\n",
       "      <th>0</th>\n",
       "      <td>Politics</td>\n",
       "      <td>0.619713</td>\n",
       "      <td>0.536311</td>\n",
       "    </tr>\n",
       "    <tr>\n",
       "      <th>1</th>\n",
       "      <td>Politics</td>\n",
       "      <td>0.618543</td>\n",
       "      <td>0.642781</td>\n",
       "    </tr>\n",
       "    <tr>\n",
       "      <th>2</th>\n",
       "      <td>Opinion</td>\n",
       "      <td>0.776838</td>\n",
       "      <td>0.662415</td>\n",
       "    </tr>\n",
       "  </tbody>\n",
       "</table>\n",
       "</div>"
      ],
      "text/plain": [
       "    section  avg_belief_score  avg_truth_score\n",
       "0  Politics          0.619713         0.536311\n",
       "1  Politics          0.618543         0.642781\n",
       "2   Opinion          0.776838         0.662415"
      ]
     },
     "execution_count": 70,
     "metadata": {},
     "output_type": "execute_result"
    }
   ],
   "source": [
    "src = \"../../data/NYT/\"\n",
    "fname = \"abstracts.csv.gzip\"\n",
    "abstracts = pd.read_csv(Path(src, fname), compression=\"gzip\")\n",
    "\n",
    "\n",
    "# merge categories\n",
    "abstracts[\"section\"] = abstracts[\"section\"].replace({\n",
    "    \"Climate\":\"Science\",\n",
    "    \"Education\":\"Science\",\n",
    "    \"Health\":\"Science\",\n",
    "    \"U.S.\":\"Politics\",\n",
    "    \"Washington\":\"Politics\",\n",
    "    \"World\":\"Politics\"\n",
    "})\n",
    "abstracts.head(3)"
   ]
  },
  {
   "cell_type": "code",
   "execution_count": 71,
   "id": "343fc76b-8403-42ce-90d9-fd8f0bf12ac1",
   "metadata": {},
   "outputs": [],
   "source": [
    "# calculate corpus means for belief-speaking and truth-seeking similarity\n",
    "belief_corpus_mean = abstracts[\"avg_belief_score\"].mean()\n",
    "truth_corpus_mean = abstracts[\"avg_truth_score\"].mean()"
   ]
  },
  {
   "cell_type": "code",
   "execution_count": 72,
   "id": "e892e771-a460-4a4a-9200-96c58373056b",
   "metadata": {},
   "outputs": [
    {
     "data": {
      "text/html": [
       "<div>\n",
       "<style scoped>\n",
       "    .dataframe tbody tr th:only-of-type {\n",
       "        vertical-align: middle;\n",
       "    }\n",
       "\n",
       "    .dataframe tbody tr th {\n",
       "        vertical-align: top;\n",
       "    }\n",
       "\n",
       "    .dataframe thead th {\n",
       "        text-align: right;\n",
       "    }\n",
       "</style>\n",
       "<table border=\"1\" class=\"dataframe\">\n",
       "  <thead>\n",
       "    <tr style=\"text-align: right;\">\n",
       "      <th></th>\n",
       "      <th>avg_belief_score</th>\n",
       "    </tr>\n",
       "    <tr>\n",
       "      <th>section</th>\n",
       "      <th></th>\n",
       "    </tr>\n",
       "  </thead>\n",
       "  <tbody>\n",
       "    <tr>\n",
       "      <th>Opinion</th>\n",
       "      <td>0.012694</td>\n",
       "    </tr>\n",
       "    <tr>\n",
       "      <th>Politics</th>\n",
       "      <td>-0.006802</td>\n",
       "    </tr>\n",
       "    <tr>\n",
       "      <th>Science</th>\n",
       "      <td>0.009306</td>\n",
       "    </tr>\n",
       "  </tbody>\n",
       "</table>\n",
       "</div>"
      ],
      "text/plain": [
       "          avg_belief_score\n",
       "section                   \n",
       "Opinion           0.012694\n",
       "Politics         -0.006802\n",
       "Science           0.009306"
      ]
     },
     "execution_count": 72,
     "metadata": {},
     "output_type": "execute_result"
    }
   ],
   "source": [
    "abstracts[[\"section\", \"avg_belief_score\"]].groupby(\"section\").mean() - belief_corpus_mean"
   ]
  },
  {
   "cell_type": "code",
   "execution_count": 73,
   "id": "dacb90f7-99c9-4a87-b8e8-c3b0ddff7cee",
   "metadata": {},
   "outputs": [
    {
     "data": {
      "text/html": [
       "<div>\n",
       "<style scoped>\n",
       "    .dataframe tbody tr th:only-of-type {\n",
       "        vertical-align: middle;\n",
       "    }\n",
       "\n",
       "    .dataframe tbody tr th {\n",
       "        vertical-align: top;\n",
       "    }\n",
       "\n",
       "    .dataframe thead th {\n",
       "        text-align: right;\n",
       "    }\n",
       "</style>\n",
       "<table border=\"1\" class=\"dataframe\">\n",
       "  <thead>\n",
       "    <tr style=\"text-align: right;\">\n",
       "      <th></th>\n",
       "      <th>avg_truth_score</th>\n",
       "    </tr>\n",
       "    <tr>\n",
       "      <th>section</th>\n",
       "      <th></th>\n",
       "    </tr>\n",
       "  </thead>\n",
       "  <tbody>\n",
       "    <tr>\n",
       "      <th>Opinion</th>\n",
       "      <td>0.006216</td>\n",
       "    </tr>\n",
       "    <tr>\n",
       "      <th>Politics</th>\n",
       "      <td>-0.006138</td>\n",
       "    </tr>\n",
       "    <tr>\n",
       "      <th>Science</th>\n",
       "      <td>0.033311</td>\n",
       "    </tr>\n",
       "  </tbody>\n",
       "</table>\n",
       "</div>"
      ],
      "text/plain": [
       "          avg_truth_score\n",
       "section                  \n",
       "Opinion          0.006216\n",
       "Politics        -0.006138\n",
       "Science          0.033311"
      ]
     },
     "execution_count": 73,
     "metadata": {},
     "output_type": "execute_result"
    }
   ],
   "source": [
    "abstracts[[\"section\", \"avg_truth_score\"]].groupby(\"section\").mean() - truth_corpus_mean"
   ]
  },
  {
   "cell_type": "markdown",
   "id": "f0d17e3f-75eb-41e6-a053-3d8e5471a303",
   "metadata": {},
   "source": [
    "# Users"
   ]
  },
  {
   "cell_type": "code",
   "execution_count": 36,
   "id": "a8372269-0c76-42ec-8830-61536b98a3f7",
   "metadata": {},
   "outputs": [
    {
     "data": {
      "text/html": [
       "<div>\n",
       "<style scoped>\n",
       "    .dataframe tbody tr th:only-of-type {\n",
       "        vertical-align: middle;\n",
       "    }\n",
       "\n",
       "    .dataframe tbody tr th {\n",
       "        vertical-align: top;\n",
       "    }\n",
       "\n",
       "    .dataframe thead th {\n",
       "        text-align: right;\n",
       "    }\n",
       "</style>\n",
       "<table border=\"1\" class=\"dataframe\">\n",
       "  <thead>\n",
       "    <tr style=\"text-align: right;\">\n",
       "      <th></th>\n",
       "      <th>handle</th>\n",
       "      <th>author_id</th>\n",
       "      <th>name</th>\n",
       "      <th>party</th>\n",
       "      <th>N_tweets</th>\n",
       "      <th>followers_count</th>\n",
       "      <th>following_count</th>\n",
       "      <th>tweet_count</th>\n",
       "      <th>created_at</th>\n",
       "      <th>congress</th>\n",
       "      <th>...</th>\n",
       "      <th>LIWC_moral_mean</th>\n",
       "      <th>VADER_neg_mean</th>\n",
       "      <th>VADER_pos_mean</th>\n",
       "      <th>VADER_neu_mean</th>\n",
       "      <th>VADER_compound_mean</th>\n",
       "      <th>ideology_mean</th>\n",
       "      <th>ideology_std</th>\n",
       "      <th>ideology_count</th>\n",
       "      <th>state</th>\n",
       "      <th>pf_score</th>\n",
       "    </tr>\n",
       "  </thead>\n",
       "  <tbody>\n",
       "    <tr>\n",
       "      <th>0</th>\n",
       "      <td>RepCori</td>\n",
       "      <td>1002630999052865536</td>\n",
       "      <td>Congresswoman Cori Bush</td>\n",
       "      <td>Democrat</td>\n",
       "      <td>1471</td>\n",
       "      <td>116684</td>\n",
       "      <td>297</td>\n",
       "      <td>1866</td>\n",
       "      <td>2018-06-01 19:20:32+00:00</td>\n",
       "      <td>118.0</td>\n",
       "      <td>...</td>\n",
       "      <td>0.982597</td>\n",
       "      <td>0.082815</td>\n",
       "      <td>0.136428</td>\n",
       "      <td>0.780762</td>\n",
       "      <td>0.165968</td>\n",
       "      <td>0.102091</td>\n",
       "      <td>NaN</td>\n",
       "      <td>1.0</td>\n",
       "      <td>MO</td>\n",
       "      <td>NaN</td>\n",
       "    </tr>\n",
       "    <tr>\n",
       "      <th>1</th>\n",
       "      <td>RepFitzgerald</td>\n",
       "      <td>1004891731</td>\n",
       "      <td>Rep. Scott Fitzgerald</td>\n",
       "      <td>Republican</td>\n",
       "      <td>2043</td>\n",
       "      <td>11409</td>\n",
       "      <td>820</td>\n",
       "      <td>2936</td>\n",
       "      <td>2012-12-11 21:01:37+00:00</td>\n",
       "      <td>118.0</td>\n",
       "      <td>...</td>\n",
       "      <td>0.384058</td>\n",
       "      <td>0.043388</td>\n",
       "      <td>0.142050</td>\n",
       "      <td>0.814558</td>\n",
       "      <td>0.238641</td>\n",
       "      <td>0.553606</td>\n",
       "      <td>NaN</td>\n",
       "      <td>1.0</td>\n",
       "      <td>WI</td>\n",
       "      <td>NaN</td>\n",
       "    </tr>\n",
       "    <tr>\n",
       "      <th>2</th>\n",
       "      <td>RepLipinski</td>\n",
       "      <td>1009269193</td>\n",
       "      <td>Former Rep. Daniel Lipinski</td>\n",
       "      <td>Democrat</td>\n",
       "      <td>3524</td>\n",
       "      <td>19355</td>\n",
       "      <td>2459</td>\n",
       "      <td>4350</td>\n",
       "      <td>2012-12-13 17:03:06+00:00</td>\n",
       "      <td>116.0</td>\n",
       "      <td>...</td>\n",
       "      <td>0.604069</td>\n",
       "      <td>0.044630</td>\n",
       "      <td>0.162399</td>\n",
       "      <td>0.792972</td>\n",
       "      <td>0.366742</td>\n",
       "      <td>0.471657</td>\n",
       "      <td>0.055874</td>\n",
       "      <td>8.0</td>\n",
       "      <td>IL</td>\n",
       "      <td>NaN</td>\n",
       "    </tr>\n",
       "  </tbody>\n",
       "</table>\n",
       "<p>3 rows × 34 columns</p>\n",
       "</div>"
      ],
      "text/plain": [
       "          handle            author_id                         name  \\\n",
       "0        RepCori  1002630999052865536      Congresswoman Cori Bush   \n",
       "1  RepFitzgerald           1004891731        Rep. Scott Fitzgerald   \n",
       "2    RepLipinski           1009269193  Former Rep. Daniel Lipinski   \n",
       "\n",
       "        party  N_tweets  followers_count  following_count  tweet_count  \\\n",
       "0    Democrat      1471           116684              297         1866   \n",
       "1  Republican      2043            11409              820         2936   \n",
       "2    Democrat      3524            19355             2459         4350   \n",
       "\n",
       "                  created_at  congress  ... LIWC_moral_mean  VADER_neg_mean  \\\n",
       "0  2018-06-01 19:20:32+00:00     118.0  ...        0.982597        0.082815   \n",
       "1  2012-12-11 21:01:37+00:00     118.0  ...        0.384058        0.043388   \n",
       "2  2012-12-13 17:03:06+00:00     116.0  ...        0.604069        0.044630   \n",
       "\n",
       "   VADER_pos_mean  VADER_neu_mean  VADER_compound_mean  ideology_mean  \\\n",
       "0        0.136428        0.780762             0.165968       0.102091   \n",
       "1        0.142050        0.814558             0.238641       0.553606   \n",
       "2        0.162399        0.792972             0.366742       0.471657   \n",
       "\n",
       "   ideology_std  ideology_count  state  pf_score  \n",
       "0           NaN             1.0     MO       NaN  \n",
       "1           NaN             1.0     WI       NaN  \n",
       "2      0.055874             8.0     IL       NaN  \n",
       "\n",
       "[3 rows x 34 columns]"
      ]
     },
     "execution_count": 36,
     "metadata": {},
     "output_type": "execute_result"
    }
   ],
   "source": [
    "src = \"../../data/users\"\n",
    "fname = \"users.csv\"\n",
    "users = pd.read_csv(Path(src, fname), dtype={\"author_id\":str})\n",
    "users.head(3)"
   ]
  },
  {
   "cell_type": "code",
   "execution_count": 37,
   "id": "4b28d7ff-5a44-46e0-8e1d-9c3783b110bf",
   "metadata": {},
   "outputs": [],
   "source": [
    "dem = users[users[\"party\"] == \"Democrat\"].copy()\n",
    "rep = users[users[\"party\"] == \"Republican\"].copy()"
   ]
  },
  {
   "cell_type": "code",
   "execution_count": 38,
   "id": "ab56929b-e294-4460-8d29-952fef1a9d9d",
   "metadata": {},
   "outputs": [
    {
     "data": {
      "text/plain": [
       "1058"
      ]
     },
     "execution_count": 38,
     "metadata": {},
     "output_type": "execute_result"
    }
   ],
   "source": [
    "len(users)"
   ]
  },
  {
   "cell_type": "markdown",
   "id": "ec953a60-9db8-4e5b-8bab-5b6272259497",
   "metadata": {},
   "source": [
    "## Number of Democrats and Republicans in both time periods"
   ]
  },
  {
   "cell_type": "code",
   "execution_count": 39,
   "id": "a6ad8912-5636-462a-be27-15d512673cc4",
   "metadata": {},
   "outputs": [
    {
     "data": {
      "text/plain": [
       "331"
      ]
     },
     "execution_count": 39,
     "metadata": {},
     "output_type": "execute_result"
    }
   ],
   "source": [
    "len(dem[\"avg_belief_score_2010_to_2013\"].dropna())"
   ]
  },
  {
   "cell_type": "code",
   "execution_count": 40,
   "id": "abbcdeae-3040-4bba-8a6d-a41abf0f6e6d",
   "metadata": {},
   "outputs": [
    {
     "data": {
      "text/plain": [
       "514"
      ]
     },
     "execution_count": 40,
     "metadata": {},
     "output_type": "execute_result"
    }
   ],
   "source": [
    "len(dem[\"avg_belief_score_2019_to_2022\"].dropna())"
   ]
  },
  {
   "cell_type": "code",
   "execution_count": 41,
   "id": "564bf480-1896-438c-8dbb-b52f39353870",
   "metadata": {},
   "outputs": [
    {
     "data": {
      "text/plain": [
       "295"
      ]
     },
     "execution_count": 41,
     "metadata": {},
     "output_type": "execute_result"
    }
   ],
   "source": [
    "len(rep[\"avg_belief_score_2010_to_2013\"].dropna())"
   ]
  },
  {
   "cell_type": "code",
   "execution_count": 42,
   "id": "86229a6c-5def-4c0f-a6d0-b8eea41da8c1",
   "metadata": {},
   "outputs": [
    {
     "data": {
      "text/plain": [
       "494"
      ]
     },
     "execution_count": 42,
     "metadata": {},
     "output_type": "execute_result"
    }
   ],
   "source": [
    "len(rep[\"avg_belief_score_2019_to_2022\"].dropna())"
   ]
  },
  {
   "cell_type": "markdown",
   "id": "05340be9-1463-45fe-8303-9cc4a17c8264",
   "metadata": {},
   "source": [
    "## Mean values of belief-speaking and truth-seeking similarity"
   ]
  },
  {
   "cell_type": "code",
   "execution_count": 43,
   "id": "96f0ce2c-e3d5-4974-97c6-f79b46e8c964",
   "metadata": {},
   "outputs": [
    {
     "data": {
      "text/plain": [
       "-0.031087137956548154"
      ]
     },
     "execution_count": 43,
     "metadata": {},
     "output_type": "execute_result"
    }
   ],
   "source": [
    "dem[\"avg_belief_score_2010_to_2013\"].mean()"
   ]
  },
  {
   "cell_type": "code",
   "execution_count": 44,
   "id": "4241db87-cba4-4669-b296-2f8a851f72f5",
   "metadata": {},
   "outputs": [
    {
     "data": {
      "text/plain": [
       "0.01679975176056016"
      ]
     },
     "execution_count": 44,
     "metadata": {},
     "output_type": "execute_result"
    }
   ],
   "source": [
    "dem[\"avg_belief_score_2019_to_2022\"].mean()"
   ]
  },
  {
   "cell_type": "code",
   "execution_count": 45,
   "id": "aad59ae0-608b-4fb1-b202-82cb28bc442b",
   "metadata": {},
   "outputs": [
    {
     "data": {
      "text/plain": [
       "-0.04022899954666405"
      ]
     },
     "execution_count": 45,
     "metadata": {},
     "output_type": "execute_result"
    }
   ],
   "source": [
    "rep[\"avg_belief_score_2010_to_2013\"].mean()"
   ]
  },
  {
   "cell_type": "code",
   "execution_count": 46,
   "id": "cdb0ea4d-f995-45cc-97dd-9067bfae02cd",
   "metadata": {},
   "outputs": [
    {
     "data": {
      "text/plain": [
       "0.011538102344141737"
      ]
     },
     "execution_count": 46,
     "metadata": {},
     "output_type": "execute_result"
    }
   ],
   "source": [
    "rep[\"avg_belief_score_2019_to_2022\"].mean()"
   ]
  },
  {
   "cell_type": "code",
   "execution_count": 47,
   "id": "b3fbcb7c-eb9a-4cdd-a519-3eca860ff317",
   "metadata": {},
   "outputs": [
    {
     "data": {
      "text/plain": [
       "-0.0272451628838662"
      ]
     },
     "execution_count": 47,
     "metadata": {},
     "output_type": "execute_result"
    }
   ],
   "source": [
    "dem[\"avg_truth_score_2010_to_2013\"].mean()"
   ]
  },
  {
   "cell_type": "code",
   "execution_count": 48,
   "id": "8ba92760-6582-4168-b857-081ed7e9ea9e",
   "metadata": {},
   "outputs": [
    {
     "data": {
      "text/plain": [
       "0.009172628333680271"
      ]
     },
     "execution_count": 48,
     "metadata": {},
     "output_type": "execute_result"
    }
   ],
   "source": [
    "dem[\"avg_truth_score_2019_to_2022\"].mean()"
   ]
  },
  {
   "cell_type": "code",
   "execution_count": 49,
   "id": "a2a34b4d-163d-4fd3-aec2-d6bf003fc93a",
   "metadata": {},
   "outputs": [
    {
     "data": {
      "text/plain": [
       "-0.037706695563842776"
      ]
     },
     "execution_count": 49,
     "metadata": {},
     "output_type": "execute_result"
    }
   ],
   "source": [
    "rep[\"avg_truth_score_2010_to_2013\"].mean()"
   ]
  },
  {
   "cell_type": "code",
   "execution_count": 50,
   "id": "aa19acfc-3785-41f9-8e57-a03b64e40bcf",
   "metadata": {},
   "outputs": [
    {
     "data": {
      "text/plain": [
       "-0.00260137451585453"
      ]
     },
     "execution_count": 50,
     "metadata": {},
     "output_type": "execute_result"
    }
   ],
   "source": [
    "rep[\"avg_truth_score_2019_to_2022\"].mean()"
   ]
  },
  {
   "cell_type": "markdown",
   "id": "2c867f53-62bf-4659-9430-560414824711",
   "metadata": {},
   "source": [
    "## T-tests to compare differences"
   ]
  },
  {
   "cell_type": "code",
   "execution_count": 51,
   "id": "fb0e290b-981e-4c34-b9d0-938d59ab2547",
   "metadata": {},
   "outputs": [
    {
     "data": {
      "text/html": [
       "<div>\n",
       "<style scoped>\n",
       "    .dataframe tbody tr th:only-of-type {\n",
       "        vertical-align: middle;\n",
       "    }\n",
       "\n",
       "    .dataframe tbody tr th {\n",
       "        vertical-align: top;\n",
       "    }\n",
       "\n",
       "    .dataframe thead th {\n",
       "        text-align: right;\n",
       "    }\n",
       "</style>\n",
       "<table border=\"1\" class=\"dataframe\">\n",
       "  <thead>\n",
       "    <tr style=\"text-align: right;\">\n",
       "      <th></th>\n",
       "      <th>T</th>\n",
       "      <th>dof</th>\n",
       "      <th>alternative</th>\n",
       "      <th>p-val</th>\n",
       "      <th>CI95%</th>\n",
       "      <th>cohen-d</th>\n",
       "      <th>BF10</th>\n",
       "      <th>power</th>\n",
       "    </tr>\n",
       "  </thead>\n",
       "  <tbody>\n",
       "    <tr>\n",
       "      <th>T-test</th>\n",
       "      <td>-11.31741</td>\n",
       "      <td>558.354272</td>\n",
       "      <td>two-sided</td>\n",
       "      <td>7.074804e-27</td>\n",
       "      <td>[-0.06, -0.04]</td>\n",
       "      <td>0.850142</td>\n",
       "      <td>2.948e+24</td>\n",
       "      <td>1.0</td>\n",
       "    </tr>\n",
       "  </tbody>\n",
       "</table>\n",
       "</div>"
      ],
      "text/plain": [
       "               T         dof alternative         p-val           CI95%  \\\n",
       "T-test -11.31741  558.354272   two-sided  7.074804e-27  [-0.06, -0.04]   \n",
       "\n",
       "         cohen-d       BF10  power  \n",
       "T-test  0.850142  2.948e+24    1.0  "
      ]
     },
     "execution_count": 51,
     "metadata": {},
     "output_type": "execute_result"
    }
   ],
   "source": [
    "# Democrats belief-speaking\n",
    "pt.ttest(dem[\"avg_belief_score_2010_to_2013\"],\n",
    "         dem[\"avg_belief_score_2019_to_2022\"], paired=False)"
   ]
  },
  {
   "cell_type": "code",
   "execution_count": 52,
   "id": "0aa20399-802c-4f29-bf90-e483684ca6f4",
   "metadata": {},
   "outputs": [
    {
     "data": {
      "text/html": [
       "<div>\n",
       "<style scoped>\n",
       "    .dataframe tbody tr th:only-of-type {\n",
       "        vertical-align: middle;\n",
       "    }\n",
       "\n",
       "    .dataframe tbody tr th {\n",
       "        vertical-align: top;\n",
       "    }\n",
       "\n",
       "    .dataframe thead th {\n",
       "        text-align: right;\n",
       "    }\n",
       "</style>\n",
       "<table border=\"1\" class=\"dataframe\">\n",
       "  <thead>\n",
       "    <tr style=\"text-align: right;\">\n",
       "      <th></th>\n",
       "      <th>T</th>\n",
       "      <th>dof</th>\n",
       "      <th>alternative</th>\n",
       "      <th>p-val</th>\n",
       "      <th>CI95%</th>\n",
       "      <th>cohen-d</th>\n",
       "      <th>BF10</th>\n",
       "      <th>power</th>\n",
       "    </tr>\n",
       "  </thead>\n",
       "  <tbody>\n",
       "    <tr>\n",
       "      <th>T-test</th>\n",
       "      <td>-10.819444</td>\n",
       "      <td>492.989126</td>\n",
       "      <td>two-sided</td>\n",
       "      <td>1.266421e-24</td>\n",
       "      <td>[-0.06, -0.04]</td>\n",
       "      <td>0.853795</td>\n",
       "      <td>1.968e+22</td>\n",
       "      <td>1.0</td>\n",
       "    </tr>\n",
       "  </tbody>\n",
       "</table>\n",
       "</div>"
      ],
      "text/plain": [
       "                T         dof alternative         p-val           CI95%  \\\n",
       "T-test -10.819444  492.989126   two-sided  1.266421e-24  [-0.06, -0.04]   \n",
       "\n",
       "         cohen-d       BF10  power  \n",
       "T-test  0.853795  1.968e+22    1.0  "
      ]
     },
     "execution_count": 52,
     "metadata": {},
     "output_type": "execute_result"
    }
   ],
   "source": [
    "# Republicans belief-speaking\n",
    "pt.ttest(rep[\"avg_belief_score_2010_to_2013\"],\n",
    "         rep[\"avg_belief_score_2019_to_2022\"], paired=False)"
   ]
  },
  {
   "cell_type": "code",
   "execution_count": 53,
   "id": "1e655b9f-976a-40c5-800e-e3a82a4c4ac0",
   "metadata": {},
   "outputs": [
    {
     "data": {
      "text/html": [
       "<div>\n",
       "<style scoped>\n",
       "    .dataframe tbody tr th:only-of-type {\n",
       "        vertical-align: middle;\n",
       "    }\n",
       "\n",
       "    .dataframe tbody tr th {\n",
       "        vertical-align: top;\n",
       "    }\n",
       "\n",
       "    .dataframe thead th {\n",
       "        text-align: right;\n",
       "    }\n",
       "</style>\n",
       "<table border=\"1\" class=\"dataframe\">\n",
       "  <thead>\n",
       "    <tr style=\"text-align: right;\">\n",
       "      <th></th>\n",
       "      <th>T</th>\n",
       "      <th>dof</th>\n",
       "      <th>alternative</th>\n",
       "      <th>p-val</th>\n",
       "      <th>CI95%</th>\n",
       "      <th>cohen-d</th>\n",
       "      <th>BF10</th>\n",
       "      <th>power</th>\n",
       "    </tr>\n",
       "  </thead>\n",
       "  <tbody>\n",
       "    <tr>\n",
       "      <th>T-test</th>\n",
       "      <td>-9.752772</td>\n",
       "      <td>515.959467</td>\n",
       "      <td>two-sided</td>\n",
       "      <td>9.741910e-21</td>\n",
       "      <td>[-0.04, -0.03]</td>\n",
       "      <td>0.748282</td>\n",
       "      <td>1.61e+18</td>\n",
       "      <td>1.0</td>\n",
       "    </tr>\n",
       "  </tbody>\n",
       "</table>\n",
       "</div>"
      ],
      "text/plain": [
       "               T         dof alternative         p-val           CI95%  \\\n",
       "T-test -9.752772  515.959467   two-sided  9.741910e-21  [-0.04, -0.03]   \n",
       "\n",
       "         cohen-d      BF10  power  \n",
       "T-test  0.748282  1.61e+18    1.0  "
      ]
     },
     "execution_count": 53,
     "metadata": {},
     "output_type": "execute_result"
    }
   ],
   "source": [
    "# Democrats truth-seeking\n",
    "pt.ttest(dem[\"avg_truth_score_2010_to_2013\"],\n",
    "         dem[\"avg_truth_score_2019_to_2022\"], paired=False)"
   ]
  },
  {
   "cell_type": "code",
   "execution_count": 54,
   "id": "99b613df-910b-41e0-94d4-0dc39873a9b3",
   "metadata": {},
   "outputs": [
    {
     "data": {
      "text/html": [
       "<div>\n",
       "<style scoped>\n",
       "    .dataframe tbody tr th:only-of-type {\n",
       "        vertical-align: middle;\n",
       "    }\n",
       "\n",
       "    .dataframe tbody tr th {\n",
       "        vertical-align: top;\n",
       "    }\n",
       "\n",
       "    .dataframe thead th {\n",
       "        text-align: right;\n",
       "    }\n",
       "</style>\n",
       "<table border=\"1\" class=\"dataframe\">\n",
       "  <thead>\n",
       "    <tr style=\"text-align: right;\">\n",
       "      <th></th>\n",
       "      <th>T</th>\n",
       "      <th>dof</th>\n",
       "      <th>alternative</th>\n",
       "      <th>p-val</th>\n",
       "      <th>CI95%</th>\n",
       "      <th>cohen-d</th>\n",
       "      <th>BF10</th>\n",
       "      <th>power</th>\n",
       "    </tr>\n",
       "  </thead>\n",
       "  <tbody>\n",
       "    <tr>\n",
       "      <th>T-test</th>\n",
       "      <td>-8.442057</td>\n",
       "      <td>482.836161</td>\n",
       "      <td>two-sided</td>\n",
       "      <td>3.668184e-16</td>\n",
       "      <td>[-0.04, -0.03]</td>\n",
       "      <td>0.670516</td>\n",
       "      <td>3.207e+13</td>\n",
       "      <td>1.0</td>\n",
       "    </tr>\n",
       "  </tbody>\n",
       "</table>\n",
       "</div>"
      ],
      "text/plain": [
       "               T         dof alternative         p-val           CI95%  \\\n",
       "T-test -8.442057  482.836161   two-sided  3.668184e-16  [-0.04, -0.03]   \n",
       "\n",
       "         cohen-d       BF10  power  \n",
       "T-test  0.670516  3.207e+13    1.0  "
      ]
     },
     "execution_count": 54,
     "metadata": {},
     "output_type": "execute_result"
    }
   ],
   "source": [
    "# Republicans truth-seeking\n",
    "pt.ttest(rep[\"avg_truth_score_2010_to_2013\"],\n",
    "         rep[\"avg_truth_score_2019_to_2022\"], paired=False)"
   ]
  },
  {
   "cell_type": "markdown",
   "id": "5f6f4aa1-2575-4eb5-b0ce-eaf64a55e248",
   "metadata": {},
   "source": [
    "## Users that contribute the most to changing honesty components"
   ]
  },
  {
   "cell_type": "code",
   "execution_count": 55,
   "id": "7e203d5d-642d-445b-aa6e-07197eb46961",
   "metadata": {},
   "outputs": [],
   "source": [
    "dem[\"avg_belief_score_difference\"] = dem[\"avg_belief_score_2019_to_2022\"] / \\\n",
    "                                     dem[\"avg_belief_score_2010_to_2013\"] * 100 \n",
    "dem[\"avg_truth_score_difference\"] = dem[\"avg_truth_score_2019_to_2022\"] / \\\n",
    "                                     dem[\"avg_truth_score_2010_to_2013\"] * 100\n",
    "rep[\"avg_belief_score_difference\"] = rep[\"avg_belief_score_2019_to_2022\"] / \\\n",
    "                                     rep[\"avg_belief_score_2010_to_2013\"] * 100\n",
    "rep[\"avg_truth_score_difference\"] = rep[\"avg_truth_score_2019_to_2022\"] / \\\n",
    "                                     rep[\"avg_truth_score_2010_to_2013\"] * 100"
   ]
  },
  {
   "cell_type": "code",
   "execution_count": 56,
   "id": "9ae31b71-c012-4f07-b1f3-8d226e026ee5",
   "metadata": {},
   "outputs": [],
   "source": [
    "dem[\"avg_belief_score_difference_raw\"] = dem[\"avg_belief_score_2019_to_2022\"] -\\\n",
    "                                     dem[\"avg_belief_score_2010_to_2013\"] \n",
    "dem[\"avg_truth_score_difference_raw\"] = dem[\"avg_truth_score_2019_to_2022\"] -\\\n",
    "                                     dem[\"avg_truth_score_2010_to_2013\"] \n",
    "rep[\"avg_belief_score_difference_raw\"] = rep[\"avg_belief_score_2019_to_2022\"] -\\\n",
    "                                     rep[\"avg_belief_score_2010_to_2013\"] \n",
    "rep[\"avg_truth_score_difference_raw\"] = rep[\"avg_truth_score_2019_to_2022\"] -\\\n",
    "                                     rep[\"avg_truth_score_2010_to_2013\"]"
   ]
  },
  {
   "cell_type": "markdown",
   "id": "e930b7b4-fac2-45f7-accf-87aea75fc850",
   "metadata": {},
   "source": [
    "### Belief-speaking"
   ]
  },
  {
   "cell_type": "code",
   "execution_count": 57,
   "id": "91e57a5d-23b2-4235-98b2-4a514256dcb3",
   "metadata": {},
   "outputs": [],
   "source": [
    "dem = dem.sort_values(by=[\"avg_belief_score_difference_raw\"], ascending=False)\n",
    "rep = rep.sort_values(by=[\"avg_belief_score_difference_raw\"], ascending=False)\n",
    "cols = [\"handle\", \"avg_belief_score_difference_raw\", \"N_tweets\", \"avg_belief_score_2010_to_2013\", \"avg_belief_score_2019_to_2022\"]"
   ]
  },
  {
   "cell_type": "code",
   "execution_count": 58,
   "id": "64f1ec87-aed7-42a8-8fc6-fad1f1d73231",
   "metadata": {},
   "outputs": [
    {
     "data": {
      "text/html": [
       "<div>\n",
       "<style scoped>\n",
       "    .dataframe tbody tr th:only-of-type {\n",
       "        vertical-align: middle;\n",
       "    }\n",
       "\n",
       "    .dataframe tbody tr th {\n",
       "        vertical-align: top;\n",
       "    }\n",
       "\n",
       "    .dataframe thead th {\n",
       "        text-align: right;\n",
       "    }\n",
       "</style>\n",
       "<table border=\"1\" class=\"dataframe\">\n",
       "  <thead>\n",
       "    <tr style=\"text-align: right;\">\n",
       "      <th></th>\n",
       "      <th>handle</th>\n",
       "      <th>avg_belief_score_difference_raw</th>\n",
       "      <th>N_tweets</th>\n",
       "      <th>avg_belief_score_2010_to_2013</th>\n",
       "      <th>avg_belief_score_2019_to_2022</th>\n",
       "    </tr>\n",
       "  </thead>\n",
       "  <tbody>\n",
       "    <tr>\n",
       "      <th>406</th>\n",
       "      <td>SenatorLujan</td>\n",
       "      <td>0.439350</td>\n",
       "      <td>5369</td>\n",
       "      <td>-0.427124</td>\n",
       "      <td>0.012226</td>\n",
       "    </tr>\n",
       "    <tr>\n",
       "      <th>905</th>\n",
       "      <td>SenStabenow</td>\n",
       "      <td>0.363813</td>\n",
       "      <td>6279</td>\n",
       "      <td>-0.325639</td>\n",
       "      <td>0.038174</td>\n",
       "    </tr>\n",
       "    <tr>\n",
       "      <th>446</th>\n",
       "      <td>SenBooker</td>\n",
       "      <td>0.281887</td>\n",
       "      <td>5088</td>\n",
       "      <td>-0.244836</td>\n",
       "      <td>0.037052</td>\n",
       "    </tr>\n",
       "    <tr>\n",
       "      <th>764</th>\n",
       "      <td>aguilarpete</td>\n",
       "      <td>0.216339</td>\n",
       "      <td>541</td>\n",
       "      <td>-0.011172</td>\n",
       "      <td>0.205167</td>\n",
       "    </tr>\n",
       "    <tr>\n",
       "      <th>1034</th>\n",
       "      <td>WilliamKeating</td>\n",
       "      <td>0.209026</td>\n",
       "      <td>713</td>\n",
       "      <td>-0.174870</td>\n",
       "      <td>0.034156</td>\n",
       "    </tr>\n",
       "    <tr>\n",
       "      <th>480</th>\n",
       "      <td>USRepKeating</td>\n",
       "      <td>0.199555</td>\n",
       "      <td>2162</td>\n",
       "      <td>-0.157711</td>\n",
       "      <td>0.041844</td>\n",
       "    </tr>\n",
       "    <tr>\n",
       "      <th>203</th>\n",
       "      <td>pallonefornj</td>\n",
       "      <td>0.193862</td>\n",
       "      <td>2182</td>\n",
       "      <td>-0.141561</td>\n",
       "      <td>0.052301</td>\n",
       "    </tr>\n",
       "    <tr>\n",
       "      <th>677</th>\n",
       "      <td>BobbyScott4VA3</td>\n",
       "      <td>0.176313</td>\n",
       "      <td>1163</td>\n",
       "      <td>-0.275243</td>\n",
       "      <td>-0.098930</td>\n",
       "    </tr>\n",
       "    <tr>\n",
       "      <th>31</th>\n",
       "      <td>TulsiPress</td>\n",
       "      <td>0.174907</td>\n",
       "      <td>4004</td>\n",
       "      <td>-0.147119</td>\n",
       "      <td>0.027788</td>\n",
       "    </tr>\n",
       "    <tr>\n",
       "      <th>360</th>\n",
       "      <td>Matsui4Congress</td>\n",
       "      <td>0.171611</td>\n",
       "      <td>843</td>\n",
       "      <td>-0.157768</td>\n",
       "      <td>0.013843</td>\n",
       "    </tr>\n",
       "  </tbody>\n",
       "</table>\n",
       "</div>"
      ],
      "text/plain": [
       "               handle  avg_belief_score_difference_raw  N_tweets  \\\n",
       "406      SenatorLujan                         0.439350      5369   \n",
       "905       SenStabenow                         0.363813      6279   \n",
       "446         SenBooker                         0.281887      5088   \n",
       "764       aguilarpete                         0.216339       541   \n",
       "1034   WilliamKeating                         0.209026       713   \n",
       "480      USRepKeating                         0.199555      2162   \n",
       "203      pallonefornj                         0.193862      2182   \n",
       "677    BobbyScott4VA3                         0.176313      1163   \n",
       "31         TulsiPress                         0.174907      4004   \n",
       "360   Matsui4Congress                         0.171611       843   \n",
       "\n",
       "      avg_belief_score_2010_to_2013  avg_belief_score_2019_to_2022  \n",
       "406                       -0.427124                       0.012226  \n",
       "905                       -0.325639                       0.038174  \n",
       "446                       -0.244836                       0.037052  \n",
       "764                       -0.011172                       0.205167  \n",
       "1034                      -0.174870                       0.034156  \n",
       "480                       -0.157711                       0.041844  \n",
       "203                       -0.141561                       0.052301  \n",
       "677                       -0.275243                      -0.098930  \n",
       "31                        -0.147119                       0.027788  \n",
       "360                       -0.157768                       0.013843  "
      ]
     },
     "execution_count": 58,
     "metadata": {},
     "output_type": "execute_result"
    }
   ],
   "source": [
    "dem[cols][0:10]"
   ]
  },
  {
   "cell_type": "code",
   "execution_count": 59,
   "id": "a64382b1-bb89-4ae8-b37c-18131685c0bb",
   "metadata": {},
   "outputs": [
    {
     "data": {
      "text/html": [
       "<div>\n",
       "<style scoped>\n",
       "    .dataframe tbody tr th:only-of-type {\n",
       "        vertical-align: middle;\n",
       "    }\n",
       "\n",
       "    .dataframe tbody tr th {\n",
       "        vertical-align: top;\n",
       "    }\n",
       "\n",
       "    .dataframe thead th {\n",
       "        text-align: right;\n",
       "    }\n",
       "</style>\n",
       "<table border=\"1\" class=\"dataframe\">\n",
       "  <thead>\n",
       "    <tr style=\"text-align: right;\">\n",
       "      <th></th>\n",
       "      <th>handle</th>\n",
       "      <th>avg_belief_score_difference_raw</th>\n",
       "      <th>N_tweets</th>\n",
       "      <th>avg_belief_score_2010_to_2013</th>\n",
       "      <th>avg_belief_score_2019_to_2022</th>\n",
       "    </tr>\n",
       "  </thead>\n",
       "  <tbody>\n",
       "    <tr>\n",
       "      <th>886</th>\n",
       "      <td>SenBobCorker</td>\n",
       "      <td>0.307040</td>\n",
       "      <td>3800</td>\n",
       "      <td>-0.144048</td>\n",
       "      <td>0.162992</td>\n",
       "    </tr>\n",
       "    <tr>\n",
       "      <th>616</th>\n",
       "      <td>GrassleyPress</td>\n",
       "      <td>0.287462</td>\n",
       "      <td>9386</td>\n",
       "      <td>-0.284752</td>\n",
       "      <td>0.002710</td>\n",
       "    </tr>\n",
       "    <tr>\n",
       "      <th>892</th>\n",
       "      <td>McCaulforTexas</td>\n",
       "      <td>0.264878</td>\n",
       "      <td>3138</td>\n",
       "      <td>-0.248697</td>\n",
       "      <td>0.016181</td>\n",
       "    </tr>\n",
       "    <tr>\n",
       "      <th>405</th>\n",
       "      <td>krhern</td>\n",
       "      <td>0.237205</td>\n",
       "      <td>679</td>\n",
       "      <td>-0.147185</td>\n",
       "      <td>0.090020</td>\n",
       "    </tr>\n",
       "    <tr>\n",
       "      <th>929</th>\n",
       "      <td>votetimscott</td>\n",
       "      <td>0.209389</td>\n",
       "      <td>2563</td>\n",
       "      <td>-0.118062</td>\n",
       "      <td>0.091327</td>\n",
       "    </tr>\n",
       "    <tr>\n",
       "      <th>748</th>\n",
       "      <td>MaElviraSalazar</td>\n",
       "      <td>0.197998</td>\n",
       "      <td>4829</td>\n",
       "      <td>-0.508628</td>\n",
       "      <td>-0.310630</td>\n",
       "    </tr>\n",
       "    <tr>\n",
       "      <th>548</th>\n",
       "      <td>congbillposey</td>\n",
       "      <td>0.193501</td>\n",
       "      <td>650</td>\n",
       "      <td>-0.313193</td>\n",
       "      <td>-0.119691</td>\n",
       "    </tr>\n",
       "    <tr>\n",
       "      <th>724</th>\n",
       "      <td>MacTXPress</td>\n",
       "      <td>0.189567</td>\n",
       "      <td>556</td>\n",
       "      <td>-0.118393</td>\n",
       "      <td>0.071174</td>\n",
       "    </tr>\n",
       "    <tr>\n",
       "      <th>157</th>\n",
       "      <td>MikeKellyforPA</td>\n",
       "      <td>0.187672</td>\n",
       "      <td>277</td>\n",
       "      <td>-0.126396</td>\n",
       "      <td>0.061276</td>\n",
       "    </tr>\n",
       "    <tr>\n",
       "      <th>571</th>\n",
       "      <td>JohnKennedyLA</td>\n",
       "      <td>0.186556</td>\n",
       "      <td>651</td>\n",
       "      <td>-0.119126</td>\n",
       "      <td>0.067431</td>\n",
       "    </tr>\n",
       "  </tbody>\n",
       "</table>\n",
       "</div>"
      ],
      "text/plain": [
       "              handle  avg_belief_score_difference_raw  N_tweets  \\\n",
       "886     SenBobCorker                         0.307040      3800   \n",
       "616    GrassleyPress                         0.287462      9386   \n",
       "892   McCaulforTexas                         0.264878      3138   \n",
       "405           krhern                         0.237205       679   \n",
       "929     votetimscott                         0.209389      2563   \n",
       "748  MaElviraSalazar                         0.197998      4829   \n",
       "548    congbillposey                         0.193501       650   \n",
       "724       MacTXPress                         0.189567       556   \n",
       "157   MikeKellyforPA                         0.187672       277   \n",
       "571    JohnKennedyLA                         0.186556       651   \n",
       "\n",
       "     avg_belief_score_2010_to_2013  avg_belief_score_2019_to_2022  \n",
       "886                      -0.144048                       0.162992  \n",
       "616                      -0.284752                       0.002710  \n",
       "892                      -0.248697                       0.016181  \n",
       "405                      -0.147185                       0.090020  \n",
       "929                      -0.118062                       0.091327  \n",
       "748                      -0.508628                      -0.310630  \n",
       "548                      -0.313193                      -0.119691  \n",
       "724                      -0.118393                       0.071174  \n",
       "157                      -0.126396                       0.061276  \n",
       "571                      -0.119126                       0.067431  "
      ]
     },
     "execution_count": 59,
     "metadata": {},
     "output_type": "execute_result"
    }
   ],
   "source": [
    "rep[cols][0:10]"
   ]
  },
  {
   "cell_type": "markdown",
   "id": "a73181fa-3c18-4a18-9f42-747c61f40f04",
   "metadata": {},
   "source": [
    "### Truth-seeking"
   ]
  },
  {
   "cell_type": "code",
   "execution_count": 278,
   "id": "915d65f1-861e-4d86-b9f9-18f6e2884901",
   "metadata": {},
   "outputs": [],
   "source": [
    "dem = dem.sort_values(by=[\"avg_truth_score_difference_raw\"], ascending=False)\n",
    "rep = rep.sort_values(by=[\"avg_truth_score_difference_raw\"], ascending=False)\n",
    "cols = [\"handle\", \"avg_truth_score_difference_raw\", \"N_tweets\", \"avg_truth_score_2010_to_2013\", \"avg_truth_score_2019_to_2022\"]"
   ]
  },
  {
   "cell_type": "code",
   "execution_count": 279,
   "id": "e1fae84c-3691-4144-b495-d3ea18894834",
   "metadata": {},
   "outputs": [
    {
     "data": {
      "text/html": [
       "<div>\n",
       "<style scoped>\n",
       "    .dataframe tbody tr th:only-of-type {\n",
       "        vertical-align: middle;\n",
       "    }\n",
       "\n",
       "    .dataframe tbody tr th {\n",
       "        vertical-align: top;\n",
       "    }\n",
       "\n",
       "    .dataframe thead th {\n",
       "        text-align: right;\n",
       "    }\n",
       "</style>\n",
       "<table border=\"1\" class=\"dataframe\">\n",
       "  <thead>\n",
       "    <tr style=\"text-align: right;\">\n",
       "      <th></th>\n",
       "      <th>handle</th>\n",
       "      <th>avg_truth_score_difference_raw</th>\n",
       "      <th>N_tweets</th>\n",
       "      <th>avg_truth_score_2010_to_2013</th>\n",
       "      <th>avg_truth_score_2019_to_2022</th>\n",
       "    </tr>\n",
       "  </thead>\n",
       "  <tbody>\n",
       "    <tr>\n",
       "      <th>406</th>\n",
       "      <td>SenatorLujan</td>\n",
       "      <td>0.345976</td>\n",
       "      <td>5369</td>\n",
       "      <td>-0.327637</td>\n",
       "      <td>0.018339</td>\n",
       "    </tr>\n",
       "    <tr>\n",
       "      <th>905</th>\n",
       "      <td>SenStabenow</td>\n",
       "      <td>0.294308</td>\n",
       "      <td>6279</td>\n",
       "      <td>-0.253833</td>\n",
       "      <td>0.040475</td>\n",
       "    </tr>\n",
       "    <tr>\n",
       "      <th>1034</th>\n",
       "      <td>WilliamKeating</td>\n",
       "      <td>0.197950</td>\n",
       "      <td>713</td>\n",
       "      <td>-0.188990</td>\n",
       "      <td>0.008960</td>\n",
       "    </tr>\n",
       "    <tr>\n",
       "      <th>31</th>\n",
       "      <td>TulsiPress</td>\n",
       "      <td>0.193489</td>\n",
       "      <td>4004</td>\n",
       "      <td>-0.139192</td>\n",
       "      <td>0.054297</td>\n",
       "    </tr>\n",
       "    <tr>\n",
       "      <th>1031</th>\n",
       "      <td>DeGette5280</td>\n",
       "      <td>0.182647</td>\n",
       "      <td>1195</td>\n",
       "      <td>-0.152255</td>\n",
       "      <td>0.030392</td>\n",
       "    </tr>\n",
       "    <tr>\n",
       "      <th>480</th>\n",
       "      <td>USRepKeating</td>\n",
       "      <td>0.177597</td>\n",
       "      <td>2162</td>\n",
       "      <td>-0.136001</td>\n",
       "      <td>0.041597</td>\n",
       "    </tr>\n",
       "    <tr>\n",
       "      <th>360</th>\n",
       "      <td>Matsui4Congress</td>\n",
       "      <td>0.158593</td>\n",
       "      <td>843</td>\n",
       "      <td>-0.177410</td>\n",
       "      <td>-0.018816</td>\n",
       "    </tr>\n",
       "    <tr>\n",
       "      <th>446</th>\n",
       "      <td>SenBooker</td>\n",
       "      <td>0.156449</td>\n",
       "      <td>5088</td>\n",
       "      <td>-0.117531</td>\n",
       "      <td>0.038917</td>\n",
       "    </tr>\n",
       "    <tr>\n",
       "      <th>691</th>\n",
       "      <td>RepJoseSerrano</td>\n",
       "      <td>0.154026</td>\n",
       "      <td>4168</td>\n",
       "      <td>-0.213723</td>\n",
       "      <td>-0.059696</td>\n",
       "    </tr>\n",
       "    <tr>\n",
       "      <th>677</th>\n",
       "      <td>BobbyScott4VA3</td>\n",
       "      <td>0.147754</td>\n",
       "      <td>1163</td>\n",
       "      <td>-0.254986</td>\n",
       "      <td>-0.107232</td>\n",
       "    </tr>\n",
       "  </tbody>\n",
       "</table>\n",
       "</div>"
      ],
      "text/plain": [
       "               handle  avg_truth_score_difference_raw  N_tweets  \\\n",
       "406      SenatorLujan                        0.345976      5369   \n",
       "905       SenStabenow                        0.294308      6279   \n",
       "1034   WilliamKeating                        0.197950       713   \n",
       "31         TulsiPress                        0.193489      4004   \n",
       "1031      DeGette5280                        0.182647      1195   \n",
       "480      USRepKeating                        0.177597      2162   \n",
       "360   Matsui4Congress                        0.158593       843   \n",
       "446         SenBooker                        0.156449      5088   \n",
       "691    RepJoseSerrano                        0.154026      4168   \n",
       "677    BobbyScott4VA3                        0.147754      1163   \n",
       "\n",
       "      avg_truth_score_2010_to_2013  avg_truth_score_2019_to_2022  \n",
       "406                      -0.327637                      0.018339  \n",
       "905                      -0.253833                      0.040475  \n",
       "1034                     -0.188990                      0.008960  \n",
       "31                       -0.139192                      0.054297  \n",
       "1031                     -0.152255                      0.030392  \n",
       "480                      -0.136001                      0.041597  \n",
       "360                      -0.177410                     -0.018816  \n",
       "446                      -0.117531                      0.038917  \n",
       "691                      -0.213723                     -0.059696  \n",
       "677                      -0.254986                     -0.107232  "
      ]
     },
     "execution_count": 279,
     "metadata": {},
     "output_type": "execute_result"
    }
   ],
   "source": [
    "dem[cols][0:10]"
   ]
  },
  {
   "cell_type": "code",
   "execution_count": 280,
   "id": "ab9ca737-992d-4adc-9999-17800059f055",
   "metadata": {},
   "outputs": [
    {
     "data": {
      "text/html": [
       "<div>\n",
       "<style scoped>\n",
       "    .dataframe tbody tr th:only-of-type {\n",
       "        vertical-align: middle;\n",
       "    }\n",
       "\n",
       "    .dataframe tbody tr th {\n",
       "        vertical-align: top;\n",
       "    }\n",
       "\n",
       "    .dataframe thead th {\n",
       "        text-align: right;\n",
       "    }\n",
       "</style>\n",
       "<table border=\"1\" class=\"dataframe\">\n",
       "  <thead>\n",
       "    <tr style=\"text-align: right;\">\n",
       "      <th></th>\n",
       "      <th>handle</th>\n",
       "      <th>avg_truth_score_difference_raw</th>\n",
       "      <th>N_tweets</th>\n",
       "      <th>avg_truth_score_2010_to_2013</th>\n",
       "      <th>avg_truth_score_2019_to_2022</th>\n",
       "    </tr>\n",
       "  </thead>\n",
       "  <tbody>\n",
       "    <tr>\n",
       "      <th>892</th>\n",
       "      <td>McCaulforTexas</td>\n",
       "      <td>0.255068</td>\n",
       "      <td>3138</td>\n",
       "      <td>-0.251097</td>\n",
       "      <td>0.003971</td>\n",
       "    </tr>\n",
       "    <tr>\n",
       "      <th>886</th>\n",
       "      <td>SenBobCorker</td>\n",
       "      <td>0.229819</td>\n",
       "      <td>3800</td>\n",
       "      <td>-0.114537</td>\n",
       "      <td>0.115282</td>\n",
       "    </tr>\n",
       "    <tr>\n",
       "      <th>616</th>\n",
       "      <td>GrassleyPress</td>\n",
       "      <td>0.213713</td>\n",
       "      <td>9386</td>\n",
       "      <td>-0.173018</td>\n",
       "      <td>0.040695</td>\n",
       "    </tr>\n",
       "    <tr>\n",
       "      <th>214</th>\n",
       "      <td>TeamCMR</td>\n",
       "      <td>0.194999</td>\n",
       "      <td>1024</td>\n",
       "      <td>-0.140974</td>\n",
       "      <td>0.054024</td>\n",
       "    </tr>\n",
       "    <tr>\n",
       "      <th>548</th>\n",
       "      <td>congbillposey</td>\n",
       "      <td>0.188606</td>\n",
       "      <td>650</td>\n",
       "      <td>-0.253476</td>\n",
       "      <td>-0.064869</td>\n",
       "    </tr>\n",
       "    <tr>\n",
       "      <th>565</th>\n",
       "      <td>cindyhydesmith</td>\n",
       "      <td>0.163499</td>\n",
       "      <td>1898</td>\n",
       "      <td>-0.137314</td>\n",
       "      <td>0.026185</td>\n",
       "    </tr>\n",
       "    <tr>\n",
       "      <th>679</th>\n",
       "      <td>stephaniebice</td>\n",
       "      <td>0.160735</td>\n",
       "      <td>3001</td>\n",
       "      <td>-0.153735</td>\n",
       "      <td>0.006999</td>\n",
       "    </tr>\n",
       "    <tr>\n",
       "      <th>929</th>\n",
       "      <td>votetimscott</td>\n",
       "      <td>0.158586</td>\n",
       "      <td>2563</td>\n",
       "      <td>-0.126239</td>\n",
       "      <td>0.032347</td>\n",
       "    </tr>\n",
       "    <tr>\n",
       "      <th>562</th>\n",
       "      <td>CurtisUT</td>\n",
       "      <td>0.155091</td>\n",
       "      <td>3663</td>\n",
       "      <td>-0.128574</td>\n",
       "      <td>0.026517</td>\n",
       "    </tr>\n",
       "    <tr>\n",
       "      <th>157</th>\n",
       "      <td>MikeKellyforPA</td>\n",
       "      <td>0.154914</td>\n",
       "      <td>277</td>\n",
       "      <td>-0.152242</td>\n",
       "      <td>0.002672</td>\n",
       "    </tr>\n",
       "  </tbody>\n",
       "</table>\n",
       "</div>"
      ],
      "text/plain": [
       "             handle  avg_truth_score_difference_raw  N_tweets  \\\n",
       "892  McCaulforTexas                        0.255068      3138   \n",
       "886    SenBobCorker                        0.229819      3800   \n",
       "616   GrassleyPress                        0.213713      9386   \n",
       "214         TeamCMR                        0.194999      1024   \n",
       "548   congbillposey                        0.188606       650   \n",
       "565  cindyhydesmith                        0.163499      1898   \n",
       "679   stephaniebice                        0.160735      3001   \n",
       "929    votetimscott                        0.158586      2563   \n",
       "562        CurtisUT                        0.155091      3663   \n",
       "157  MikeKellyforPA                        0.154914       277   \n",
       "\n",
       "     avg_truth_score_2010_to_2013  avg_truth_score_2019_to_2022  \n",
       "892                     -0.251097                      0.003971  \n",
       "886                     -0.114537                      0.115282  \n",
       "616                     -0.173018                      0.040695  \n",
       "214                     -0.140974                      0.054024  \n",
       "548                     -0.253476                     -0.064869  \n",
       "565                     -0.137314                      0.026185  \n",
       "679                     -0.153735                      0.006999  \n",
       "929                     -0.126239                      0.032347  \n",
       "562                     -0.128574                      0.026517  \n",
       "157                     -0.152242                      0.002672  "
      ]
     },
     "execution_count": 280,
     "metadata": {},
     "output_type": "execute_result"
    }
   ],
   "source": [
    "rep[cols][0:10]"
   ]
  },
  {
   "cell_type": "markdown",
   "id": "f11b32fc-8ec6-4373-98b4-b22f19b987e3",
   "metadata": {},
   "source": [
    "## How much do politicians tweet?"
   ]
  },
  {
   "cell_type": "code",
   "execution_count": 283,
   "id": "50c386dc-17a6-4f51-84ea-59301468d5ea",
   "metadata": {},
   "outputs": [
    {
     "data": {
      "text/plain": [
       "2876.0"
      ]
     },
     "execution_count": 283,
     "metadata": {},
     "output_type": "execute_result"
    }
   ],
   "source": [
    "users[\"N_tweets\"].median()"
   ]
  },
  {
   "cell_type": "code",
   "execution_count": 6,
   "id": "b16927ab-210b-4a43-bfad-bace63277d38",
   "metadata": {},
   "outputs": [
    {
     "data": {
      "text/plain": [
       "4279.5973534971645"
      ]
     },
     "execution_count": 6,
     "metadata": {},
     "output_type": "execute_result"
    }
   ],
   "source": [
    "users[\"N_tweets\"].mean()"
   ]
  },
  {
   "cell_type": "code",
   "execution_count": 74,
   "id": "22ab805a-6170-4dc6-864f-edc27ab01d43",
   "metadata": {},
   "outputs": [
    {
     "data": {
      "text/plain": [
       "5784.5"
      ]
     },
     "execution_count": 74,
     "metadata": {},
     "output_type": "execute_result"
    }
   ],
   "source": [
    "users[\"N_tweets\"].quantile(0.75)"
   ]
  },
  {
   "cell_type": "code",
   "execution_count": 75,
   "id": "bd73c890-a734-424c-96b4-68e8b97d0ffe",
   "metadata": {},
   "outputs": [
    {
     "data": {
      "text/plain": [
       "9799.2"
      ]
     },
     "execution_count": 75,
     "metadata": {},
     "output_type": "execute_result"
    }
   ],
   "source": [
    "users[\"N_tweets\"].quantile(0.9)"
   ]
  },
  {
   "cell_type": "code",
   "execution_count": 76,
   "id": "995c7e33-1048-490c-9553-fcf577d9a056",
   "metadata": {},
   "outputs": [
    {
     "data": {
      "text/plain": [
       "52055"
      ]
     },
     "execution_count": 76,
     "metadata": {},
     "output_type": "execute_result"
    }
   ],
   "source": [
    "users[\"N_tweets\"].max()"
   ]
  },
  {
   "cell_type": "code",
   "execution_count": 77,
   "id": "008b273e-e52d-46d8-948c-7ae4800ba0ce",
   "metadata": {},
   "outputs": [
    {
     "data": {
      "text/plain": [
       "handle                                          CoryBooker\n",
       "author_id                                         15808765\n",
       "name                                           Cory Booker\n",
       "party                                             Democrat\n",
       "N_tweets                                             52055\n",
       "followers_count                                    4835121\n",
       "following_count                                      85100\n",
       "tweet_count                                          67749\n",
       "created_at                       2008-08-11 14:41:16+00:00\n",
       "congress                                             117.0\n",
       "type                                              official\n",
       "NG_unreliable_share                               0.011882\n",
       "NG_score_mean                                    93.538774\n",
       "accuracy_mean                                     3.864181\n",
       "transparency_mean                                  2.77763\n",
       "independent_unreliable_share                      0.019973\n",
       "avg_belief_score                                  0.543549\n",
       "avg_truth_score                                   0.451895\n",
       "avg_belief_score_2010_to_2013                      0.52898\n",
       "avg_truth_score_2010_to_2013                      0.441851\n",
       "avg_belief_score_2019_to_2022                     0.648345\n",
       "avg_truth_score_2019_to_2022                      0.562502\n",
       "ideology_mean                                          NaN\n",
       "ideology_std                                           NaN\n",
       "ideology_count                                         NaN\n",
       "state                                                  NaN\n",
       "pf_score                                             0.617\n",
       "Name: 331, dtype: object"
      ]
     },
     "execution_count": 77,
     "metadata": {},
     "output_type": "execute_result"
    }
   ],
   "source": [
    "users.loc[users[\"N_tweets\"].idxmax()]"
   ]
  },
  {
   "cell_type": "code",
   "execution_count": 78,
   "id": "26e2f5e1-a5ff-4141-9d83-a24e21f41335",
   "metadata": {},
   "outputs": [
    {
     "data": {
      "text/plain": [
       "(array([480., 246., 163.,  68.,  41.,  29.,  12.,   9.,   3.,   3.,   1.,\n",
       "          1.,   1.,   0.,   0.,   0.,   0.,   0.,   0.,   0.,   1.]),\n",
       " array([    0,  2500,  5000,  7500, 10000, 12500, 15000, 17500, 20000,\n",
       "        22500, 25000, 27500, 30000, 32500, 35000, 37500, 40000, 42500,\n",
       "        45000, 47500, 50000, 52500]),\n",
       " <BarContainer object of 21 artists>)"
      ]
     },
     "execution_count": 78,
     "metadata": {},
     "output_type": "execute_result"
    },
    {
     "data": {
      "image/png": "[encoded data removed]",
      "text/plain": [
       "<Figure size 1000x500 with 1 Axes>"
      ]
     },
     "metadata": {},
     "output_type": "display_data"
    }
   ],
   "source": [
    "fig, ax = plt.subplots(figsize=(10, 5))\n",
    "ax.hist(users[\"N_tweets\"], bins=range(0, 55000, 2500), rwidth=0.8)"
   ]
  },
  {
   "cell_type": "code",
   "execution_count": 79,
   "id": "07e0a5de-ba13-4503-9eef-2d243a6e9c17",
   "metadata": {},
   "outputs": [
    {
     "data": {
      "text/plain": [
       "2.8392189876401766"
      ]
     },
     "execution_count": 79,
     "metadata": {},
     "output_type": "execute_result"
    }
   ],
   "source": [
    "skew(users[\"N_tweets\"])"
   ]
  },
  {
   "cell_type": "markdown",
   "id": "bc20ab87-d29e-4f1f-a6b6-37cbaa2784a4",
   "metadata": {},
   "source": [
    "# Tweets"
   ]
  },
  {
   "cell_type": "markdown",
   "id": "46e47ed4-4e6c-44a6-878a-daa8be93c476",
   "metadata": {},
   "source": [
    "## Number of tweets"
   ]
  },
  {
   "cell_type": "code",
   "execution_count": 31,
   "id": "c16b085c-0afa-401e-ba43-be517f262ef1",
   "metadata": {},
   "outputs": [],
   "source": [
    "src = \"../../data/tweets\"\n",
    "fname = \"tweets.csv.gzip\"\n",
    "tweets = pd.read_csv(\n",
    "    Path(src, fname),\n",
    "    compression=\"gzip\", \n",
    "    parse_dates=[\"created_at\"]\n",
    ")"
   ]
  },
  {
   "cell_type": "code",
   "execution_count": 4,
   "id": "94ae786d-4152-436e-967e-e3f1f2d5cee5",
   "metadata": {},
   "outputs": [
    {
     "name": "stdout",
     "output_type": "stream",
     "text": [
      "number of tweets in the corpus: 4562761\n",
      "number of original in the corpus: 3463409\n",
      "number of quoted tweets in the corpus: 531289\n",
      "number of replies in the corpus: 575044\n",
      "number of retweets in the corpus: 0\n"
     ]
    }
   ],
   "source": [
    "print(f\"number of tweets in the corpus: {len(tweets)}\")\n",
    "print(\"number of original in the corpus: {}\"\\\n",
    "      .format(len(tweets[(tweets[\"retweeted\"] == False) &\\\n",
    "                         (tweets[\"quoted\"] == False) &\\\n",
    "                         (tweets[\"reply\"] == False)])))\n",
    "print(\"number of quoted tweets in the corpus: {}\"\\\n",
    "      .format(len(tweets[tweets[\"quoted\"] == True])))\n",
    "print(\"number of replies in the corpus: {}\"\\\n",
    "      .format(len(tweets[tweets[\"reply\"] == True])))\n",
    "print(\"number of retweets in the corpus: {}\"\\\n",
    "      .format(len(tweets[tweets[\"retweeted\"] == True])))"
   ]
  },
  {
   "cell_type": "code",
   "execution_count": 5,
   "id": "3204f591-d2e7-4d07-8f7c-91c5a29d984e",
   "metadata": {},
   "outputs": [],
   "source": [
    "tweets[\"year\"] = pd.to_datetime(tweets[\"created_at\"]).dt.year"
   ]
  },
  {
   "cell_type": "code",
   "execution_count": 6,
   "id": "fa3d3b1a-7249-46e3-8ccd-6af00eccf834",
   "metadata": {},
   "outputs": [
    {
     "data": {
      "image/png": "[encoded data removed]",
      "text/plain": [
       "<Figure size 1000x500 with 1 Axes>"
      ]
     },
     "metadata": {},
     "output_type": "display_data"
    }
   ],
   "source": [
    "counts, years = np.histogram(tweets[\"year\"], bins=range(2010, 2022))\n",
    "fig, ax = plt.subplots(figsize=(10, 5))\n",
    "ax.bar(tweets[\"year\"].value_counts(ascending=True).index,\n",
    "       tweets[\"year\"].value_counts(ascending=True).values,\n",
    "       color=\"DarkBlue\")\n",
    "ax.set_xticks(range(2010, 2023))\n",
    "ax.set_ylabel(\"tweet count\", fontsize=16)\n",
    "ax.set_xlabel(\"year\", fontsize=10)\n",
    "ax.spines['right'].set_visible(False)\n",
    "ax.spines['top'].set_visible(False)"
   ]
  },
  {
   "cell_type": "code",
   "execution_count": 7,
   "id": "1ab6f8d3-2357-4b15-9776-db9135de3dbf",
   "metadata": {},
   "outputs": [
    {
     "name": "stdout",
     "output_type": "stream",
     "text": [
      "dropped 633096 tweets without an honesty score\n"
     ]
    }
   ],
   "source": [
    "# drop tweets without honesty component (distill RoBERTa filtering)\n",
    "N = len(tweets)\n",
    "tweets = tweets.dropna(subset=[\"avg_belief_score\", \"avg_truth_score\"])\n",
    "print(f\"dropped {N - len(tweets)} tweets without an honesty score\")"
   ]
  },
  {
   "cell_type": "code",
   "execution_count": 8,
   "id": "bf255b01-9f42-410e-b03f-30edf72d238f",
   "metadata": {},
   "outputs": [],
   "source": [
    "# set tweet creation date as index for easier sampling and aggregation\n",
    "tweets = tweets.set_index(\"created_at\")"
   ]
  },
  {
   "cell_type": "code",
   "execution_count": 9,
   "id": "5ec25753-c0ef-4ca2-aa9c-1239eb1631b7",
   "metadata": {},
   "outputs": [
    {
     "name": "stdout",
     "output_type": "stream",
     "text": [
      "N tweets in final corpus 3929665\n"
     ]
    }
   ],
   "source": [
    "print(f\"N tweets in final corpus {len(tweets)}\")"
   ]
  },
  {
   "cell_type": "code",
   "execution_count": 10,
   "id": "c5a74eee-7a56-4c8f-a9cb-e76e5e9c8e58",
   "metadata": {},
   "outputs": [
    {
     "data": {
      "text/plain": [
       "2722467"
      ]
     },
     "execution_count": 10,
     "metadata": {},
     "output_type": "execute_result"
    }
   ],
   "source": [
    "tweets[\"has_url\"].sum()"
   ]
  },
  {
   "cell_type": "markdown",
   "id": "e1cb00c1-ce53-43d9-965e-48e055d936c4",
   "metadata": {},
   "source": [
    "## Score correlations"
   ]
  },
  {
   "cell_type": "code",
   "execution_count": 11,
   "id": "05021b48-91da-48f2-8371-f967d325c84a",
   "metadata": {},
   "outputs": [
    {
     "data": {
      "text/plain": [
       "0.0030045229285424998"
      ]
     },
     "execution_count": 11,
     "metadata": {},
     "output_type": "execute_result"
    }
   ],
   "source": [
    "tweets[\"avg_belief_score\"].mean()"
   ]
  },
  {
   "cell_type": "code",
   "execution_count": 12,
   "id": "eb6d5f68-ec39-40b0-bf2e-22a092fbf64b",
   "metadata": {},
   "outputs": [
    {
     "data": {
      "text/plain": [
       "0.002068118062444128"
      ]
     },
     "execution_count": 12,
     "metadata": {},
     "output_type": "execute_result"
    }
   ],
   "source": [
    "tweets[\"avg_truth_score\"].mean()"
   ]
  },
  {
   "cell_type": "code",
   "execution_count": 13,
   "id": "6cd3adff-5bfc-4891-ab2b-e80e41cb07df",
   "metadata": {},
   "outputs": [
    {
     "data": {
      "text/plain": [
       "(-0.2722021992367906, 0.0)"
      ]
     },
     "execution_count": 13,
     "metadata": {},
     "output_type": "execute_result"
    }
   ],
   "source": [
    "subset = tweets[[\"avg_belief_score\", \"LIWC_analytic\"]].dropna()\n",
    "pearsonr(subset[\"avg_belief_score\"], subset[\"LIWC_analytic\"])"
   ]
  },
  {
   "cell_type": "code",
   "execution_count": 14,
   "id": "2a104cc4-48ec-4e54-80b1-a402ea46f7a1",
   "metadata": {},
   "outputs": [
    {
     "data": {
      "text/plain": [
       "(-0.16494125351876623, 0.0)"
      ]
     },
     "execution_count": 14,
     "metadata": {},
     "output_type": "execute_result"
    }
   ],
   "source": [
    "subset = tweets[[\"avg_truth_score\", \"LIWC_analytic\"]].dropna()\n",
    "pearsonr(subset[\"avg_truth_score\"], subset[\"LIWC_analytic\"])"
   ]
  },
  {
   "cell_type": "code",
   "execution_count": 15,
   "id": "5f00dbb8-1b95-4d53-9a5b-afa1b6407524",
   "metadata": {},
   "outputs": [
    {
     "data": {
      "text/plain": [
       "(0.09684722618887409, 0.0)"
      ]
     },
     "execution_count": 15,
     "metadata": {},
     "output_type": "execute_result"
    }
   ],
   "source": [
    "subset = tweets[[\"avg_belief_score\", \"LIWC_authentic\"]].dropna()\n",
    "pearsonr(subset[\"avg_belief_score\"], subset[\"LIWC_authentic\"])"
   ]
  },
  {
   "cell_type": "code",
   "execution_count": 16,
   "id": "c2446a0f-ed56-4895-ba8a-df50ba20960c",
   "metadata": {},
   "outputs": [
    {
     "data": {
      "text/plain": [
       "(0.057858474847408345, 0.0)"
      ]
     },
     "execution_count": 16,
     "metadata": {},
     "output_type": "execute_result"
    }
   ],
   "source": [
    "subset = tweets[[\"avg_truth_score\", \"LIWC_authentic\"]].dropna()\n",
    "pearsonr(subset[\"avg_truth_score\"], subset[\"LIWC_authentic\"])"
   ]
  },
  {
   "cell_type": "code",
   "execution_count": 17,
   "id": "7e2f3b2a-9fb8-4358-b360-bab0594f456b",
   "metadata": {},
   "outputs": [
    {
     "data": {
      "text/plain": [
       "(0.07060771341432126, 0.0)"
      ]
     },
     "execution_count": 17,
     "metadata": {},
     "output_type": "execute_result"
    }
   ],
   "source": [
    "subset = tweets[[\"avg_belief_score\", \"LIWC_moral\"]].dropna()\n",
    "pearsonr(subset[\"avg_belief_score\"], subset[\"LIWC_moral\"])"
   ]
  },
  {
   "cell_type": "code",
   "execution_count": 18,
   "id": "ccce3920-5a29-4508-b704-bd5aa0a88bc5",
   "metadata": {},
   "outputs": [
    {
     "data": {
      "text/plain": [
       "(0.01686111180199903, 5.596941525803395e-245)"
      ]
     },
     "execution_count": 18,
     "metadata": {},
     "output_type": "execute_result"
    }
   ],
   "source": [
    "subset = tweets[[\"avg_truth_score\", \"LIWC_moral\"]].dropna()\n",
    "pearsonr(subset[\"avg_truth_score\"], subset[\"LIWC_moral\"])"
   ]
  },
  {
   "cell_type": "code",
   "execution_count": 19,
   "id": "e7ed972d-381f-45e2-bef8-8029e8b907ed",
   "metadata": {},
   "outputs": [
    {
     "data": {
      "text/plain": [
       "(0.055787087292489296, 0.0)"
      ]
     },
     "execution_count": 19,
     "metadata": {},
     "output_type": "execute_result"
    }
   ],
   "source": [
    "subset = tweets[[\"avg_belief_score\", \"VADER_pos\"]].dropna()\n",
    "pearsonr(subset[\"avg_belief_score\"], subset[\"VADER_pos\"])"
   ]
  },
  {
   "cell_type": "code",
   "execution_count": 20,
   "id": "fedb2edf-f1a8-448d-a10c-3dcb8ed2ea2c",
   "metadata": {},
   "outputs": [
    {
     "data": {
      "text/plain": [
       "(-0.005529639470196597, 5.839447977768097e-28)"
      ]
     },
     "execution_count": 20,
     "metadata": {},
     "output_type": "execute_result"
    }
   ],
   "source": [
    "subset = tweets[[\"avg_truth_score\", \"VADER_pos\"]].dropna()\n",
    "pearsonr(subset[\"avg_truth_score\"], subset[\"VADER_pos\"])"
   ]
  },
  {
   "cell_type": "code",
   "execution_count": 21,
   "id": "699b4386-2107-4fb2-9778-c5b2343b3d94",
   "metadata": {},
   "outputs": [
    {
     "data": {
      "text/plain": [
       "(0.18865061802404093, 0.0)"
      ]
     },
     "execution_count": 21,
     "metadata": {},
     "output_type": "execute_result"
    }
   ],
   "source": [
    "subset = tweets[[\"avg_belief_score\", \"VADER_neg\"]].dropna()\n",
    "pearsonr(subset[\"avg_belief_score\"], subset[\"VADER_neg\"])"
   ]
  },
  {
   "cell_type": "code",
   "execution_count": 22,
   "id": "003541ba-ffcb-45e8-8e0c-b270908af2b0",
   "metadata": {},
   "outputs": [
    {
     "data": {
      "text/plain": [
       "(0.15225216981580697, 0.0)"
      ]
     },
     "execution_count": 22,
     "metadata": {},
     "output_type": "execute_result"
    }
   ],
   "source": [
    "subset = tweets[[\"avg_truth_score\", \"VADER_neg\"]].dropna()\n",
    "pearsonr(subset[\"avg_truth_score\"], subset[\"VADER_neg\"])"
   ]
  },
  {
   "cell_type": "markdown",
   "id": "ef36c273-43c4-4e84-90c8-30adbdc05866",
   "metadata": {},
   "source": [
    "## Tweets that are high on both honesty components"
   ]
  },
  {
   "cell_type": "code",
   "execution_count": 32,
   "id": "f46e4aaa-37d1-408c-a4cc-ef4aa33d1012",
   "metadata": {},
   "outputs": [],
   "source": [
    "top_truth = tweets[\"avg_truth_score\"].quantile(0.66)\n",
    "bottom_belief = tweets[\"avg_belief_score\"].quantile(0.33)"
   ]
  },
  {
   "cell_type": "code",
   "execution_count": 33,
   "id": "c6d9a68d-9a84-4d43-ad22-44441374d0a2",
   "metadata": {},
   "outputs": [],
   "source": [
    "selection = tweets[(tweets[\"avg_truth_score\"] > top_truth) & \\\n",
    "                   (tweets[\"avg_belief_score\"] < bottom_belief)& \\\n",
    "                   (tweets[\"NG_score\"] < 60)]"
   ]
  },
  {
   "cell_type": "code",
   "execution_count": 34,
   "id": "88f10caa-f52f-4970-a55f-54e8feb2a8c8",
   "metadata": {},
   "outputs": [
    {
     "data": {
      "text/plain": [
       "26"
      ]
     },
     "execution_count": 34,
     "metadata": {},
     "output_type": "execute_result"
    }
   ],
   "source": [
    "len(selection)"
   ]
  },
  {
   "cell_type": "code",
   "execution_count": 35,
   "id": "2e5c4382-f3c9-4fdc-aab2-207f3732a0fd",
   "metadata": {},
   "outputs": [],
   "source": [
    "del tweets"
   ]
  },
  {
   "cell_type": "markdown",
   "id": "8bd2608a-3556-4292-bec6-1e728473f19c",
   "metadata": {},
   "source": [
    "# Articles"
   ]
  },
  {
   "cell_type": "code",
   "execution_count": 8,
   "id": "d3733a7e-d3df-43e6-ad1f-03e61d208b53",
   "metadata": {},
   "outputs": [],
   "source": [
    "src = \"../../data/articles\""
   ]
  },
  {
   "cell_type": "code",
   "execution_count": 9,
   "id": "d9e57f18-6beb-4073-982b-3c619b67623d",
   "metadata": {},
   "outputs": [],
   "source": [
    "fname = \"url_list_for_article_scraping.csv.gzip\"\n",
    "url_list = pd.read_csv(\n",
    "    Path(src, fname), \n",
    "    compression=\"gzip\"\n",
    ")"
   ]
  },
  {
   "cell_type": "code",
   "execution_count": 10,
   "id": "46bdead2-6bee-4cac-a205-0f3e6b8bafe0",
   "metadata": {},
   "outputs": [],
   "source": [
    "unwanted_domains = [\"twitter.com\", \"facebook.com\", \"youtube.com\", \"instagram.com\", \"google.com\", \"yahoo.com\"]\n",
    "url_list = url_list[~url_list[\"domain\"].isin(unwanted_domains)]\n",
    "url_list = url_list.drop_duplicates(subset=[\"url\"])"
   ]
  },
  {
   "cell_type": "code",
   "execution_count": 11,
   "id": "2f5fabf9-9621-4081-ba99-0bd79e17b4b7",
   "metadata": {},
   "outputs": [
    {
     "data": {
      "text/plain": [
       "1027050"
      ]
     },
     "execution_count": 11,
     "metadata": {},
     "output_type": "execute_result"
    }
   ],
   "source": [
    "len(url_list)"
   ]
  },
  {
   "cell_type": "code",
   "execution_count": 12,
   "id": "e15376a6-867d-47f3-ba0b-b0c4d8e2346a",
   "metadata": {},
   "outputs": [],
   "source": [
    "fname = \"url_NG_scores.csv.gzip\"\n",
    "article_NG_scores = pd.read_csv(\n",
    "    Path(src, fname),\n",
    "    compression=\"gzip\"\n",
    ")\n",
    "article_NG_scores = article_NG_scores.dropna()\n",
    "article_NG_scores = article_NG_scores.drop_duplicates(subset=[\"party\", \"url\"])"
   ]
  },
  {
   "cell_type": "code",
   "execution_count": 13,
   "id": "57817fbd-b06a-489f-93d5-5e49be7ad05c",
   "metadata": {},
   "outputs": [
    {
     "data": {
      "text/plain": [
       "354335"
      ]
     },
     "execution_count": 13,
     "metadata": {},
     "output_type": "execute_result"
    }
   ],
   "source": [
    "fname = \"article_corpus_clean.csv.gzip\"\n",
    "articles = pd.read_csv(Path(src, fname), compression=\"gzip\")\n",
    "articles = articles.drop_duplicates(subset=[\"url\", \"party\"])\n",
    "len(articles)"
   ]
  },
  {
   "cell_type": "code",
   "execution_count": 14,
   "id": "d606ea42-6bfa-4e9e-9f2e-0ef18eac5eab",
   "metadata": {},
   "outputs": [],
   "source": [
    "article_NG_scores_clean = pd.merge(\n",
    "    article_NG_scores,\n",
    "    articles[[\"url\", \"link_text\"]],\n",
    "    how=\"left\",\n",
    "    left_on=\"url\",\n",
    "    right_on=\"url\"\n",
    ")"
   ]
  },
  {
   "cell_type": "code",
   "execution_count": 15,
   "id": "22a5a55c-cd20-4e31-9ebb-5f6151d9c532",
   "metadata": {},
   "outputs": [],
   "source": [
    "article_NG_scores_clean = article_NG_scores_clean.drop_duplicates(subset=[\"url\", \"party\"])"
   ]
  },
  {
   "cell_type": "code",
   "execution_count": 16,
   "id": "9cb21eef-8d44-44ce-b82f-e9bb529840f5",
   "metadata": {},
   "outputs": [
    {
     "data": {
      "text/plain": [
       "462853"
      ]
     },
     "execution_count": 16,
     "metadata": {},
     "output_type": "execute_result"
    }
   ],
   "source": [
    "len(article_NG_scores_clean[\"url\"].unique())"
   ]
  },
  {
   "cell_type": "code",
   "execution_count": 17,
   "id": "14f2010e-96bc-4665-95ce-5c8a8854cf2a",
   "metadata": {},
   "outputs": [],
   "source": [
    "article_NG_scores_clean = article_NG_scores_clean[article_NG_scores_clean[\"party\"].isin([\"Democrat\", \"Republican\"])]"
   ]
  },
  {
   "cell_type": "code",
   "execution_count": 18,
   "id": "0595a143-a33b-4b53-87e7-517d7862aa03",
   "metadata": {},
   "outputs": [
    {
     "name": "stdout",
     "output_type": "stream",
     "text": [
      "overall collected: 65.01% (298919/459808)\n",
      "low NG score collected: 81.82% (7776/9504)\n",
      "high NG score collected: 64.65% (291143/450304)\n"
     ]
    }
   ],
   "source": [
    "N_articles = len(article_NG_scores_clean[\"url\"].unique())\n",
    "N_collected = len(article_NG_scores_clean.dropna(subset=[\"link_text\"])[\"url\"].unique())\n",
    "\n",
    "N_articles_low = len(article_NG_scores_clean[article_NG_scores_clean[\"NG_score\"] < 60][\"url\"].unique())\n",
    "N_articles_high = len(article_NG_scores_clean[article_NG_scores_clean[\"NG_score\"] >= 60][\"url\"].unique())\n",
    "\n",
    "N_collected_low = len(article_NG_scores_clean[article_NG_scores_clean[\"NG_score\"] < 60].dropna(subset=[\"link_text\"])[\"url\"].unique())\n",
    "N_collected_high = len(article_NG_scores_clean[article_NG_scores_clean[\"NG_score\"] >= 60].dropna(subset=[\"link_text\"])[\"url\"].unique())\n",
    "                        \n",
    "print(f\"overall collected: {(N_collected / N_articles) * 100:1.2f}% ({N_collected}/{N_articles})\")\n",
    "print(f\"low NG score collected: {(N_collected_low / N_articles_low) * 100:1.2f}% ({N_collected_low}/{N_articles_low})\")\n",
    "print(f\"high NG score collected: {(N_collected_high / N_articles_high) * 100:1.2f}% ({N_collected_high}/{N_articles_high})\")"
   ]
  },
  {
   "cell_type": "code",
   "execution_count": 19,
   "id": "3f4abb56-6fcd-48a3-8147-935a049dec46",
   "metadata": {},
   "outputs": [],
   "source": [
    "party_counts = article_NG_scores_clean[[\"url\", \"party\"]]\\\n",
    "    .groupby(\"url\")\\\n",
    "    .count()\\\n",
    "    .reset_index()\\\n",
    "    .rename(columns={\"party\":\"party_count\"})"
   ]
  },
  {
   "cell_type": "code",
   "execution_count": 20,
   "id": "713ed7c7-71df-4bf9-ba77-34d5f18dc7c6",
   "metadata": {},
   "outputs": [],
   "source": [
    "article_NG_scores_clean = pd.merge(\n",
    "    article_NG_scores_clean,\n",
    "    party_counts,\n",
    "    how=\"left\",\n",
    "    left_on=\"url\",\n",
    "    right_on=\"url\"\n",
    ")\n",
    "article_NG_scores_clean = article_NG_scores_clean.drop_duplicates(subset=[\"url\"])"
   ]
  },
  {
   "cell_type": "code",
   "execution_count": 27,
   "id": "276dd89a-eec0-4209-a6a5-8dc98ab55755",
   "metadata": {},
   "outputs": [],
   "source": [
    "article_NG_scores_clean = article_NG_scores_clean.drop_duplicates(subset=[\"link_text\"])"
   ]
  },
  {
   "cell_type": "code",
   "execution_count": 28,
   "id": "533c8b48-6acb-4df5-b79c-47fdd8007a78",
   "metadata": {},
   "outputs": [
    {
     "data": {
      "text/plain": [
       "1    271171\n",
       "2      2462\n",
       "Name: party_count, dtype: int64"
      ]
     },
     "execution_count": 28,
     "metadata": {},
     "output_type": "execute_result"
    }
   ],
   "source": [
    "article_NG_scores_clean[\"party_count\"].value_counts()"
   ]
  },
  {
   "cell_type": "code",
   "execution_count": 29,
   "id": "236d2aeb-7ce5-4e08-8a26-1f0fc7783fe5",
   "metadata": {},
   "outputs": [
    {
     "data": {
      "text/plain": [
       "0.9079141943644417"
      ]
     },
     "execution_count": 29,
     "metadata": {},
     "output_type": "execute_result"
    }
   ],
   "source": [
    "(2462 / 271171) * 100"
   ]
  },
  {
   "cell_type": "markdown",
   "id": "f3ad076c-5be9-4810-a871-573ebc283ad8",
   "metadata": {},
   "source": [
    "# Trustworthiness scores"
   ]
  },
  {
   "cell_type": "markdown",
   "id": "fcae8fdf-8267-4fd7-a47b-e7f0009ca8af",
   "metadata": {},
   "source": [
    "## NewsGuard nutrition scores"
   ]
  },
  {
   "cell_type": "code",
   "execution_count": 38,
   "id": "f4f6be68-0d05-44da-8f03-d57fa7605240",
   "metadata": {},
   "outputs": [],
   "source": [
    "# load the nutrition labels\n",
    "src = \"../../data/utilities\"\n",
    "fname = \"NewsGuard_labels.csv\"\n",
    "NG_scores = pd.read_csv(Path(src, fname))\n",
    "# if more than one score exists for the same domain, keep the most recent one\n",
    "NG_scores = NG_scores.sort_values(by=[\"Domain\",\"Last Updated\"], ascending=False)\n",
    "NG_scores = NG_scores.drop_duplicates(subset=[\"Domain\"])\n",
    "\n",
    "# threshold scores at various cutoffs to define untrustworthy domains\n",
    "NG_scores[\"NewsGuard_unreliable\"] = 0\n",
    "NG_scores.loc[NG_scores[NG_scores[\"Score\"] < 60].index, \"NewsGuard_unreliable\"] = 1\n",
    "unreliable_60_domains = set(NG_scores[NG_scores[\"NewsGuard_unreliable\"] == 1][\"Domain\"])"
   ]
  },
  {
   "cell_type": "code",
   "execution_count": 39,
   "id": "bda1f259-081b-4212-8f35-997de803bf2f",
   "metadata": {},
   "outputs": [
    {
     "name": "stdout",
     "output_type": "stream",
     "text": [
      "The NewsGuard dataset as of 2022-03-01 contains 6860 english entries\n",
      "37.24 % (2757) of English entries have a score < 60\n"
     ]
    }
   ],
   "source": [
    "number_of_english_domains = NG_scores[\"Language\"].value_counts().loc[\"en\"]\n",
    "\n",
    "unreliable_60 = len(NG_scores[(NG_scores[\"Language\"] == \"en\") &\\\n",
    "                        (NG_scores[\"Score\"] < 60)]) / \\\n",
    "                        len(NG_scores[NG_scores[\"Language\"] == \"en\"])\n",
    "\n",
    "print(\"The NewsGuard dataset as of 2022-03-01 contains {} english entries\"\\\n",
    "        .format(number_of_english_domains))\n",
    "print(\"{:1.2f} % ({}) of English entries have a score < 60\"\\\n",
    "        .format(unreliable_60 * 100, len(unreliable_60_domains)))"
   ]
  },
  {
   "cell_type": "code",
   "execution_count": 40,
   "id": "d46e8446-3601-4e3c-b06d-037bb71ca87e",
   "metadata": {},
   "outputs": [
    {
     "data": {
      "text/plain": [
       "Text(15, 2000, 'not trustworthy')"
      ]
     },
     "execution_count": 40,
     "metadata": {},
     "output_type": "execute_result"
    },
    {
     "data": {
      "image/png": "[encoded data removed]",
      "text/plain": [
       "<Figure size 800x300 with 1 Axes>"
      ]
     },
     "metadata": {},
     "output_type": "display_data"
    }
   ],
   "source": [
    "fig, ax = plt.subplots(figsize=(8, 3))\n",
    "ax.hist(NG_scores[\"Score\"], rwidth=0.8, color=\"DarkBlue\")\n",
    "ax.set_xlim(0, 100)\n",
    "ax.spines['right'].set_visible(False)\n",
    "ax.spines['top'].set_visible(False)\n",
    "ax.set_ylabel(\"count\", fontsize=16)\n",
    "ax.set_xlabel(\"nutrition score\", fontsize=16)\n",
    "ax.plot([60, 60], [0, 2500], '--', color=\"grey\")\n",
    "ax.text(15, 2000, \"not trustworthy\", color=\"grey\", fontsize=16)"
   ]
  },
  {
   "cell_type": "markdown",
   "id": "2d246559-71e3-42bf-9983-ac8988e4f308",
   "metadata": {},
   "source": [
    "## Independent trustworthiness labels"
   ]
  },
  {
   "cell_type": "code",
   "execution_count": 41,
   "id": "910238c7-9cfb-4676-b109-37b88989fc84",
   "metadata": {},
   "outputs": [],
   "source": [
    "# load the list of independently compiled trustworthiness labels for \n",
    "# news sources\n",
    "src = \"../../data/utilities\"\n",
    "fname = \"independent_labels.csv\"\n",
    "alt_labels = pd.read_csv(Path(src, fname))\n",
    "alt_labels = alt_labels.rename(columns = {\"type\":\"unreliable\", \"url\":\"Domain\"})\n",
    "\n",
    "# convert reliability labels to binary\n",
    "alt_labels[\"unreliable\"] = alt_labels[\"unreliable\"]\\\n",
    "    .replace({\"reliable\":0, \"unreliable\":1})\n",
    "N_alt_labels = len(alt_labels)\n",
    "N_alt_untrustworthy = alt_labels[\"unreliable\"].value_counts().loc[1]"
   ]
  },
  {
   "cell_type": "code",
   "execution_count": 42,
   "id": "9927a5eb-9d64-467d-932f-db5fe9795f9b",
   "metadata": {},
   "outputs": [],
   "source": [
    "NG_domains = set(NG_scores[\"Domain\"])\n",
    "alt_domains = set(alt_labels[\"Domain\"])\n",
    "shared_domains = len(NG_domains.intersection(alt_domains))\n",
    "untrustworthy_domains = set(alt_labels[alt_labels[\"unreliable\"] == 1][\"Domain\"])\n",
    "shared_untrustworthy_domains_60 = len(unreliable_60_domains\\\n",
    "                                   .intersection(untrustworthy_domains))"
   ]
  },
  {
   "cell_type": "code",
   "execution_count": 43,
   "id": "54550d2a-fc24-46d7-a336-07a65a575485",
   "metadata": {},
   "outputs": [
    {
     "name": "stdout",
     "output_type": "stream",
     "text": [
      "The alternative list contains 4767 domains\n",
      "Out of which 2170 are labelled 'untrustworthy'\n",
      "1677 domains are also indexed by NewsGuard\n",
      "566 untrustworthy domains are also indexed by NewsGuard (score < 60)\n"
     ]
    }
   ],
   "source": [
    "print(f\"The alternative list contains {N_alt_labels} domains\")\n",
    "print(f\"Out of which {N_alt_untrustworthy} are labelled 'untrustworthy'\")\n",
    "print(f\"{shared_domains} domains are also indexed by NewsGuard\")\n",
    "print(f\"{shared_untrustworthy_domains_60} untrustworthy domains are also indexed by NewsGuard (score < 60)\")"
   ]
  },
  {
   "cell_type": "markdown",
   "id": "468c8fdc-d8eb-48c1-8c52-f5bdf505b1fa",
   "metadata": {},
   "source": [
    "## Comparison NewsGuard <-> independent labels"
   ]
  },
  {
   "cell_type": "code",
   "execution_count": 44,
   "id": "b4940c63-75a7-45f9-a681-faf51820fbbb",
   "metadata": {},
   "outputs": [],
   "source": [
    "alt_domains = set(alt_labels[\"Domain\"])"
   ]
  },
  {
   "cell_type": "code",
   "execution_count": 45,
   "id": "0b55eb13-ab6d-441b-8946-b78484117f45",
   "metadata": {},
   "outputs": [
    {
     "data": {
      "text/plain": [
       "4767"
      ]
     },
     "execution_count": 45,
     "metadata": {},
     "output_type": "execute_result"
    }
   ],
   "source": [
    "len(alt_domains)"
   ]
  },
  {
   "cell_type": "code",
   "execution_count": 111,
   "id": "abc63963-b009-469a-b4e9-e8afe8917896",
   "metadata": {},
   "outputs": [
    {
     "data": {
      "text/plain": [
       "0    2597\n",
       "1    2170\n",
       "Name: unreliable, dtype: int64"
      ]
     },
     "execution_count": 111,
     "metadata": {},
     "output_type": "execute_result"
    }
   ],
   "source": [
    "alt_labels[\"unreliable\"].value_counts()"
   ]
  },
  {
   "cell_type": "code",
   "execution_count": 112,
   "id": "90fc4709-0655-4ca2-8de4-1ea78f679b39",
   "metadata": {},
   "outputs": [],
   "source": [
    "NG_domains = set(NG_scores[\"Domain\"])"
   ]
  },
  {
   "cell_type": "code",
   "execution_count": 113,
   "id": "b221dd01-d275-4670-a543-df367b3ff816",
   "metadata": {},
   "outputs": [
    {
     "data": {
      "text/plain": [
       "1677"
      ]
     },
     "execution_count": 113,
     "metadata": {},
     "output_type": "execute_result"
    }
   ],
   "source": [
    "in_both = alt_domains.intersection(NG_domains)\n",
    "len(in_both)"
   ]
  },
  {
   "cell_type": "code",
   "execution_count": 114,
   "id": "5328d16d-2dfd-4295-83ec-4cd5b2b088f9",
   "metadata": {},
   "outputs": [
    {
     "data": {
      "text/plain": [
       "0    1062\n",
       "1     615\n",
       "Name: unreliable, dtype: int64"
      ]
     },
     "execution_count": 114,
     "metadata": {},
     "output_type": "execute_result"
    }
   ],
   "source": [
    "alt_labels[alt_labels[\"Domain\"].isin(list(NG_domains))][\"unreliable\"].value_counts()"
   ]
  },
  {
   "cell_type": "code",
   "execution_count": 115,
   "id": "c0bc61d9-4e92-448e-8ad7-9231c13105f7",
   "metadata": {},
   "outputs": [],
   "source": [
    "alt_labels[\"unreliable\"] = alt_labels[\"unreliable\"].replace({\n",
    "    \"reliable\":0,\n",
    "    \"unreliable\":1\n",
    "})"
   ]
  },
  {
   "cell_type": "code",
   "execution_count": 116,
   "id": "f2018a22-939e-405a-95df-0f8ada923fa1",
   "metadata": {},
   "outputs": [],
   "source": [
    "NG_scores[\"unreliable\"] = 0\n",
    "NG_scores.loc[NG_scores[NG_scores[\"Score\"] < 60].index, \"unreliable\"] = 1"
   ]
  },
  {
   "cell_type": "code",
   "execution_count": 117,
   "id": "5aa7f7d4-78ed-4192-93cb-329eceae85bf",
   "metadata": {},
   "outputs": [
    {
     "name": "stdout",
     "output_type": "stream",
     "text": [
      "number of same labels: 1553, krippendorff's alpha: 0.8422170341180256\n"
     ]
    }
   ],
   "source": [
    "labels_NG = NG_scores[NG_scores[\"Domain\"].isin(in_both)]\\\n",
    "    .sort_values(by=\"Domain\")[[\"Domain\", \"unreliable\"]]\n",
    "labels_ind = alt_labels[alt_labels[\"Domain\"].isin(in_both)]\\\n",
    "    .sort_values(by=\"Domain\")[[\"Domain\", \"unreliable\"]]\n",
    "joint_labels = pd.DataFrame({\n",
    "    \"label_NG\":labels_NG[\"unreliable\"].values,\n",
    "    \"label_ind\":labels_ind[\"unreliable\"].values})\n",
    "\n",
    "same = len(joint_labels[joint_labels[\"label_NG\"] == joint_labels[\"label_ind\"]])\n",
    "kripp = krippendorff.alpha(joint_labels.transpose())\n",
    "print(f\"number of same labels: {same}, krippendorff's alpha: {kripp}\")"
   ]
  }
 ],
 "metadata": {
  "kernelspec": {
   "display_name": "Python 3 (ipykernel)",
   "language": "python",
   "name": "python3"
  },
  "language_info": {
   "codemirror_mode": {
    "name": "ipython",
    "version": 3
   },
   "file_extension": ".py",
   "mimetype": "text/x-python",
   "name": "python",
   "nbconvert_exporter": "python",
   "pygments_lexer": "ipython3",
   "version": "3.8.5"
  }
 },
 "nbformat": 4,
 "nbformat_minor": 5
}
