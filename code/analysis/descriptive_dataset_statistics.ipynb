{
 "cells": [
  {
   "cell_type": "code",
   "execution_count": 85,
   "id": "26e9175d-186a-4a27-bc9a-ef0b6163cb67",
   "metadata": {},
   "outputs": [],
   "source": [
    "import pandas as pd\n",
    "import numpy as np\n",
    "from os.path import join\n",
    "import matplotlib.pyplot as plt\n",
    "import numpy as np\n",
    "import krippendorff"
   ]
  },
  {
   "cell_type": "code",
   "execution_count": 86,
   "id": "31232873-b52b-43f5-a60f-61eb98e5b66f",
   "metadata": {},
   "outputs": [],
   "source": [
    "# colors\n",
    "demblue = \"#0015BC\"\n",
    "repred = \"#FF0000\"\n",
    "indgrey = \"#696969\""
   ]
  },
  {
   "cell_type": "markdown",
   "id": "bc20ab87-d29e-4f1f-a6b6-37cbaa2784a4",
   "metadata": {},
   "source": [
    "# Tweets"
   ]
  },
  {
   "cell_type": "code",
   "execution_count": 87,
   "id": "c16b085c-0afa-401e-ba43-be517f262ef1",
   "metadata": {},
   "outputs": [],
   "source": [
    "src = \"../../data/tweets\"\n",
    "fname = \"US_politician_tweets_2010-11-06_to_2022-03-16.csv.gzip\"\n",
    "tweets = pd.read_csv(join(src, fname), compression=\"gzip\", parse_dates=[\"created_at\"])"
   ]
  },
  {
   "cell_type": "code",
   "execution_count": 88,
   "id": "94ae786d-4152-436e-967e-e3f1f2d5cee5",
   "metadata": {},
   "outputs": [
    {
     "name": "stdout",
     "output_type": "stream",
     "text": [
      "number of tweets in the corpus: 2588559\n",
      "number of original in the corpus: 1523050\n",
      "number of quoted tweets in the corpus: 266737\n",
      "number of replies in the corpus: 248511\n",
      "number of retweets in the corpus: 552892\n"
     ]
    }
   ],
   "source": [
    "print(f\"number of tweets in the corpus: {len(tweets)}\")\n",
    "print(\"number of original in the corpus: {}\"\\\n",
    "      .format(len(tweets[(tweets[\"retweeted\"] == False) &\\\n",
    "                         (tweets[\"quoted\"] == False) &\\\n",
    "                         (tweets[\"reply\"] == False)])))\n",
    "print(\"number of quoted tweets in the corpus: {}\"\\\n",
    "      .format(len(tweets[tweets[\"quoted\"] == True])))\n",
    "print(\"number of replies in the corpus: {}\"\\\n",
    "      .format(len(tweets[tweets[\"reply\"] == True])))\n",
    "print(\"number of retweets in the corpus: {}\"\\\n",
    "      .format(len(tweets[tweets[\"retweeted\"] == True])))"
   ]
  },
  {
   "cell_type": "code",
   "execution_count": 89,
   "id": "a139fcf5-113f-4a9b-91ab-cafa2d25dc54",
   "metadata": {},
   "outputs": [
    {
     "name": "stdout",
     "output_type": "stream",
     "text": [
      "dropped 552892 retweets\n"
     ]
    }
   ],
   "source": [
    "# drop retweets\n",
    "N = len(tweets)\n",
    "tweets = tweets[tweets[\"retweeted\"] == False]\n",
    "print(f\"dropped {N - len(tweets)} retweets\")"
   ]
  },
  {
   "cell_type": "code",
   "execution_count": 90,
   "id": "680b6966-1416-446e-ac85-c2853a644c6f",
   "metadata": {},
   "outputs": [
    {
     "data": {
      "text/plain": [
       "1034"
      ]
     },
     "execution_count": 90,
     "metadata": {},
     "output_type": "execute_result"
    }
   ],
   "source": [
    "len(tweets[\"author_id\"].unique())"
   ]
  },
  {
   "cell_type": "code",
   "execution_count": 91,
   "id": "3204f591-d2e7-4d07-8f7c-91c5a29d984e",
   "metadata": {},
   "outputs": [],
   "source": [
    "tweets[\"year\"] = pd.to_datetime(tweets[\"created_at\"]).dt.year"
   ]
  },
  {
   "cell_type": "code",
   "execution_count": 92,
   "id": "fa3d3b1a-7249-46e3-8ccd-6af00eccf834",
   "metadata": {},
   "outputs": [
    {
     "data": {
      "image/png": "[encoded data removed]",
      "text/plain": [
       "<Figure size 720x360 with 1 Axes>"
      ]
     },
     "metadata": {
      "needs_background": "light"
     },
     "output_type": "display_data"
    }
   ],
   "source": [
    "counts, years = np.histogram(tweets[\"year\"], bins=range(2010, 2022))\n",
    "fig, ax = plt.subplots(figsize=(10, 5))\n",
    "ax.bar(tweets[\"year\"].value_counts(ascending=True).index,\n",
    "       tweets[\"year\"].value_counts(ascending=True).values,\n",
    "       color=\"DarkBlue\")\n",
    "ax.set_xticks(range(2010, 2023))\n",
    "ax.set_ylabel(\"tweet count\", fontsize=16)\n",
    "ax.set_xlabel(\"year\", fontsize=10)\n",
    "ax.spines['right'].set_visible(False)\n",
    "ax.spines['top'].set_visible(False)"
   ]
  },
  {
   "cell_type": "code",
   "execution_count": 93,
   "id": "1ab6f8d3-2357-4b15-9776-db9135de3dbf",
   "metadata": {},
   "outputs": [
    {
     "name": "stdout",
     "output_type": "stream",
     "text": [
      "dropped 210867 tweets without an honesty component\n"
     ]
    }
   ],
   "source": [
    "# drop tweets without honesty component (distill RoBERTa filtering)\n",
    "N = len(tweets)\n",
    "tweets = tweets.dropna(subset=[\"belief\", \"truth\"])\n",
    "print(f\"dropped {N - len(tweets)} tweets without an honesty component\")"
   ]
  },
  {
   "cell_type": "code",
   "execution_count": 94,
   "id": "bf255b01-9f42-410e-b03f-30edf72d238f",
   "metadata": {},
   "outputs": [],
   "source": [
    "# set tweet creation date as index for easier sampling and aggregation\n",
    "tweets = tweets.set_index(\"created_at\")"
   ]
  },
  {
   "cell_type": "code",
   "execution_count": 95,
   "id": "904adb23-eb70-4d4b-a9c2-77edd5b40464",
   "metadata": {},
   "outputs": [
    {
     "name": "stdout",
     "output_type": "stream",
     "text": [
      "dropped 778 tweets from before 2011\n"
     ]
    }
   ],
   "source": [
    "# drop tweets from 2010\n",
    "N = len(tweets)\n",
    "tweets = tweets[tweets.index.year > 2010]\n",
    "print(f\"dropped {N - len(tweets)} tweets from before 2011\")"
   ]
  },
  {
   "cell_type": "code",
   "execution_count": 96,
   "id": "5ec25753-c0ef-4ca2-aa9c-1239eb1631b7",
   "metadata": {},
   "outputs": [
    {
     "name": "stdout",
     "output_type": "stream",
     "text": [
      "N tweets in final corpus 1824022\n"
     ]
    }
   ],
   "source": [
    "print(f\"N tweets in final corpus {len(tweets)}\")"
   ]
  },
  {
   "cell_type": "code",
   "execution_count": 97,
   "id": "5261dbde-f4f5-4f15-8741-9a919d55060b",
   "metadata": {},
   "outputs": [
    {
     "data": {
      "text/plain": [
       "131626.0"
      ]
     },
     "execution_count": 97,
     "metadata": {},
     "output_type": "execute_result"
    }
   ],
   "source": [
    "tweets[\"belief\"].sum()"
   ]
  },
  {
   "cell_type": "code",
   "execution_count": 98,
   "id": "c857b690-0db3-494a-abea-f852fac250cd",
   "metadata": {},
   "outputs": [
    {
     "data": {
      "text/plain": [
       "273192.0"
      ]
     },
     "execution_count": 98,
     "metadata": {},
     "output_type": "execute_result"
    }
   ],
   "source": [
    "tweets[\"truth\"].sum()"
   ]
  },
  {
   "cell_type": "code",
   "execution_count": 38,
   "id": "a8b63f23-ac06-4a69-aa43-13b630fe7e97",
   "metadata": {},
   "outputs": [
    {
     "data": {
      "text/plain": [
       "19653"
      ]
     },
     "execution_count": 38,
     "metadata": {},
     "output_type": "execute_result"
    }
   ],
   "source": [
    "len(tweets[(tweets[\"belief\"] == 1) & (tweets[\"truth\"] == 1)])"
   ]
  },
  {
   "cell_type": "code",
   "execution_count": 83,
   "id": "bd80354c-7b72-4266-84cd-33c1fee3e13d",
   "metadata": {},
   "outputs": [],
   "source": [
    "del tweets"
   ]
  },
  {
   "cell_type": "markdown",
   "id": "8bd2608a-3556-4292-bec6-1e728473f19c",
   "metadata": {},
   "source": [
    "# Articles"
   ]
  },
  {
   "cell_type": "code",
   "execution_count": 79,
   "id": "57817fbd-b06a-489f-93d5-5e49be7ad05c",
   "metadata": {},
   "outputs": [],
   "source": [
    "src = \"../../data/articles\"\n",
    "fname = \"full_links_with_text_and_honesty.csv.gzip\"\n",
    "cols = [\"belief\", \"truth\", \"other_words\", \"wc\", \"belief_prop\", \"truth_prop\",\n",
    "        \"NG_score\", \"url\", \"party\"]\n",
    "texts = pd.read_csv(join(src, fname), usecols=cols, compression=\"gzip\")"
   ]
  },
  {
   "cell_type": "code",
   "execution_count": 80,
   "id": "acba8ba3-8f06-4041-ba91-d952292c536f",
   "metadata": {},
   "outputs": [
    {
     "data": {
      "text/plain": [
       "162508"
      ]
     },
     "execution_count": 80,
     "metadata": {},
     "output_type": "execute_result"
    }
   ],
   "source": [
    "len(texts)"
   ]
  },
  {
   "cell_type": "code",
   "execution_count": 81,
   "id": "0478c5fa-1c06-42cb-ae31-410a245cbb95",
   "metadata": {},
   "outputs": [
    {
     "data": {
      "image/png": "[encoded data removed]",
      "text/plain": [
       "<Figure size 720x432 with 4 Axes>"
      ]
     },
     "metadata": {
      "needs_background": "light"
     },
     "output_type": "display_data"
    }
   ],
   "source": [
    "fig, axes = plt.subplots(2, 2, figsize=(10, 6))\n",
    "axes[0][0].hist(texts[\"belief_prop\"], bins=np.arange(0, 0.03, 0.001), \n",
    "                rwidth=0.8, color=\"#ff6e40\")\n",
    "axes[0][0].set_xlim(0, 0.03)\n",
    "axes[0][0].set_xlabel(\"belief-speaking [%]\")\n",
    "\n",
    "axes[0][1].hist(texts[\"truth_prop\"], bins=np.arange(0, 0.03, 0.001), \n",
    "                rwidth=0.8, color=\"#ffc13b\")\n",
    "axes[0][1].set_xlim(0, 0.03)\n",
    "axes[0][1].set_xlabel(\"truth-seeking [%]\")\n",
    "\n",
    "axes[1][0].hist(texts[\"NG_score\"], bins=np.arange(0, 100, 5),\n",
    "                rwidth=0.8, color='k')\n",
    "axes[1][0].set_xlim(0, 101)\n",
    "axes[1][0].set_xlabel(\"NewsGuard score\")\n",
    "\n",
    "axes[1][1].hist(texts[\"wc\"], bins=np.arange(0, 3000, 50),\n",
    "                rwidth=0.8, color=\"grey\")\n",
    "axes[1][1].set_xlim(0, 3001)\n",
    "axes[1][1].set_xlabel(\"# words\")\n",
    "for ax in axes.flatten():\n",
    "    ax.set_ylabel(\"count\")\n",
    "    ax.spines[\"top\"].set_visible(False)\n",
    "    ax.spines[\"right\"].set_visible(False)\n",
    "    ax.ticklabel_format(axis=\"y\", style=\"sci\", scilimits=(0,0))\n",
    "fig.tight_layout()"
   ]
  },
  {
   "cell_type": "code",
   "execution_count": 82,
   "id": "5ce54ec0-89f6-40c6-9385-b2549ba278fb",
   "metadata": {},
   "outputs": [],
   "source": [
    "del texts"
   ]
  },
  {
   "cell_type": "markdown",
   "id": "fcae8fdf-8267-4fd7-a47b-e7f0009ca8af",
   "metadata": {},
   "source": [
    "# NewsGuard nutrition scores"
   ]
  },
  {
   "cell_type": "code",
   "execution_count": 41,
   "id": "f4f6be68-0d05-44da-8f03-d57fa7605240",
   "metadata": {},
   "outputs": [],
   "source": [
    "# load the nutrition labels\n",
    "src = \"../../data/utilities\"\n",
    "fname = \"NewsGuard_labels.csv\"\n",
    "NG_scores = pd.read_csv(join(src, fname))\n",
    "# if more than one score exists for the same domain, keep the most recent one\n",
    "NG_scores = NG_scores.sort_values(by=[\"Domain\",\"Last Updated\"], ascending=False)\n",
    "NG_scores = NG_scores.drop_duplicates(subset=[\"Domain\"])\n",
    "\n",
    "# threshold scores at various cutoffs to define untrustworthy domains\n",
    "NG_scores[\"NewsGuard_unreliable\"] = 0\n",
    "NG_scores.loc[NG_scores[NG_scores[\"Score\"] < 60].index, \"NewsGuard_unreliable\"] = 1\n",
    "unreliable_60_domains = set(NG_scores[NG_scores[\"NewsGuard_unreliable\"] == 1][\"Domain\"])"
   ]
  },
  {
   "cell_type": "code",
   "execution_count": 42,
   "id": "bda1f259-081b-4212-8f35-997de803bf2f",
   "metadata": {},
   "outputs": [
    {
     "name": "stdout",
     "output_type": "stream",
     "text": [
      "The NewsGuard dataset as of 2022-03-01 contains 6860 english entries\n",
      "37.24 % (2757) of English entries have a score < 60\n"
     ]
    }
   ],
   "source": [
    "number_of_english_domains = NG_scores[\"Language\"].value_counts().loc[\"en\"]\n",
    "\n",
    "unreliable_60 = len(NG_scores[(NG_scores[\"Language\"] == \"en\") &\\\n",
    "                        (NG_scores[\"Score\"] < 60)]) / \\\n",
    "                        len(NG_scores[NG_scores[\"Language\"] == \"en\"])\n",
    "\n",
    "print(\"The NewsGuard dataset as of 2022-03-01 contains {} english entries\"\\\n",
    "        .format(number_of_english_domains))\n",
    "print(\"{:1.2f} % ({}) of English entries have a score < 60\"\\\n",
    "        .format(unreliable_60 * 100, len(unreliable_60_domains)))"
   ]
  },
  {
   "cell_type": "code",
   "execution_count": 43,
   "id": "d46e8446-3601-4e3c-b06d-037bb71ca87e",
   "metadata": {},
   "outputs": [
    {
     "data": {
      "text/plain": [
       "Text(15, 2000, 'not trustworthy')"
      ]
     },
     "execution_count": 43,
     "metadata": {},
     "output_type": "execute_result"
    },
    {
     "data": {
      "image/png": "[encoded data removed]",
      "text/plain": [
       "<Figure size 576x216 with 1 Axes>"
      ]
     },
     "metadata": {
      "needs_background": "light"
     },
     "output_type": "display_data"
    }
   ],
   "source": [
    "fig, ax = plt.subplots(figsize=(8, 3))\n",
    "ax.hist(NG_scores[\"Score\"], rwidth=0.8, color=\"DarkBlue\")\n",
    "ax.set_xlim(0, 100)\n",
    "ax.spines['right'].set_visible(False)\n",
    "ax.spines['top'].set_visible(False)\n",
    "ax.set_ylabel(\"count\", fontsize=16)\n",
    "ax.set_xlabel(\"nutrition score\", fontsize=16)\n",
    "ax.plot([60, 60], [0, 2500], '--', color=\"grey\")\n",
    "ax.text(15, 2000, \"not trustworthy\", color=\"grey\", fontsize=16)"
   ]
  },
  {
   "cell_type": "markdown",
   "id": "2d246559-71e3-42bf-9983-ac8988e4f308",
   "metadata": {},
   "source": [
    "# Alternative trustworthiness labels"
   ]
  },
  {
   "cell_type": "code",
   "execution_count": 44,
   "id": "910238c7-9cfb-4676-b109-37b88989fc84",
   "metadata": {},
   "outputs": [],
   "source": [
    "# load the list of independently compiled trustworthiness labels for \n",
    "# news sources\n",
    "src = \"../../data/utilities\"\n",
    "fname = \"independent_labels.csv\"\n",
    "alt_labels = pd.read_csv(join(src, fname))\n",
    "alt_labels = alt_labels.rename(columns = {\"type\":\"unreliable\", \"url\":\"Domain\"})\n",
    "\n",
    "# convert reliability labels to binary\n",
    "alt_labels[\"unreliable\"] = alt_labels[\"unreliable\"]\\\n",
    "    .replace({\"reliable\":0, \"unreliable\":1})\n",
    "N_alt_labels = len(alt_labels)\n",
    "N_alt_untrustworthy = alt_labels[\"unreliable\"].value_counts().loc[1]"
   ]
  },
  {
   "cell_type": "code",
   "execution_count": 46,
   "id": "9927a5eb-9d64-467d-932f-db5fe9795f9b",
   "metadata": {},
   "outputs": [],
   "source": [
    "NG_domains = set(NG_scores[\"Domain\"])\n",
    "alt_domains = set(alt_labels[\"Domain\"])\n",
    "shared_domains = len(NG_domains.intersection(alt_domains))\n",
    "untrustworthy_domains = set(alt_labels[alt_labels[\"unreliable\"] == 1][\"Domain\"])\n",
    "shared_untrustworthy_domains_60 = len(fishy_60_domains\\\n",
    "                                   .intersection(untrustworthy_domains))"
   ]
  },
  {
   "cell_type": "code",
   "execution_count": 47,
   "id": "54550d2a-fc24-46d7-a336-07a65a575485",
   "metadata": {},
   "outputs": [
    {
     "name": "stdout",
     "output_type": "stream",
     "text": [
      "The alternative list contains 4767 domains\n",
      "Out of which 2170 are labelled 'untrustworthy'\n",
      "1677 domains are also indexed by NewsGuard\n",
      "566 untrustworthy domains are also indexed by NewsGuard (score < 60)\n"
     ]
    }
   ],
   "source": [
    "print(f\"The alternative list contains {N_alt_labels} domains\")\n",
    "print(f\"Out of which {N_alt_untrustworthy} are labelled 'untrustworthy'\")\n",
    "print(f\"{shared_domains} domains are also indexed by NewsGuard\")\n",
    "print(f\"{shared_untrustworthy_domains_60} untrustworthy domains are also indexed by NewsGuard (score < 60)\")"
   ]
  },
  {
   "cell_type": "markdown",
   "id": "468c8fdc-d8eb-48c1-8c52-f5bdf505b1fa",
   "metadata": {},
   "source": [
    "# Comparison NewsGuard <-> alternative labels"
   ]
  },
  {
   "cell_type": "code",
   "execution_count": 48,
   "id": "b4940c63-75a7-45f9-a681-faf51820fbbb",
   "metadata": {},
   "outputs": [],
   "source": [
    "alt_domains = set(alt_labels[\"Domain\"])"
   ]
  },
  {
   "cell_type": "code",
   "execution_count": 49,
   "id": "0b55eb13-ab6d-441b-8946-b78484117f45",
   "metadata": {},
   "outputs": [
    {
     "data": {
      "text/plain": [
       "4767"
      ]
     },
     "execution_count": 49,
     "metadata": {},
     "output_type": "execute_result"
    }
   ],
   "source": [
    "len(alt_domains)"
   ]
  },
  {
   "cell_type": "code",
   "execution_count": 50,
   "id": "abc63963-b009-469a-b4e9-e8afe8917896",
   "metadata": {},
   "outputs": [
    {
     "data": {
      "text/plain": [
       "0    2597\n",
       "1    2170\n",
       "Name: unreliable, dtype: int64"
      ]
     },
     "execution_count": 50,
     "metadata": {},
     "output_type": "execute_result"
    }
   ],
   "source": [
    "alt_labels[\"unreliable\"].value_counts()"
   ]
  },
  {
   "cell_type": "code",
   "execution_count": 51,
   "id": "90fc4709-0655-4ca2-8de4-1ea78f679b39",
   "metadata": {},
   "outputs": [],
   "source": [
    "NG_domains = set(NG_scores[\"Domain\"])"
   ]
  },
  {
   "cell_type": "code",
   "execution_count": 52,
   "id": "b221dd01-d275-4670-a543-df367b3ff816",
   "metadata": {},
   "outputs": [
    {
     "data": {
      "text/plain": [
       "1677"
      ]
     },
     "execution_count": 52,
     "metadata": {},
     "output_type": "execute_result"
    }
   ],
   "source": [
    "in_both = alt_domains.intersection(NG_domains)\n",
    "len(in_both)"
   ]
  },
  {
   "cell_type": "code",
   "execution_count": 53,
   "id": "5328d16d-2dfd-4295-83ec-4cd5b2b088f9",
   "metadata": {},
   "outputs": [
    {
     "data": {
      "text/plain": [
       "0    1062\n",
       "1     615\n",
       "Name: unreliable, dtype: int64"
      ]
     },
     "execution_count": 53,
     "metadata": {},
     "output_type": "execute_result"
    }
   ],
   "source": [
    "alt_labels[alt_labels[\"Domain\"].isin(list(NG_domains))][\"unreliable\"].value_counts()"
   ]
  },
  {
   "cell_type": "code",
   "execution_count": 54,
   "id": "c0bc61d9-4e92-448e-8ad7-9231c13105f7",
   "metadata": {},
   "outputs": [],
   "source": [
    "alt_labels[\"unreliable\"] = alt_labels[\"unreliable\"].replace({\n",
    "    \"reliable\":0,\n",
    "    \"unreliable\":1\n",
    "})"
   ]
  },
  {
   "cell_type": "code",
   "execution_count": 55,
   "id": "f2018a22-939e-405a-95df-0f8ada923fa1",
   "metadata": {},
   "outputs": [],
   "source": [
    "NG_scores[\"unreliable\"] = 0\n",
    "NG_scores.loc[NG_scores[NG_scores[\"Score\"] < 60].index, \"unreliable\"] = 1"
   ]
  },
  {
   "cell_type": "code",
   "execution_count": 56,
   "id": "5aa7f7d4-78ed-4192-93cb-329eceae85bf",
   "metadata": {},
   "outputs": [
    {
     "name": "stdout",
     "output_type": "stream",
     "text": [
      "number of same labels: 1553, krippendorff's alpha: 0.8422170341180256\n"
     ]
    }
   ],
   "source": [
    "labels_NG = NG_scores[NG_scores[\"Domain\"].isin(in_both)]\\\n",
    "    .sort_values(by=\"Domain\")[[\"Domain\", \"unreliable\"]]\n",
    "labels_ind = alt_labels[alt_labels[\"Domain\"].isin(in_both)]\\\n",
    "    .sort_values(by=\"Domain\")[[\"Domain\", \"unreliable\"]]\n",
    "joint_labels = pd.DataFrame({\n",
    "    \"label_NG\":labels_NG[\"unreliable\"].values,\n",
    "    \"label_ind\":labels_ind[\"unreliable\"].values})\n",
    "\n",
    "same = len(joint_labels[joint_labels[\"label_NG\"] == joint_labels[\"label_ind\"]])\n",
    "kripp = krippendorff.alpha(joint_labels.transpose())\n",
    "print(f\"number of same labels: {same}, krippendorff's alpha: {kripp}\")"
   ]
  },
  {
   "cell_type": "markdown",
   "id": "f2b61803-780a-4102-a030-878df57242bf",
   "metadata": {},
   "source": [
    "# Unreliable links"
   ]
  },
  {
   "cell_type": "code",
   "execution_count": 64,
   "id": "9438d6ec-5dd3-45c0-9be0-0987ff299318",
   "metadata": {},
   "outputs": [
    {
     "data": {
      "text/html": [
       "<div>\n",
       "<style scoped>\n",
       "    .dataframe tbody tr th:only-of-type {\n",
       "        vertical-align: middle;\n",
       "    }\n",
       "\n",
       "    .dataframe tbody tr th {\n",
       "        vertical-align: top;\n",
       "    }\n",
       "\n",
       "    .dataframe thead th {\n",
       "        text-align: right;\n",
       "    }\n",
       "</style>\n",
       "<table border=\"1\" class=\"dataframe\">\n",
       "  <thead>\n",
       "    <tr style=\"text-align: right;\">\n",
       "      <th></th>\n",
       "      <th>author_id</th>\n",
       "      <th>NG_unreliable_sum</th>\n",
       "      <th>NG_unreliable_count</th>\n",
       "      <th>unreliable_60_share</th>\n",
       "    </tr>\n",
       "  </thead>\n",
       "  <tbody>\n",
       "    <tr>\n",
       "      <th>0</th>\n",
       "      <td>4107251</td>\n",
       "      <td>6.0</td>\n",
       "      <td>256</td>\n",
       "      <td>0.023438</td>\n",
       "    </tr>\n",
       "    <tr>\n",
       "      <th>1</th>\n",
       "      <td>5558312</td>\n",
       "      <td>1.0</td>\n",
       "      <td>316</td>\n",
       "      <td>0.003165</td>\n",
       "    </tr>\n",
       "  </tbody>\n",
       "</table>\n",
       "</div>"
      ],
      "text/plain": [
       "   author_id  NG_unreliable_sum  NG_unreliable_count  unreliable_60_share\n",
       "0    4107251                6.0                  256             0.023438\n",
       "1    5558312                1.0                  316             0.003165"
      ]
     },
     "execution_count": 64,
     "metadata": {},
     "output_type": "execute_result"
    }
   ],
   "source": [
    "unreliable_user_count = tweets[[\"author_id\", \"NG_unreliable\"]]\\\n",
    "    .groupby(\"author_id\")\\\n",
    "    .agg([\"sum\", \"count\"])\n",
    "\n",
    "unreliable_user_count[\"unreliable_60_share\"] = \\\n",
    "            unreliable_user_count[\"NG_unreliable\"][\"sum\"] / \\\n",
    "            unreliable_user_count[\"NG_unreliable\"][\"count\"]\n",
    "    \n",
    "# flatten the hierarchical indices\n",
    "unreliable_user_count = unreliable_user_count.reset_index()\n",
    "unreliable_user_count.columns = ['_'.join(col).strip(\"_\") \\\n",
    "                            for col in unreliable_user_count.columns.values]\n",
    "\n",
    "unreliable_user_count.head(2)"
   ]
  },
  {
   "cell_type": "code",
   "execution_count": 66,
   "id": "d0025f1e-7a93-42da-9ca7-cdcf8ed624c2",
   "metadata": {},
   "outputs": [
    {
     "name": "stdout",
     "output_type": "stream",
     "text": [
      "406/1035 did not share any unreliable links (60)\n",
      "the most unreliable user has 42.54% tweets with unreliable links (60)\n"
     ]
    }
   ],
   "source": [
    "score_cutoff = 60\n",
    "N_no_shares = len(unreliable_user_count[\\\n",
    "                unreliable_user_count[f\"unreliable_{score_cutoff}_share\"] == 0])\n",
    "print(\"{}/{} did not share any unreliable links ({})\"\\\n",
    "         .format(N_no_shares, len(unreliable_user_count), score_cutoff))\n",
    "\n",
    "max_share = unreliable_user_count[f\"unreliable_{score_cutoff}_share\"].max()\n",
    "print(\"the most unreliable user has {:1.2f}% tweets with unreliable links ({})\"\\\n",
    "      .format(max_share * 100, score_cutoff))"
   ]
  },
  {
   "cell_type": "code",
   "execution_count": 70,
   "id": "ebd19aa2-8636-483d-bbd7-ac93eb920a68",
   "metadata": {},
   "outputs": [
    {
     "data": {
      "image/png": "[encoded data removed]",
      "text/plain": [
       "<Figure size 432x216 with 1 Axes>"
      ]
     },
     "metadata": {
      "needs_background": "light"
     },
     "output_type": "display_data"
    }
   ],
   "source": [
    "fig, ax = plt.subplots(1, figsize=(6, 3))\n",
    "\n",
    "ax.hist(unreliable_user_count[\"unreliable_60_share\"] * 100, \n",
    "        bins=np.arange(0, 6, 0.25), rwidth=0.9)\n",
    "ax.set_xlabel(f\"share of tweets with unreliable links [%]\")\n",
    "ax.set_ylabel(\"number of Congress accounts\")\n",
    "fig.tight_layout()"
   ]
  },
  {
   "cell_type": "markdown",
   "id": "e44ed844-5d05-4e5a-89d7-a7559f8c1c95",
   "metadata": {},
   "source": [
    "# Ideology scores"
   ]
  },
  {
   "cell_type": "code",
   "execution_count": 72,
   "id": "0a59e3d5-9a6e-4696-bcf0-1af65df5bd70",
   "metadata": {},
   "outputs": [],
   "source": [
    "src = \"../../data/utilities\"\n",
    "fname = \"govtrack-stats-{}-{}-ideology.csv\"\n",
    "scores = pd.DataFrame()\n",
    "for year in range(2013, 2021):\n",
    "    for chamber in [\"house\", \"senate\"]:\n",
    "        tmp = pd.read_csv(join(src, \"ideology_scores\",\n",
    "                               fname.format(year, chamber)))\n",
    "        tmp[\"year\"] = year\n",
    "        tmp[\"name\"] = tmp[\"name\"].apply(lambda x: x.replace(\"b'\", \"\"))\n",
    "        tmp[\"name\"] = tmp[\"name\"].apply(lambda x: x.replace(\"'\", \"\").lower())\n",
    "        scores = pd.concat([scores, tmp])"
   ]
  },
  {
   "cell_type": "code",
   "execution_count": 73,
   "id": "0dc16a6b-53e9-403f-9bea-27641fa2a15f",
   "metadata": {},
   "outputs": [],
   "source": [
    "src = \"../../data/users\"\n",
    "fname = \"US_politician_accounts_2010-11-06_to_2022-03-16.csv\"\n",
    "users = pd.read_csv(join(src, fname))"
   ]
  },
  {
   "cell_type": "code",
   "execution_count": 74,
   "id": "26045d5e-1729-49f2-96a8-82c19037a8b4",
   "metadata": {},
   "outputs": [],
   "source": [
    "scores = pd.merge(\n",
    "    scores, \n",
    "    users[[\"party\", \"handle\", \"author_id\", \"ideology_score_id\"]]\\\n",
    "        .drop_duplicates(subset=[\"ideology_score_id\"]),\n",
    "    how=\"left\",\n",
    "    left_on=\"id\",\n",
    "    right_on=\"ideology_score_id\"\n",
    ")"
   ]
  },
  {
   "cell_type": "code",
   "execution_count": 75,
   "id": "bb596601-8166-49aa-a51b-f62736784436",
   "metadata": {},
   "outputs": [],
   "source": [
    "scores = scores.sort_values(by=[\"handle\", \"year\"])"
   ]
  },
  {
   "cell_type": "code",
   "execution_count": 76,
   "id": "faa95803-b5f8-430d-9b50-f9442c6c0fe1",
   "metadata": {},
   "outputs": [
    {
     "data": {
      "text/plain": [
       "<matplotlib.legend.Legend at 0x7f678b27dd90>"
      ]
     },
     "execution_count": 76,
     "metadata": {},
     "output_type": "execute_result"
    },
    {
     "data": {
      "image/png": "[encoded data removed]",
      "text/plain": [
       "<Figure size 864x288 with 2 Axes>"
      ]
     },
     "metadata": {
      "needs_background": "light"
     },
     "output_type": "display_data"
    }
   ],
   "source": [
    "subset = scores.dropna(subset=[\"party\"])\n",
    "subset = subset.set_index(\"handle\")\n",
    "dem = subset[subset[\"party\"] == \"Democrat\"]\n",
    "rep = subset[subset[\"party\"] == \"Republican\"]\n",
    "ind = subset[subset[\"party\"] == \"Independent\"]\n",
    "\n",
    "diffs = pd.DataFrame(columns=[\"party\", \"ideology\"])\n",
    "\n",
    "fig, axes = plt.subplots(1, 2, figsize=(12, 4))\n",
    "ax = axes[0]\n",
    "for dataset, color, party in zip([dem, rep, ind],\n",
    "                                 [demblue, repred, indgrey],\n",
    "                                 [\"Democrat\", \"Republican\", \"Independent\"]): \n",
    "    for handle in dataset.index.unique():\n",
    "        user_data = dataset.loc[handle]\n",
    "        if type(user_data) != pd.core.series.Series:\n",
    "            x1 = user_data.iloc[0][\"year\"]\n",
    "            x2 = user_data.iloc[-1][\"year\"] - x1\n",
    "            y1 = user_data.iloc[0][\"ideology\"]\n",
    "            y2 = user_data.iloc[-1][\"ideology\"] - y1\n",
    "            \n",
    "            diffs = pd.concat([diffs, pd.DataFrame({\n",
    "                \"party\":[party],\n",
    "                \"ideology_difference\":[y2]})])\n",
    "\n",
    "        ax.arrow(x1, y1, x2, y2, color=color, alpha=0.2, \n",
    "                 width=0.001, head_width=0.03, head_length=0.25)\n",
    "ax.set_ylabel(\"ideology score\")\n",
    "ax.set_xlabel(\"year\")\n",
    "        \n",
    "ax = axes[1]\n",
    "dem = diffs[diffs[\"party\"] == \"Democrat\"]\n",
    "rep = diffs[diffs[\"party\"] == \"Republican\"]\n",
    "ind = diffs[diffs[\"party\"] == \"Independent\"]\n",
    "\n",
    "ax.hist([dem[\"ideology_difference\"], rep[\"ideology_difference\"]],\n",
    "        color=[demblue, repred], bins=np.arange(-0.3, 0.3, 0.05),\n",
    "        label=[\"Democrat\", \"Republican\"])\n",
    "ax.set_ylabel(\"congress member count\")\n",
    "ax.set_xlabel(\"ideology score difference\")\n",
    "ax.legend(fontsize=12)"
   ]
  },
  {
   "cell_type": "code",
   "execution_count": 77,
   "id": "dcb7d978-16e9-4193-93ef-174715ba23f0",
   "metadata": {},
   "outputs": [
    {
     "data": {
      "text/html": [
       "<div>\n",
       "<style scoped>\n",
       "    .dataframe tbody tr th:only-of-type {\n",
       "        vertical-align: middle;\n",
       "    }\n",
       "\n",
       "    .dataframe tbody tr th {\n",
       "        vertical-align: top;\n",
       "    }\n",
       "\n",
       "    .dataframe thead th {\n",
       "        text-align: right;\n",
       "    }\n",
       "</style>\n",
       "<table border=\"1\" class=\"dataframe\">\n",
       "  <thead>\n",
       "    <tr style=\"text-align: right;\">\n",
       "      <th></th>\n",
       "      <th>ideology_difference</th>\n",
       "    </tr>\n",
       "    <tr>\n",
       "      <th>party</th>\n",
       "      <th></th>\n",
       "    </tr>\n",
       "  </thead>\n",
       "  <tbody>\n",
       "    <tr>\n",
       "      <th>Democrat</th>\n",
       "      <td>-0.007609</td>\n",
       "    </tr>\n",
       "    <tr>\n",
       "      <th>Independent</th>\n",
       "      <td>0.018028</td>\n",
       "    </tr>\n",
       "    <tr>\n",
       "      <th>Republican</th>\n",
       "      <td>0.001964</td>\n",
       "    </tr>\n",
       "  </tbody>\n",
       "</table>\n",
       "</div>"
      ],
      "text/plain": [
       "             ideology_difference\n",
       "party                           \n",
       "Democrat               -0.007609\n",
       "Independent             0.018028\n",
       "Republican              0.001964"
      ]
     },
     "execution_count": 77,
     "metadata": {},
     "output_type": "execute_result"
    }
   ],
   "source": [
    "diffs.groupby(\"party\").agg(\"mean\")"
   ]
  },
  {
   "cell_type": "code",
   "execution_count": 78,
   "id": "bd9c2284-5a73-487f-9aab-4b22f27ba45b",
   "metadata": {},
   "outputs": [
    {
     "data": {
      "image/png": "[encoded data removed]",
      "text/plain": [
       "<Figure size 432x288 with 1 Axes>"
      ]
     },
     "metadata": {
      "needs_background": "light"
     },
     "output_type": "display_data"
    }
   ],
   "source": [
    "fig, ax = plt.subplots()\n",
    "dem = users[users[\"party\"] == \"Democrat\"]\n",
    "rep = users[users[\"party\"] == \"Republican\"]\n",
    "ind = users[users[\"party\"] == \"Independent\"]\n",
    "ax.hist([dem[\"ideology_mean\"], rep[\"ideology_mean\"], ind[\"ideology_mean\"]], \n",
    "        bins=np.arange(0, 1, 0.05), rwidth=0.9, \n",
    "        label=[\"Democrat\", \"Republican\", \"Independent\"],\n",
    "        color=[demblue, repred, indgrey])\n",
    "ax.set_xlabel(\"mean ideology score\")\n",
    "ax.set_ylabel(\"number of Congress accounts\")\n",
    "ax.legend();"
   ]
  }
 ],
 "metadata": {
  "kernelspec": {
   "display_name": "Python 3 (ipykernel)",
   "language": "python",
   "name": "python3"
  },
  "language_info": {
   "codemirror_mode": {
    "name": "ipython",
    "version": 3
   },
   "file_extension": ".py",
   "mimetype": "text/x-python",
   "name": "python",
   "nbconvert_exporter": "python",
   "pygments_lexer": "ipython3",
   "version": "3.9.5"
  }
 },
 "nbformat": 4,
 "nbformat_minor": 5
}
