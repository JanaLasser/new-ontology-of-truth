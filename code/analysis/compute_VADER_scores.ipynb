{
 "cells": [
  {
   "cell_type": "code",
   "execution_count": 1,
   "id": "c4fa7406-19ba-4da5-8e65-a0530ee6326d",
   "metadata": {},
   "outputs": [],
   "source": [
    "import pandas as pd\n",
    "from pathlib import Path\n",
    "from vaderSentiment.vaderSentiment import SentimentIntensityAnalyzer\n",
    "from pandarallel import pandarallel"
   ]
  },
  {
   "cell_type": "code",
   "execution_count": 15,
   "id": "ee5754d8-06a4-48db-9512-9144d1b38506",
   "metadata": {},
   "outputs": [
    {
     "name": "stdout",
     "output_type": "stream",
     "text": [
      "INFO: Pandarallel will run on 10 workers.\n",
      "INFO: Pandarallel will use Memory file system to transfer data between the main process and workers.\n"
     ]
    }
   ],
   "source": [
    "pandarallel.initialize(nb_workers=10, progress_bar=True)"
   ]
  },
  {
   "cell_type": "code",
   "execution_count": 24,
   "id": "0b3f1e3f-b86f-48ab-a2f2-08d865ef011f",
   "metadata": {},
   "outputs": [],
   "source": [
    "analyzer = SentimentIntensityAnalyzer()"
   ]
  },
  {
   "cell_type": "code",
   "execution_count": 4,
   "id": "25b5ed3a-1329-40f4-9232-0e8d58adbca4",
   "metadata": {},
   "outputs": [],
   "source": [
    "src = \"../../data/\""
   ]
  },
  {
   "cell_type": "code",
   "execution_count": 27,
   "id": "6436141e-5a02-4d41-a662-c96a26fcec5e",
   "metadata": {},
   "outputs": [],
   "source": [
    "fname = \"combined_US_politician_twitter_timelines_2010-11-06_to_2023-02-11_clean.csv.gzip\"\n",
    "texts = pd.read_csv(\n",
    "    Path(src, \"tweets\", fname),\n",
    "    compression=\"gzip\",\n",
    "    dtype={\"id\":str, \"author_id\":str},\n",
    "    usecols=[\"id\", \"text\", \"author_id\"]\n",
    ")"
   ]
  },
  {
   "cell_type": "code",
   "execution_count": 28,
   "id": "2eafed19-1568-4a12-9738-bea03a9046fd",
   "metadata": {},
   "outputs": [],
   "source": [
    "def calculate_VADER(text):\n",
    "    vs = analyzer.polarity_scores(text)\n",
    "    return str(vs[\"neg\"]) + \"+\" + str(vs[\"neu\"]) + \"+\" + str(vs[\"pos\"]) + \"+\" + str(vs[\"compound\"])"
   ]
  },
  {
   "cell_type": "code",
   "execution_count": 29,
   "id": "1e764324-bcff-4e55-96a7-4b2a27dd72c7",
   "metadata": {},
   "outputs": [
    {
     "data": {
      "application/vnd.jupyter.widget-view+json": {
       "model_id": "67b7cd587df042c48539d4ad48c2779e",
       "version_major": 2,
       "version_minor": 0
      },
      "text/plain": [
       "VBox(children=(HBox(children=(IntProgress(value=0, description='0.00%', max=600078), Label(value='0 / 600078')…"
      ]
     },
     "metadata": {},
     "output_type": "display_data"
    }
   ],
   "source": [
    "texts[\"VADER_raw\"] = texts[\"text\"].parallel_apply(calculate_VADER)"
   ]
  },
  {
   "cell_type": "code",
   "execution_count": 30,
   "id": "2cc330b8-e5f5-47f9-ae88-6b8d994e69e1",
   "metadata": {},
   "outputs": [
    {
     "data": {
      "application/vnd.jupyter.widget-view+json": {
       "model_id": "a472329e3bcc4d56b860bd7d0d6bff23",
       "version_major": 2,
       "version_minor": 0
      },
      "text/plain": [
       "VBox(children=(HBox(children=(IntProgress(value=0, description='0.00%', max=600078), Label(value='0 / 600078')…"
      ]
     },
     "metadata": {},
     "output_type": "display_data"
    }
   ],
   "source": [
    "texts[\"neg\"] = texts[\"VADER_raw\"].parallel_apply(lambda x: float(x.split(\"+\")[0]))"
   ]
  },
  {
   "cell_type": "code",
   "execution_count": 31,
   "id": "26ca3ad0-bad3-476a-a2b1-dee9ec1cc983",
   "metadata": {},
   "outputs": [
    {
     "data": {
      "application/vnd.jupyter.widget-view+json": {
       "model_id": "d18c5043ccaf42ce9ee7637c188a4672",
       "version_major": 2,
       "version_minor": 0
      },
      "text/plain": [
       "VBox(children=(HBox(children=(IntProgress(value=0, description='0.00%', max=600078), Label(value='0 / 600078')…"
      ]
     },
     "metadata": {},
     "output_type": "display_data"
    }
   ],
   "source": [
    "texts[\"neu\"] = texts[\"VADER_raw\"].parallel_apply(lambda x: float(x.split(\"+\")[1]))"
   ]
  },
  {
   "cell_type": "code",
   "execution_count": 32,
   "id": "3c2238e0-c999-43e8-83a1-b383769f821c",
   "metadata": {},
   "outputs": [
    {
     "data": {
      "application/vnd.jupyter.widget-view+json": {
       "model_id": "1b4aabf4f3b147b3a375df8e8b1a896d",
       "version_major": 2,
       "version_minor": 0
      },
      "text/plain": [
       "VBox(children=(HBox(children=(IntProgress(value=0, description='0.00%', max=600078), Label(value='0 / 600078')…"
      ]
     },
     "metadata": {},
     "output_type": "display_data"
    }
   ],
   "source": [
    "texts[\"pos\"] = texts[\"VADER_raw\"].parallel_apply(lambda x: float(x.split(\"+\")[2]))"
   ]
  },
  {
   "cell_type": "code",
   "execution_count": 33,
   "id": "6cf67a1e-9051-4ec0-8cbc-30b26021264e",
   "metadata": {},
   "outputs": [
    {
     "data": {
      "application/vnd.jupyter.widget-view+json": {
       "model_id": "cef65a967a8b495ebf3523d6c4b8cef7",
       "version_major": 2,
       "version_minor": 0
      },
      "text/plain": [
       "VBox(children=(HBox(children=(IntProgress(value=0, description='0.00%', max=600078), Label(value='0 / 600078')…"
      ]
     },
     "metadata": {},
     "output_type": "display_data"
    }
   ],
   "source": [
    "texts[\"compound\"] = texts[\"VADER_raw\"].parallel_apply(lambda x: float(x.split(\"+\")[3]))"
   ]
  },
  {
   "cell_type": "code",
   "execution_count": 34,
   "id": "3ecd9377-b657-4eec-8ba9-7e0451030274",
   "metadata": {},
   "outputs": [],
   "source": [
    "cols = [\"id\", \"neg\", \"neu\", \"pos\", \"compound\"]\n",
    "fname = \"combined_US_politician_twitter_timelines_2010-11-06_to_2022-12-31_clean_VADER.csv.gzip\"\n",
    "texts[cols].to_csv(\n",
    "    Path(src, \"tweets\", fname),\n",
    "    compression=\"gzip\",\n",
    "    index=False\n",
    ")"
   ]
  }
 ],
 "metadata": {
  "kernelspec": {
   "display_name": "Python 3 (ipykernel)",
   "language": "python",
   "name": "python3"
  },
  "language_info": {
   "codemirror_mode": {
    "name": "ipython",
    "version": 3
   },
   "file_extension": ".py",
   "mimetype": "text/x-python",
   "name": "python",
   "nbconvert_exporter": "python",
   "pygments_lexer": "ipython3",
   "version": "3.8.5"
  }
 },
 "nbformat": 4,
 "nbformat_minor": 5
}
