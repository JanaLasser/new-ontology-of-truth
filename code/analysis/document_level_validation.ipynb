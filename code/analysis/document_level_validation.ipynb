{
 "cells": [
  {
   "cell_type": "code",
   "execution_count": 1,
   "id": "77eec0b4-350c-48fa-b80e-4d009de880ee",
   "metadata": {},
   "outputs": [],
   "source": [
    "import pandas as pd\n",
    "from pathlib import Path"
   ]
  },
  {
   "cell_type": "code",
   "execution_count": null,
   "id": "c290baee-b7f7-4ec6-9e3e-b551cc28ac03",
   "metadata": {},
   "outputs": [],
   "source": [
    "src = \"../../data/\""
   ]
  },
  {
   "cell_type": "code",
   "execution_count": 66,
   "id": "7563bfbe-6056-424c-8603-710bbbd20cc8",
   "metadata": {},
   "outputs": [],
   "source": [
    "# load the tweet metadata\n",
    "fname = \"US_politician_tweets_2010-11-06_to_2022-03-16.csv.gzip\"\n",
    "tweets = pd.read_csv(\n",
    "    Path(src, \"tweets\", fname),\n",
    "    compression=\"gzip\",\n",
    "    dtype={\"id\":str, \"author_id\":str},\n",
    "    parse_dates=[\"created_at\"]\n",
    ")"
   ]
  },
  {
   "cell_type": "code",
   "execution_count": null,
   "id": "68b28e25-ed59-4188-8d07-6798d388b1d7",
   "metadata": {},
   "outputs": [],
   "source": [
    "# clean the tweets\n",
    "# drop retweets\n",
    "N = len(tweets)\n",
    "tweets = tweets[tweets[\"retweeted\"] == False]\n",
    "print(f\"dropped {N - len(tweets)} retweets\")\n",
    "\n",
    "# drop tweets without honesty component (distill RoBERTa filtering)\n",
    "N = len(tweets)\n",
    "tweets = tweets.dropna(subset=[\"avg_belief_score\", \"avg_truth_score\"])\n",
    "print(f\"dropped {N - len(tweets)} tweets without an honesty score\")\n",
    "\n",
    "# drop tweets from 2010\n",
    "tweets[\"year\"] = pd.to_datetime(tweets[\"created_at\"]).dt.year\n",
    "tweets = tweets.set_index(\"created_at\")\n",
    "N = len(tweets)\n",
    "tweets = tweets[tweets.index.year > 2010]\n",
    "print(f\"dropped {N - len(tweets)} tweets from before 2011\")"
   ]
  },
  {
   "cell_type": "code",
   "execution_count": 74,
   "id": "85de5805-35c7-48b8-8beb-f14c5697a18e",
   "metadata": {},
   "outputs": [],
   "source": [
    "# load the tweet texts\n",
    "fname = \"combined_US_politician_twitter_timelines_2010-11-06_to_2022-03-16_clean.csv.gzip\"\n",
    "cols = [\"id\", \"text\"]\n",
    "texts = pd.read_csv(\n",
    "    Path(src, \"tweets\", fname),\n",
    "    compression=\"gzip\",\n",
    "    usecols=cols)\n",
    "texts = texts.drop_duplicates(subset=\"id\")\n",
    "texts[\"id\"] = texts[\"id\"].apply(lambda x: x.replace('\"', ''))"
   ]
  },
  {
   "cell_type": "code",
   "execution_count": 75,
   "id": "c383e823-c0bc-4476-8fbe-671ac20937c5",
   "metadata": {},
   "outputs": [],
   "source": [
    "tweets = pd.merge(\n",
    "    tweets,\n",
    "    texts,\n",
    "    how=\"left\",\n",
    "    left_on=\"id\",\n",
    "    right_on=\"id\"\n",
    ")"
   ]
  },
  {
   "cell_type": "code",
   "execution_count": 85,
   "id": "610a72fb-cdad-42d5-b958-6850a69f2b7e",
   "metadata": {},
   "outputs": [],
   "source": [
    "cols = [\"id\", \"party\", \"author_id\", \"avg_belief_score\", \"avg_truth_score\", \"text\"]\n",
    "belief_cutoff_top = tweets[\"avg_belief_score\"].quantile(0.75)\n",
    "truth_cutoff_top = tweets[\"avg_truth_score\"].quantile(0.75)\n",
    "belief_cutoff_bottom = tweets[\"avg_belief_score\"].quantile(0.25)\n",
    "truth_cutoff_bottom = tweets[\"avg_truth_score\"].quantile(0.25)\n",
    "high_belief_tweets = tweets[\n",
    "    (tweets[\"avg_belief_score\"] >= belief_cutoff_top) &\\\n",
    "    (tweets[\"avg_truth_score\"] <= truth_cutoff_bottom)\n",
    "][cols]\n",
    "\n",
    "high_truth_tweets = tweets[\n",
    "    (tweets[\"avg_truth_score\"] >= truth_cutoff_top) &\\\n",
    "    (tweets[\"avg_belief_score\"] <= belief_cutoff_bottom)\n",
    "][cols]\n",
    "\n",
    "low_honesty_tweets = tweets[\n",
    "    (tweets[\"avg_truth_score\"] <= truth_cutoff_bottom) &\\\n",
    "    (tweets[\"avg_belief_score\"] <= belief_cutoff_bottom)\n",
    "][cols]"
   ]
  },
  {
   "cell_type": "code",
   "execution_count": 89,
   "id": "b2547c77-0870-4ff7-b810-065cc1b03428",
   "metadata": {},
   "outputs": [],
   "source": [
    "high_belief_dem = high_belief_tweets[high_belief_tweets[\"party\"] == \"Democrat\"].sample(n=10, random_state=42)\n",
    "high_belief_dem[\"category\"] = \"high_belief_dem\"\n",
    "high_belief_rep = high_belief_tweets[high_belief_tweets[\"party\"] == \"Republican\"].sample(n=10, random_state=42)\n",
    "high_belief_rep[\"category\"] = \"high_belief_rep\"\n",
    "high_truth_dem = high_truth_tweets[high_truth_tweets[\"party\"] == \"Democrat\"].sample(n=10, random_state=42)\n",
    "high_truth_dem[\"category\"] = \"high_truth_dem\"\n",
    "high_truth_rep = high_truth_tweets[high_truth_tweets[\"party\"] == \"Republican\"].sample(n=10, random_state=42)\n",
    "high_truth_rep[\"category\"] = \"high_truth_rep\"\n",
    "low_honesty_dem = low_honesty_tweets[low_honesty_tweets[\"party\"] == \"Democrat\"].sample(n=10, random_state=42)\n",
    "low_honesty_dem[\"category\"] = \"low_honesty_dem\"\n",
    "low_honesty_rep = low_honesty_tweets[low_honesty_tweets[\"party\"] == \"Republican\"].sample(n=10, random_state=42)\n",
    "low_honesty_rep[\"category\"] = \"low_honesty_rep\""
   ]
  },
  {
   "cell_type": "code",
   "execution_count": 94,
   "id": "0e117e49-935c-45f2-b33a-717aa566bdc8",
   "metadata": {},
   "outputs": [],
   "source": [
    "sample = pd.concat([\n",
    "    high_belief_dem,\n",
    "    high_belief_rep,\n",
    "    high_truth_dem,\n",
    "    high_truth_rep,\n",
    "    low_honesty_dem,\n",
    "    low_honesty_rep\n",
    "]).reset_index(drop=True).sample(frac=1, random_state=42)"
   ]
  },
  {
   "cell_type": "code",
   "execution_count": 98,
   "id": "663ae80e-7961-4e72-9e2f-aa8f9939ef1d",
   "metadata": {},
   "outputs": [],
   "source": [
    "dst = \"../../data\"\n",
    "sample.to_csv(Path(dst, \"tweets\", \"document_validation_sample.csv\"), index=False)"
   ]
  }
 ],
 "metadata": {
  "kernelspec": {
   "display_name": "Python 3 (ipykernel)",
   "language": "python",
   "name": "python3"
  },
  "language_info": {
   "codemirror_mode": {
    "name": "ipython",
    "version": 3
   },
   "file_extension": ".py",
   "mimetype": "text/x-python",
   "name": "python",
   "nbconvert_exporter": "python",
   "pygments_lexer": "ipython3",
   "version": "3.9.13"
  }
 },
 "nbformat": 4,
 "nbformat_minor": 5
}
