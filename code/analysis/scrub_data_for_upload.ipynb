{
 "cells": [
  {
   "cell_type": "code",
   "execution_count": 36,
   "id": "72f4720a-1bdc-4395-854f-fb8281326c19",
   "metadata": {},
   "outputs": [],
   "source": [
    "import pandas as pd\n",
    "from pathlib import Path\n",
    "from scipy.stats import linregress"
   ]
  },
  {
   "cell_type": "code",
   "execution_count": 2,
   "id": "9e951d59-ce8b-4da5-bf99-6d7d2936db6c",
   "metadata": {},
   "outputs": [],
   "source": [
    "src = \"../../data\""
   ]
  },
  {
   "cell_type": "markdown",
   "id": "6465f347-794a-4f6e-8615-d7b3fda29f08",
   "metadata": {},
   "source": [
    "# Tweets"
   ]
  },
  {
   "cell_type": "code",
   "execution_count": 21,
   "id": "791937a3-c900-4ff7-b159-7ab1d3ac4c55",
   "metadata": {},
   "outputs": [],
   "source": [
    "fname = \"US_politician_tweets_2010-11-06_to_2022-12-31.csv.gzip\"\n",
    "tweets = pd.read_csv(\n",
    "    Path(src, \"tweets\", fname),\n",
    "    compression=\"gzip\",\n",
    "    dtype={\"id\":str, \"author_id\":str}\n",
    ")"
   ]
  },
  {
   "cell_type": "code",
   "execution_count": 22,
   "id": "dc008b5b-d81a-4c0c-8a3f-1b38c69db3d8",
   "metadata": {},
   "outputs": [],
   "source": [
    "# load the cleaned timeline-data\n",
    "fname = \"combined_US_politician_twitter_timelines_2010-11-06_to_2022-12-31_clean.csv.gzip\"\n",
    "interactions = pd.read_csv(\n",
    "    Path(src, \"tweets\", fname),\n",
    "    compression=\"gzip\",\n",
    "    usecols=[\"id\", \"like_count\", \"retweet_count\", \"reply_count\"],\n",
    "    dtype={\"id\":str}\n",
    ")\n",
    "interactions = interactions.drop_duplicates(subset=\"id\")\n",
    "interactions[\"id\"] = interactions[\"id\"].apply(lambda x: x.replace('\"', ''))"
   ]
  },
  {
   "cell_type": "code",
   "execution_count": 23,
   "id": "a42493d5-688e-4a6c-ba4e-803d22cbdc14",
   "metadata": {},
   "outputs": [],
   "source": [
    "tweets = pd.merge(\n",
    "    tweets,\n",
    "    interactions,\n",
    "    how=\"left\",\n",
    "    left_on=\"id\",\n",
    "    right_on=\"id\"\n",
    ")"
   ]
  },
  {
   "cell_type": "code",
   "execution_count": 24,
   "id": "03d21005-8e3f-42d4-b0d1-84d4247d9681",
   "metadata": {},
   "outputs": [],
   "source": [
    "cols = [\n",
    "    \"retweeted\", \"quoted\", \"reply\", \"created_at\",\n",
    "    \"like_count\", \"retweet_count\", \"reply_count\",\n",
    "    \"party\", \"has_url\", \"tweet_length\",\n",
    "    \"NG_score\", \"accuracy\", \"transparency\", \n",
    "    \"avg_belief_score\", \"avg_truth_score\",\n",
    "    \"avg_belief_score_word2vec\", \"avg_truth_score_word2vec\",\n",
    "    \"avg_belief_score_fasttext\", \"avg_truth_score_fasttext\",\n",
    "    \"LIWC_analytic\", \"LIWC_authentic\", \"LIWC_moral\",\n",
    "    \"VADER_neg\", \"VADER_pos\", \"VADER_neu\", \"VADER_compound\",\n",
    "    \"author_id\"\n",
    "]"
   ]
  },
  {
   "cell_type": "code",
   "execution_count": 25,
   "id": "10a4228d-f8ac-4053-9f42-4d40fdeccf99",
   "metadata": {},
   "outputs": [],
   "source": [
    "# note: if running the dictionary robustness analysis, you will also have to\n",
    "# include the following columns\n",
    "#cols.extend([f\"avg_belief_score_{i}\" for i in range(100)])\n",
    "#cols.extend([f\"avg_truth_score_{i}\" for i in range(100)])"
   ]
  },
  {
   "cell_type": "code",
   "execution_count": 26,
   "id": "42653f5f-f877-45e5-9034-af031c88501b",
   "metadata": {},
   "outputs": [],
   "source": [
    "tweets[cols].to_csv(\n",
    "    Path(src, \"tweets\", \"tweets.csv.gzip\"),\n",
    "    compression=\"gzip\",\n",
    "    index=False\n",
    ")"
   ]
  },
  {
   "cell_type": "markdown",
   "id": "1a970984-571c-49da-909b-c19db6dc36ec",
   "metadata": {},
   "source": [
    "# ULRs"
   ]
  },
  {
   "cell_type": "code",
   "execution_count": 27,
   "id": "041f36fd-80eb-4427-91b8-dc337c59b5b6",
   "metadata": {},
   "outputs": [],
   "source": [
    "fname = \"US_politician_URLs_2010-11-06_to_2022-12-31.csv.gzip\"\n",
    "urls = pd.read_csv(\n",
    "    Path(src, \"urls\", fname),\n",
    "    compression=\"gzip\",\n",
    "    dtype={\"id\":str, \"author_id\":str}\n",
    ")"
   ]
  },
  {
   "cell_type": "code",
   "execution_count": 28,
   "id": "52179947-9970-409b-9754-e071653de11a",
   "metadata": {},
   "outputs": [],
   "source": [
    "# remove all entries with urls that point to large social media (twitter, \n",
    "# facebook, youtube, instagram), search (google, yahoo) or e-commerce (amazon) \n",
    "# sites\n",
    "excluded_domains = [\"twitter.com\", \"youtube.com\", \"facebook.com\",\n",
    "            \"instagram.com\", \"cards.twitter.com\", \"google.com\", \"yahoo.com\"]\n",
    "urls = urls[~urls[\"domain\"].isin(excluded_domains)]"
   ]
  },
  {
   "cell_type": "code",
   "execution_count": 29,
   "id": "00dd0730-50f7-44cd-9943-d68482dba16f",
   "metadata": {},
   "outputs": [],
   "source": [
    "cols = [\n",
    "    \"retweeted\", \"quoted\", \"reply\", \"created_at\", \"party\",\n",
    "    \"like_count\", \"retweet_count\", \"reply_count\",\n",
    "    \"party\", \"NG_score\", \"accuracy\", \"transparency\", \n",
    "    \"NG_unreliable\", \"independent_unreliable\",\n",
    "    \"avg_belief_score\", \"avg_truth_score\",\n",
    "    \"shortened_url\"\n",
    "]"
   ]
  },
  {
   "cell_type": "code",
   "execution_count": 30,
   "id": "de3cfec1-9d56-4d2c-a510-9259b02b88b1",
   "metadata": {},
   "outputs": [],
   "source": [
    "urls[cols].to_csv(\n",
    "    Path(src, \"urls\", \"urls.csv.gzip\"),\n",
    "    compression=\"gzip\",\n",
    "    index=False\n",
    ")"
   ]
  },
  {
   "cell_type": "markdown",
   "id": "8d6cacfe-f790-4b9a-9121-aeca60fdade2",
   "metadata": {},
   "source": [
    "# Articles"
   ]
  },
  {
   "cell_type": "code",
   "execution_count": 28,
   "id": "ab43c7cf-9809-45ae-87b5-dcee80b16cc4",
   "metadata": {},
   "outputs": [],
   "source": [
    "fname = \"article_corpus_clean_honesty_component_scores_glove.csv.gzip\"\n",
    "article_honesty_scores = pd.read_csv(\n",
    "    Path(src, \"articles\", fname), \n",
    "    compression=\"gzip\"\n",
    ").drop_duplicates()\n",
    "\n",
    "fname = \"url_NG_scores.csv.gzip\"\n",
    "article_NG_scores = pd.read_csv(\n",
    "    Path(src, \"articles\", fname),\n",
    "    compression=\"gzip\"\n",
    ")\n",
    "\n",
    "fname = \"url_independent_scores.csv.gzip\"\n",
    "article_independent_scores = pd.read_csv(\n",
    "    Path(src, \"articles\", fname), \n",
    "    compression=\"gzip\"\n",
    ")\n",
    "\n",
    "fname = \"article_corpus_clean.csv.gzip\"\n",
    "texts = pd.read_csv(\n",
    "    Path(src, \"articles\", fname), \n",
    "    compression=\"gzip\",\n",
    "    usecols = [\"url\", \"wc\"]\n",
    ").rename(columns={\"wc\":\"word_count\"})"
   ]
  },
  {
   "cell_type": "code",
   "execution_count": 29,
   "id": "dca3a826-2928-4cb1-9082-82912486e31d",
   "metadata": {},
   "outputs": [],
   "source": [
    "articles = pd.merge(\n",
    "    article_honesty_scores,\n",
    "    article_NG_scores[[\"url\", \"party\", \"NG_score\"]],\n",
    "    how=\"left\",\n",
    "    left_on=\"url\",\n",
    "    right_on=\"url\"\n",
    ")\n",
    "articles = pd.merge(\n",
    "    articles,\n",
    "    article_independent_scores[[\"url\", \"accuracy\", \"transparency\"]],\n",
    "    how=\"left\",\n",
    "    left_on=\"url\",\n",
    "    right_on=\"url\"\n",
    ")\n",
    "articles = pd.merge(\n",
    "    articles,\n",
    "    texts,\n",
    "    how=\"left\",\n",
    "    left_on=\"url\",\n",
    "    right_on=\"url\"\n",
    ")\n",
    "articles = articles[articles[\"party\"].isin([\"Democrat\", \"Republican\"])]"
   ]
  },
  {
   "cell_type": "code",
   "execution_count": 30,
   "id": "e1947e96-85e4-4e27-8f3d-c269c6cbdaeb",
   "metadata": {},
   "outputs": [],
   "source": [
    "party_counts = articles[[\"url\", \"party\"]]\\\n",
    "    .groupby(\"url\")\\\n",
    "    .count()\\\n",
    "    .reset_index()\\\n",
    "    .rename(columns={\"party\":\"party_count\"})"
   ]
  },
  {
   "cell_type": "code",
   "execution_count": 31,
   "id": "2109ebe8-a84d-44e6-9ae7-986e56da4022",
   "metadata": {},
   "outputs": [],
   "source": [
    "articles = pd.merge(\n",
    "    articles,\n",
    "    party_counts,\n",
    "    how=\"left\",\n",
    "    left_on=\"url\",\n",
    "    right_on=\"url\"\n",
    ")\n",
    "articles = articles.drop_duplicates(subset=[\"url\"])"
   ]
  },
  {
   "cell_type": "code",
   "execution_count": 32,
   "id": "cef57c13-8312-4ceb-a717-9e1e11aeaada",
   "metadata": {},
   "outputs": [
    {
     "data": {
      "text/plain": [
       "1    348662\n",
       "4      2833\n",
       "Name: party_count, dtype: int64"
      ]
     },
     "execution_count": 32,
     "metadata": {},
     "output_type": "execute_result"
    }
   ],
   "source": [
    "articles[\"party_count\"].value_counts()"
   ]
  },
  {
   "cell_type": "code",
   "execution_count": 33,
   "id": "8edd7b92-cb49-4636-bdd3-966912a92662",
   "metadata": {},
   "outputs": [
    {
     "data": {
      "text/plain": [
       "0.008125347758000586"
      ]
     },
     "execution_count": 33,
     "metadata": {},
     "output_type": "execute_result"
    }
   ],
   "source": [
    "2833 / 348662"
   ]
  },
  {
   "cell_type": "code",
   "execution_count": 34,
   "id": "35755c7d-1823-48ee-b43e-e5cdfb2571f9",
   "metadata": {},
   "outputs": [],
   "source": [
    "articles = articles.rename(columns={\n",
    "    \"avg_belief_score\":\"avg_belief_score_raw\",\n",
    "    \"avg_truth_score\":\"avg_truth_score_raw\"\n",
    "})"
   ]
  },
  {
   "cell_type": "code",
   "execution_count": 37,
   "id": "3724ca73-36a5-4081-8a7d-388e11b8da7f",
   "metadata": {},
   "outputs": [
    {
     "name": "stdout",
     "output_type": "stream",
     "text": [
      "belief-speaking slope: 9.305211874234313e-06, intercept: 0.7575757653517651\n",
      "truth-seeking slope: 4.458930029948073e-06, intercept: 0.7095668342641687\n"
     ]
    }
   ],
   "source": [
    "slope_belief, intercept_belief, rval_belief, pval_belief, stderr_belief = \\\n",
    "linregress(articles[\"word_count\"], articles[f\"avg_belief_score_raw\"])\n",
    "print(f\"belief-speaking slope: {slope_belief}, intercept: {intercept_belief}\")\n",
    "\n",
    "def predict_belief_similarity(tweet_length):\n",
    "    return intercept_belief + slope_belief * tweet_length\n",
    "\n",
    "slope_truth, intercept_truth, rval_truth, pval_truth, stderr_truth = \\\n",
    "    linregress(articles[\"word_count\"], articles[f\"avg_truth_score_raw\"])\n",
    "print(f\"truth-seeking slope: {slope_truth}, intercept: {intercept_truth}\")\n",
    "\n",
    "def predict_truth_similarity(tweet_length):\n",
    "    return intercept_truth + slope_truth * tweet_length\n",
    "\n",
    "articles[f\"avg_belief_score\"] = articles\\\n",
    "    .apply(lambda x: x[f\"avg_belief_score_raw\"] - predict_belief_similarity(x[\"word_count\"]), axis=1)    \n",
    "articles[f\"avg_truth_score\"] = articles\\\n",
    "    .apply(lambda x: x[f\"avg_truth_score_raw\"] - predict_truth_similarity(x[\"word_count\"]), axis=1)"
   ]
  },
  {
   "cell_type": "code",
   "execution_count": 39,
   "id": "355de4ba-f7e8-48ea-a66d-b83994088e9c",
   "metadata": {},
   "outputs": [],
   "source": [
    "cols = [\n",
    "    \"party\", \"NG_score\", \"accuracy\", \"transparency\",\n",
    "    \"avg_belief_score\", \"avg_truth_score\",\n",
    "    \"avg_belief_score_raw\", \"avg_truth_score_raw\",\n",
    "    \"party_count\", \"word_count\"\n",
    "]"
   ]
  },
  {
   "cell_type": "code",
   "execution_count": 40,
   "id": "2c5e3b67-62ea-450f-bcf1-4975769af10a",
   "metadata": {},
   "outputs": [],
   "source": [
    "articles[cols].to_csv(\n",
    "    Path(src, \"articles\", \"articles.csv.gzip\"),\n",
    "    compression=\"gzip\",\n",
    "    index=False\n",
    ")"
   ]
  },
  {
   "cell_type": "markdown",
   "id": "238b9042-5724-4138-bde5-c5b26ec4489d",
   "metadata": {},
   "source": [
    "# NYT"
   ]
  },
  {
   "cell_type": "code",
   "execution_count": 49,
   "id": "90bae5cd-31c2-4807-b8ad-97595ddc4196",
   "metadata": {},
   "outputs": [],
   "source": [
    "# get honesty scores\n",
    "fname = \"NYT_abstracts_honesty_component_scores_glove.csv.gzip\"\n",
    "honesty_scores = pd.read_csv(Path(src, \"NYT\", fname), compression=\"gzip\")\n",
    "\n",
    "fname = \"NYT_abstracts.csv.gzip\"\n",
    "# get abstract categories\n",
    "cols = [\"id\", \"section\"]\n",
    "abstracts = pd.read_csv(\n",
    "    Path(src, \"NYT\", fname),\n",
    "    compression=\"gzip\",\n",
    "    usecols=cols\n",
    ")\n",
    "\n",
    "abstracts = pd.merge(\n",
    "    abstracts,\n",
    "    honesty_scores,\n",
    "    how=\"left\",\n",
    "    left_on=\"id\",\n",
    "    right_on=\"id\"\n",
    ")"
   ]
  },
  {
   "cell_type": "code",
   "execution_count": 50,
   "id": "57d799a0-3a45-46e0-86d9-d594488d0864",
   "metadata": {},
   "outputs": [],
   "source": [
    "cols = [\n",
    "    \"section\", \"avg_belief_score\", \"avg_truth_score\",\n",
    "]"
   ]
  },
  {
   "cell_type": "code",
   "execution_count": 51,
   "id": "be621572-62dd-4256-acdb-d61585cec0f6",
   "metadata": {},
   "outputs": [],
   "source": [
    "abstracts[cols].to_csv(\n",
    "    Path(src, \"NYT\", \"abstracts.csv.gzip\"),\n",
    "    compression=\"gzip\",\n",
    "    index=False\n",
    ")"
   ]
  }
 ],
 "metadata": {
  "kernelspec": {
   "display_name": "Python 3 (ipykernel)",
   "language": "python",
   "name": "python3"
  },
  "language_info": {
   "codemirror_mode": {
    "name": "ipython",
    "version": 3
   },
   "file_extension": ".py",
   "mimetype": "text/x-python",
   "name": "python",
   "nbconvert_exporter": "python",
   "pygments_lexer": "ipython3",
   "version": "3.8.5"
  }
 },
 "nbformat": 4,
 "nbformat_minor": 5
}
