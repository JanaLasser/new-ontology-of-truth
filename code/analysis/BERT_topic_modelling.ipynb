{
 "cells": [
  {
   "cell_type": "code",
   "execution_count": null,
   "metadata": {},
   "outputs": [],
   "source": [
    "# author: Fabio Carrella"
   ]
  },
  {
   "cell_type": "markdown",
   "metadata": {},
   "source": [
    "Setting the environment:"
   ]
  },
  {
   "cell_type": "code",
   "execution_count": 3,
   "metadata": {},
   "outputs": [],
   "source": [
    "from bertopic import BERTopic\n",
    "import pandas as pd\n",
    "import re\n",
    "import numpy\n",
    "from os.path import join\n",
    "from umap import UMAP\n",
    "from collections import Counter\n",
    "import plotly.express as px\n",
    "import plotly.io as pio\n",
    "pio.renderers.default = \"browser\"\n",
    "from sklearn.feature_extraction.text import CountVectorizer"
   ]
  },
  {
   "cell_type": "markdown",
   "metadata": {},
   "source": [
    "Importing the dataset:"
   ]
  },
  {
   "cell_type": "code",
   "execution_count": 6,
   "metadata": {},
   "outputs": [
    {
     "data": {
      "text/html": [
       "<div>\n",
       "<style scoped>\n",
       "    .dataframe tbody tr th:only-of-type {\n",
       "        vertical-align: middle;\n",
       "    }\n",
       "\n",
       "    .dataframe tbody tr th {\n",
       "        vertical-align: top;\n",
       "    }\n",
       "\n",
       "    .dataframe thead th {\n",
       "        text-align: right;\n",
       "    }\n",
       "</style>\n",
       "<table border=\"1\" class=\"dataframe\">\n",
       "  <thead>\n",
       "    <tr style=\"text-align: right;\">\n",
       "      <th></th>\n",
       "      <th>id</th>\n",
       "      <th>text</th>\n",
       "      <th>tweet_id</th>\n",
       "      <th>author_id</th>\n",
       "      <th>conversation_id</th>\n",
       "      <th>created_at</th>\n",
       "      <th>retweet_count</th>\n",
       "      <th>reply_count</th>\n",
       "      <th>like_count</th>\n",
       "      <th>quote_count</th>\n",
       "      <th>...</th>\n",
       "      <th>understanding_terms</th>\n",
       "      <th>understanding_count.x</th>\n",
       "      <th>word_count</th>\n",
       "      <th>max_label</th>\n",
       "      <th>belief_label</th>\n",
       "      <th>truth_label</th>\n",
       "      <th>understanding_label</th>\n",
       "      <th>party</th>\n",
       "      <th>component</th>\n",
       "      <th>classes</th>\n",
       "    </tr>\n",
       "  </thead>\n",
       "  <tbody>\n",
       "    <tr>\n",
       "      <th>0</th>\n",
       "      <td>1</td>\n",
       "      <td># IXPE be up and away ! I can not wait to see ...</td>\n",
       "      <td>\"1468826484668305411\"</td>\n",
       "      <td>20597460</td>\n",
       "      <td>\"1468826484668305411\"</td>\n",
       "      <td>2021-12-09T06:14:58.000Z</td>\n",
       "      <td>24.0</td>\n",
       "      <td>14.0</td>\n",
       "      <td>216.0</td>\n",
       "      <td>1.0</td>\n",
       "      <td>...</td>\n",
       "      <td>['uncover']</td>\n",
       "      <td>1</td>\n",
       "      <td>27</td>\n",
       "      <td>understanding</td>\n",
       "      <td>0</td>\n",
       "      <td>0</td>\n",
       "      <td>1</td>\n",
       "      <td>Democrat</td>\n",
       "      <td>other</td>\n",
       "      <td>do</td>\n",
       "    </tr>\n",
       "    <tr>\n",
       "      <th>1</th>\n",
       "      <td>2</td>\n",
       "      <td>.@NASA mourn the loss of a beloved member of o...</td>\n",
       "      <td>\"1468326655789776906\"</td>\n",
       "      <td>20597460</td>\n",
       "      <td>\"1468326655789776906\"</td>\n",
       "      <td>2021-12-07T21:08:49.000Z</td>\n",
       "      <td>129.0</td>\n",
       "      <td>27.0</td>\n",
       "      <td>900.0</td>\n",
       "      <td>20.0</td>\n",
       "      <td>...</td>\n",
       "      <td>['realized']</td>\n",
       "      <td>1</td>\n",
       "      <td>40</td>\n",
       "      <td>understanding</td>\n",
       "      <td>0</td>\n",
       "      <td>0</td>\n",
       "      <td>1</td>\n",
       "      <td>Democrat</td>\n",
       "      <td>other</td>\n",
       "      <td>do</td>\n",
       "    </tr>\n",
       "  </tbody>\n",
       "</table>\n",
       "<p>2 rows × 30 columns</p>\n",
       "</div>"
      ],
      "text/plain": [
       "   id                                               text  \\\n",
       "0   1  # IXPE be up and away ! I can not wait to see ...   \n",
       "1   2  .@NASA mourn the loss of a beloved member of o...   \n",
       "\n",
       "                tweet_id  author_id        conversation_id  \\\n",
       "0  \"1468826484668305411\"   20597460  \"1468826484668305411\"   \n",
       "1  \"1468326655789776906\"   20597460  \"1468326655789776906\"   \n",
       "\n",
       "                 created_at  retweet_count  reply_count  like_count  \\\n",
       "0  2021-12-09T06:14:58.000Z           24.0         14.0       216.0   \n",
       "1  2021-12-07T21:08:49.000Z          129.0         27.0       900.0   \n",
       "\n",
       "   quote_count  ... understanding_terms understanding_count.x  word_count  \\\n",
       "0          1.0  ...         ['uncover']                     1          27   \n",
       "1         20.0  ...        ['realized']                     1          40   \n",
       "\n",
       "       max_label  belief_label  truth_label understanding_label     party  \\\n",
       "0  understanding             0            0                   1  Democrat   \n",
       "1  understanding             0            0                   1  Democrat   \n",
       "\n",
       "  component  classes  \n",
       "0     other       do  \n",
       "1     other       do  \n",
       "\n",
       "[2 rows x 30 columns]"
      ]
     },
     "execution_count": 6,
     "metadata": {},
     "output_type": "execute_result"
    }
   ],
   "source": [
    "src = \"../../data/tweets\"\n",
    "fname = \"combined_US_politician_twitter_timelines_2010-11-06_to_2022-03-16_lemmatized_text.csv.gzip\"\n",
    "data = pd.read_csv(join(src, fname), encoding=\"utf-8\", compression=\"gzip\").dropna()\n",
    "data.head(2)"
   ]
  },
  {
   "cell_type": "markdown",
   "metadata": {},
   "source": [
    "Cleaning the data and creating a list of docs for the model:"
   ]
  },
  {
   "cell_type": "code",
   "execution_count": 7,
   "metadata": {},
   "outputs": [],
   "source": [
    "data.text = data.apply(lambda row: re.sub(r\"http\\S+\", \"\", str(row.text)).lower(), 1)\n",
    "docs = data.text.to_list()"
   ]
  },
  {
   "cell_type": "markdown",
   "metadata": {},
   "source": [
    "Fitting the model (increase `n_neigbors` and/or `min_topic_size` if too many topics):"
   ]
  },
  {
   "cell_type": "code",
   "execution_count": null,
   "metadata": {},
   "outputs": [
    {
     "data": {
      "application/vnd.jupyter.widget-view+json": {
       "model_id": "c99d6a92e3db4f2480b8668896a5c615",
       "version_major": 2,
       "version_minor": 0
      },
      "text/plain": [
       "Downloading:   0%|          | 0.00/1.18k [00:00<?, ?B/s]"
      ]
     },
     "metadata": {},
     "output_type": "display_data"
    },
    {
     "data": {
      "application/vnd.jupyter.widget-view+json": {
       "model_id": "c9d210f282894a2594a87e6bf86ded2e",
       "version_major": 2,
       "version_minor": 0
      },
      "text/plain": [
       "Downloading:   0%|          | 0.00/190 [00:00<?, ?B/s]"
      ]
     },
     "metadata": {},
     "output_type": "display_data"
    },
    {
     "data": {
      "application/vnd.jupyter.widget-view+json": {
       "model_id": "a7d1b11678bb47979d0901143b732d08",
       "version_major": 2,
       "version_minor": 0
      },
      "text/plain": [
       "Downloading:   0%|          | 0.00/10.2k [00:00<?, ?B/s]"
      ]
     },
     "metadata": {},
     "output_type": "display_data"
    },
    {
     "data": {
      "application/vnd.jupyter.widget-view+json": {
       "model_id": "19b8bef986e44f56a138e60a6b0ffd6a",
       "version_major": 2,
       "version_minor": 0
      },
      "text/plain": [
       "Downloading:   0%|          | 0.00/612 [00:00<?, ?B/s]"
      ]
     },
     "metadata": {},
     "output_type": "display_data"
    },
    {
     "data": {
      "application/vnd.jupyter.widget-view+json": {
       "model_id": "bbc9fefac989443a9bd69aa8678c81ca",
       "version_major": 2,
       "version_minor": 0
      },
      "text/plain": [
       "Downloading:   0%|          | 0.00/116 [00:00<?, ?B/s]"
      ]
     },
     "metadata": {},
     "output_type": "display_data"
    },
    {
     "data": {
      "application/vnd.jupyter.widget-view+json": {
       "model_id": "8decef1a03b54bb8bb7f1672373ac382",
       "version_major": 2,
       "version_minor": 0
      },
      "text/plain": [
       "Downloading:   0%|          | 0.00/39.3k [00:00<?, ?B/s]"
      ]
     },
     "metadata": {},
     "output_type": "display_data"
    },
    {
     "data": {
      "application/vnd.jupyter.widget-view+json": {
       "model_id": "60397ae0d3db4d92a5354ce680f6641f",
       "version_major": 2,
       "version_minor": 0
      },
      "text/plain": [
       "Downloading:   0%|          | 0.00/349 [00:00<?, ?B/s]"
      ]
     },
     "metadata": {},
     "output_type": "display_data"
    },
    {
     "data": {
      "application/vnd.jupyter.widget-view+json": {
       "model_id": "8cb7784b1eee41479aa59e812cc46697",
       "version_major": 2,
       "version_minor": 0
      },
      "text/plain": [
       "Downloading:   0%|          | 0.00/90.9M [00:00<?, ?B/s]"
      ]
     },
     "metadata": {},
     "output_type": "display_data"
    },
    {
     "data": {
      "application/vnd.jupyter.widget-view+json": {
       "model_id": "ec0c4750b8b74d4d92938d823faed6c1",
       "version_major": 2,
       "version_minor": 0
      },
      "text/plain": [
       "Downloading:   0%|          | 0.00/53.0 [00:00<?, ?B/s]"
      ]
     },
     "metadata": {},
     "output_type": "display_data"
    },
    {
     "data": {
      "application/vnd.jupyter.widget-view+json": {
       "model_id": "e33642b8a936498d9f882b00dcbaef94",
       "version_major": 2,
       "version_minor": 0
      },
      "text/plain": [
       "Downloading:   0%|          | 0.00/112 [00:00<?, ?B/s]"
      ]
     },
     "metadata": {},
     "output_type": "display_data"
    },
    {
     "data": {
      "application/vnd.jupyter.widget-view+json": {
       "model_id": "63afbbaf493b4ef99026144ac9d49b9c",
       "version_major": 2,
       "version_minor": 0
      },
      "text/plain": [
       "Downloading:   0%|          | 0.00/466k [00:00<?, ?B/s]"
      ]
     },
     "metadata": {},
     "output_type": "display_data"
    },
    {
     "data": {
      "application/vnd.jupyter.widget-view+json": {
       "model_id": "e8b35c7604cd408eacc739052d58cf4e",
       "version_major": 2,
       "version_minor": 0
      },
      "text/plain": [
       "Downloading:   0%|          | 0.00/350 [00:00<?, ?B/s]"
      ]
     },
     "metadata": {},
     "output_type": "display_data"
    },
    {
     "data": {
      "application/vnd.jupyter.widget-view+json": {
       "model_id": "b042004395be464691eaa1d94433c63f",
       "version_major": 2,
       "version_minor": 0
      },
      "text/plain": [
       "Downloading:   0%|          | 0.00/13.2k [00:00<?, ?B/s]"
      ]
     },
     "metadata": {},
     "output_type": "display_data"
    },
    {
     "data": {
      "application/vnd.jupyter.widget-view+json": {
       "model_id": "c9bcbc523b8a4588b49cf5585a4cd5f4",
       "version_major": 2,
       "version_minor": 0
      },
      "text/plain": [
       "Downloading:   0%|          | 0.00/232k [00:00<?, ?B/s]"
      ]
     },
     "metadata": {},
     "output_type": "display_data"
    },
    {
     "data": {
      "application/vnd.jupyter.widget-view+json": {
       "model_id": "c1d5ac69c3f74463b66b2d1faa2493a6",
       "version_major": 2,
       "version_minor": 0
      },
      "text/plain": [
       "Batches:   0%|          | 0/48206 [00:00<?, ?it/s]"
      ]
     },
     "metadata": {},
     "output_type": "display_data"
    },
    {
     "name": "stderr",
     "output_type": "stream",
     "text": [
      "2022-06-21 14:00:57,862 - BERTopic - Transformed documents to Embeddings\n"
     ]
    }
   ],
   "source": [
    "umap_model = UMAP(\n",
    "    n_neighbors=100,\n",
    "    n_components=5,\n",
    "    metric='cosine',\n",
    "    low_memory=False\n",
    ")\n",
    "\n",
    "vectorizer_model = CountVectorizer(min_df=50)\n",
    "\n",
    "topic_model = BERTopic(\n",
    "    verbose=True,\n",
    "    nr_topics=\"auto\",\n",
    "    min_topic_size=200,\n",
    "    umap_model=umap_model,\n",
    "    top_n_words=20,\n",
    "    vectorizer_model=vectorizer_model\n",
    ")\n",
    "topics, probs = topic_model.fit_transform(docs)"
   ]
  },
  {
   "cell_type": "markdown",
   "metadata": {},
   "source": [
    "Saving and loading the model:"
   ]
  },
  {
   "cell_type": "code",
   "execution_count": null,
   "metadata": {},
   "outputs": [],
   "source": [
    "topic_model.save(\"twitter_lemmatized\")"
   ]
  },
  {
   "cell_type": "code",
   "execution_count": null,
   "metadata": {},
   "outputs": [],
   "source": [
    "topic_model = BERTopic.load(\"twitter_lemmatized\") #insert path"
   ]
  },
  {
   "cell_type": "markdown",
   "metadata": {},
   "source": [
    "Checking how many topics the model found:"
   ]
  },
  {
   "cell_type": "code",
   "execution_count": 6,
   "metadata": {},
   "outputs": [
    {
     "data": {
      "text/html": [
       "<div>\n",
       "<style scoped>\n",
       "    .dataframe tbody tr th:only-of-type {\n",
       "        vertical-align: middle;\n",
       "    }\n",
       "\n",
       "    .dataframe tbody tr th {\n",
       "        vertical-align: top;\n",
       "    }\n",
       "\n",
       "    .dataframe thead th {\n",
       "        text-align: right;\n",
       "    }\n",
       "</style>\n",
       "<table border=\"1\" class=\"dataframe\">\n",
       "  <thead>\n",
       "    <tr style=\"text-align: right;\">\n",
       "      <th></th>\n",
       "      <th>Topic</th>\n",
       "      <th>Count</th>\n",
       "      <th>Name</th>\n",
       "    </tr>\n",
       "  </thead>\n",
       "  <tbody>\n",
       "    <tr>\n",
       "      <th>0</th>\n",
       "      <td>-1</td>\n",
       "      <td>867530</td>\n",
       "      <td>-1_to_and_in_be</td>\n",
       "    </tr>\n",
       "    <tr>\n",
       "      <th>1</th>\n",
       "      <td>0</td>\n",
       "      <td>22275</td>\n",
       "      <td>0_obamacare_aca_care_condition</td>\n",
       "    </tr>\n",
       "    <tr>\n",
       "      <th>2</th>\n",
       "      <td>1</td>\n",
       "      <td>18886</td>\n",
       "      <td>1_voting_vote_ballot_election</td>\n",
       "    </tr>\n",
       "    <tr>\n",
       "      <th>3</th>\n",
       "      <td>2</td>\n",
       "      <td>14776</td>\n",
       "      <td>2_abortion_woman_right_life</td>\n",
       "    </tr>\n",
       "    <tr>\n",
       "      <th>4</th>\n",
       "      <td>3</td>\n",
       "      <td>12707</td>\n",
       "      <td>3_gun_violence_background_shooting</td>\n",
       "    </tr>\n",
       "    <tr>\n",
       "      <th>...</th>\n",
       "      <td>...</td>\n",
       "      <td>...</td>\n",
       "      <td>...</td>\n",
       "    </tr>\n",
       "    <tr>\n",
       "      <th>373</th>\n",
       "      <td>372</td>\n",
       "      <td>206</td>\n",
       "      <td>372_heart_disease_february_awareness</td>\n",
       "    </tr>\n",
       "    <tr>\n",
       "      <th>374</th>\n",
       "      <td>373</td>\n",
       "      <td>206</td>\n",
       "      <td>373_hand_produce_donate_covid19</td>\n",
       "    </tr>\n",
       "    <tr>\n",
       "      <th>375</th>\n",
       "      <td>374</td>\n",
       "      <td>205</td>\n",
       "      <td>374_rush_radio_conservative_icon</td>\n",
       "    </tr>\n",
       "    <tr>\n",
       "      <th>376</th>\n",
       "      <td>375</td>\n",
       "      <td>204</td>\n",
       "      <td>375_conflict_condemn_civilian_violation</td>\n",
       "    </tr>\n",
       "    <tr>\n",
       "      <th>377</th>\n",
       "      <td>376</td>\n",
       "      <td>202</td>\n",
       "      <td>376_texas_independence_otd_republic</td>\n",
       "    </tr>\n",
       "  </tbody>\n",
       "</table>\n",
       "<p>378 rows × 3 columns</p>\n",
       "</div>"
      ],
      "text/plain": [
       "     Topic   Count                                     Name\n",
       "0       -1  867530                          -1_to_and_in_be\n",
       "1        0   22275           0_obamacare_aca_care_condition\n",
       "2        1   18886            1_voting_vote_ballot_election\n",
       "3        2   14776              2_abortion_woman_right_life\n",
       "4        3   12707       3_gun_violence_background_shooting\n",
       "..     ...     ...                                      ...\n",
       "373    372     206     372_heart_disease_february_awareness\n",
       "374    373     206          373_hand_produce_donate_covid19\n",
       "375    374     205         374_rush_radio_conservative_icon\n",
       "376    375     204  375_conflict_condemn_civilian_violation\n",
       "377    376     202      376_texas_independence_otd_republic\n",
       "\n",
       "[378 rows x 3 columns]"
      ]
     },
     "execution_count": 6,
     "metadata": {},
     "output_type": "execute_result"
    }
   ],
   "source": [
    "topic_model.get_topic_info()"
   ]
  },
  {
   "cell_type": "markdown",
   "metadata": {},
   "source": [
    "Visualising the topics (call `x.write_html(path)` to save the graphs):"
   ]
  },
  {
   "cell_type": "code",
   "execution_count": 7,
   "metadata": {},
   "outputs": [],
   "source": [
    "topic_model.visualize_topics()"
   ]
  },
  {
   "cell_type": "code",
   "execution_count": null,
   "metadata": {},
   "outputs": [],
   "source": [
    "topic_model.visualize_heatmap(n_clusters=20)"
   ]
  },
  {
   "cell_type": "markdown",
   "metadata": {},
   "source": [
    "Dynamic Topic Modelling (topics over time):"
   ]
  },
  {
   "cell_type": "code",
   "execution_count": null,
   "metadata": {},
   "outputs": [],
   "source": [
    "topics, probs = topic_model.transform(docs)"
   ]
  },
  {
   "cell_type": "code",
   "execution_count": null,
   "metadata": {},
   "outputs": [],
   "source": [
    "timestamps = data.created_at.to_list()\n",
    "topics_over_time = topic_model.topics_over_time(docs, topics, timestamps, nr_bins=20)"
   ]
  },
  {
   "cell_type": "markdown",
   "metadata": {},
   "source": [
    "Creating topics per class dataframe to check for topic distribution over party/components"
   ]
  },
  {
   "cell_type": "code",
   "execution_count": null,
   "metadata": {},
   "outputs": [],
   "source": [
    "topics_per_class = topic_model.topics_per_class(docs, topics=topics, classes=data[\"classes\"], global_tuning=True)"
   ]
  },
  {
   "cell_type": "code",
   "execution_count": 9,
   "metadata": {},
   "outputs": [],
   "source": [
    "topic_model.visualize_topics_per_class(topics_per_class, top_n_topics=100)"
   ]
  },
  {
   "cell_type": "code",
   "execution_count": 10,
   "metadata": {},
   "outputs": [],
   "source": [
    "dst = \"../../data/tweets\"\n",
    "fname = \"topics_per_class.csv\"\n",
    "topics_per_class.to_csv(join(dst, fname), index=False)"
   ]
  },
  {
   "cell_type": "markdown",
   "metadata": {},
   "source": [
    "Preparing data for wordclouds (use with specific topics)"
   ]
  },
  {
   "cell_type": "code",
   "execution_count": 89,
   "metadata": {},
   "outputs": [],
   "source": [
    "topics_ids = [] #insert topic id(s)\n",
    "topics_words = []\n",
    "topic_embeddings = []"
   ]
  },
  {
   "cell_type": "code",
   "execution_count": 90,
   "metadata": {},
   "outputs": [],
   "source": [
    "for id in topics_ids:\n",
    "    word_list = []\n",
    "    embedding_list = []\n",
    "    for i in range(0,20): # insert how many words you want to display (=< top_n_words in model computation)\n",
    "        word = topic_model.get_topic(id)[i][0]\n",
    "        word_list.append(word)\n",
    "        embedding = topic_model.get_topic(id)[i][1]\n",
    "        embedding_list.append(embedding)\n",
    "    topics_words.append(word_list)\n",
    "    topic_embeddings.append(embedding_list)"
   ]
  },
  {
   "cell_type": "code",
   "execution_count": 91,
   "metadata": {},
   "outputs": [],
   "source": [
    "wordcloud_df = pd.DataFrame()\n",
    "wordcloud_df[\"topic_ids\"] = topics_ids\n",
    "wordcloud_df[\"topic_words\"] = topics_words\n",
    "wordcloud_df[\"topic_embeddings\"] = topic_embeddings"
   ]
  },
  {
   "cell_type": "code",
   "execution_count": 92,
   "metadata": {},
   "outputs": [],
   "source": [
    "dst = \"../../data/tweets\"\n",
    "fname = \"key_topics.csv\"\n",
    "wordcloud_df\\\n",
    "    .set_index([\"topic_ids\"])\\\n",
    "    .apply(pd.Series.explode)\\\n",
    "    .reset_index()\\\n",
    "    .to_csv(join(dst, fname), index=False)"
   ]
  }
 ],
 "metadata": {
  "interpreter": {
   "hash": "3cf53b4603f886e33247712558f5be854cca975a28ccddf843ec0f2f06601796"
  },
  "kernelspec": {
   "display_name": "Python 3 (ipykernel)",
   "language": "python",
   "name": "python3"
  },
  "language_info": {
   "codemirror_mode": {
    "name": "ipython",
    "version": 3
   },
   "file_extension": ".py",
   "mimetype": "text/x-python",
   "name": "python",
   "nbconvert_exporter": "python",
   "pygments_lexer": "ipython3",
   "version": "3.9.12"
  }
 },
 "nbformat": 4,
 "nbformat_minor": 4
}
