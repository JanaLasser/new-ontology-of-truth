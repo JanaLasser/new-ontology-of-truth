{
 "cells": [
  {
   "cell_type": "code",
   "execution_count": null,
   "id": "0227ce0f-fcd9-4f99-bad7-14c33f7b86e4",
   "metadata": {},
   "outputs": [],
   "source": [
    "# author: Jana Lasser"
   ]
  },
  {
   "cell_type": "code",
   "execution_count": 1,
   "id": "39c02718-dc2b-4ca6-8bee-59f46413633c",
   "metadata": {},
   "outputs": [],
   "source": [
    "import pandas as pd\n",
    "import numpy as np\n",
    "from os.path import join\n",
    "import os"
   ]
  },
  {
   "cell_type": "code",
   "execution_count": 2,
   "id": "95aaed50-e29a-4af5-b807-babad7bd044e",
   "metadata": {},
   "outputs": [],
   "source": [
    "dst = \"../../data/users/\""
   ]
  },
  {
   "cell_type": "code",
   "execution_count": 3,
   "id": "cebd0c20-e1e0-40a6-9cec-05cdaa68a7fe",
   "metadata": {},
   "outputs": [],
   "source": [
    "if not os.path.exists(join(dst, \"raw\")): os.mkdir(join(dst, \"raw\"))\n",
    "if not os.path.exists(join(dst, \"clean\")): os.mkdir(join(dst, \"clean\"))"
   ]
  },
  {
   "cell_type": "markdown",
   "id": "c6933b8f-d351-4f52-9753-d0d33b6a8b38",
   "metadata": {},
   "source": [
    "# Download data"
   ]
  },
  {
   "cell_type": "code",
   "execution_count": null,
   "id": "d7c89a5c-bc1b-4391-81e9-646f2502f850",
   "metadata": {},
   "outputs": [],
   "source": [
    "# 114th congress (only senators!)\n",
    "url = \"https://www.socialseer.com/resources/us-senator-twitter-accounts-114th-congress-historical/\"\n",
    "df = pd.read_html(url)[0]\n",
    "df.columns = df.loc[0]\n",
    "df = df.drop(0)\n",
    "df[\"congress\"] = 114\n",
    "df.to_csv(join(dst, \"raw\", \"114_congress.csv\"), index=False)"
   ]
  },
  {
   "cell_type": "code",
   "execution_count": null,
   "id": "8d893fd9-1473-4f54-97ab-aad48c508724",
   "metadata": {},
   "outputs": [],
   "source": [
    "# 115th congress (only senators!)\n",
    "url = \"https://www.socialseer.com/resources/us-senator-twitter-accounts/\"\n",
    "df = pd.read_html(url)[0]\n",
    "df.columns = df.loc[0]\n",
    "df = df.drop(0)\n",
    "df[\"congress\"] = 115\n",
    "df.to_csv(join(dst, \"raw\", \"115_congress.csv\"), index=False)"
   ]
  },
  {
   "cell_type": "code",
   "execution_count": 7,
   "id": "fa3594c8-6a0b-4a3f-bac2-10b4aabbf1c4",
   "metadata": {},
   "outputs": [],
   "source": [
    "# 116 congress (senate and house) manually downloaded from \n",
    "# https://dataverse.harvard.edu/dataset.xhtml?persistentId=doi:10.7910/DVN/MBOJNS\n",
    "df_house = pd.read_csv(join(dst, \"raw\", \"congress116-house-accounts.csv\"))\n",
    "df_senate = pd.read_csv(join(dst, \"raw\", \"congress116-senate-accounts.csv\"))\n",
    "df_house[\"chamber\"] = \"house\"\n",
    "df_senate[\"chamber\"] = \"senate\"\n",
    "df = pd.concat([df_house, df_senate])\n",
    "df[\"congress\"] = 116\n",
    "df.to_csv(join(dst, \"raw\", \"116_congress.csv\"), index=False)"
   ]
  },
  {
   "cell_type": "code",
   "execution_count": 4,
   "id": "b7d58922-2152-42cd-9cdf-fecd4550f8c9",
   "metadata": {},
   "outputs": [],
   "source": [
    "# 117th congress (senate and house, downloaded on 2022-03-14)\n",
    "url = \"https://triagecancer.org/congressional-social-media\"\n",
    "df = pd.read_html(url)[0]\n",
    "df[\"congress\"] = 117\n",
    "df.to_csv(join(dst, \"raw\", \"117_congress.csv\"), index=False)"
   ]
  },
  {
   "cell_type": "code",
   "execution_count": 43,
   "id": "1cd990be-fd77-4939-86b1-0dafde0ad338",
   "metadata": {},
   "outputs": [],
   "source": [
    "# 118th congress (house)\n",
    "# manually downloaded from https://pressgallery.house.gov/member-data/members-official-twitter-handles\n",
    "df = pd.read_csv(join(dst, \"raw\", \"congress118-house-accounts.tsv\"), delimiter=\"\\t\")\n",
    "df[\"congress\"] = 118\n",
    "df.to_csv(join(dst, \"raw\", \"118_congress.csv\"), index=False)"
   ]
  },
  {
   "cell_type": "markdown",
   "id": "0b3d7661-6b7e-468c-88a9-5943b41c23df",
   "metadata": {},
   "source": [
    "# Clean and merge data"
   ]
  },
  {
   "cell_type": "code",
   "execution_count": 5,
   "id": "0f619133-7bca-434c-a3d2-812e5697e747",
   "metadata": {},
   "outputs": [],
   "source": [
    "df_114 = pd.read_csv(join(dst, \"raw\", \"114_congress.csv\"), \n",
    "                     usecols = [\"Official Senator Twitter ID\",\n",
    "                                \"Senate Staff Twitter Id\",\n",
    "                                \"Campaign/Other ID\", \n",
    "                                \"congress\"])\n",
    "df_115 = pd.read_csv(join(dst, \"raw\", \"115_congress.csv\"),\n",
    "                    usecols = [\"Official Twitter\", \n",
    "                               \"Staff Twitter\",\n",
    "                               \"Campaign Twitter\",\n",
    "                               \"congress\"])\n",
    "df_116 = pd.read_csv(join(dst, \"raw\", \"116_congress.csv\"),\n",
    "                    usecols=[\"Token\", \"congress\"])\n",
    "df_117 = pd.read_csv(join(dst, \"raw\", \"117_congress.csv\"),\n",
    "                    usecols=[\"Twitter\", \"congress\"])\n",
    "df_118 = pd.read_csv(join(dst, \"raw\", \"118_congress.csv\"),\n",
    "                    usecols=[\"Twitter Handle\", \"congress\"])"
   ]
  },
  {
   "cell_type": "code",
   "execution_count": 6,
   "id": "1b4aca4a-7289-4bbb-8be3-30bb0837a951",
   "metadata": {},
   "outputs": [],
   "source": [
    "df_114 = df_114.rename(columns={\"Official Senator Twitter ID\":\"official\",\n",
    "                                \"Senate Staff Twitter Id\":\"staff\",\n",
    "                                \"Campaign/Other ID\":\"campaign\"})\n",
    "df_114 = pd.melt(df_114, value_vars=[\"official\", \"staff\", \"campaign\"], \n",
    "        id_vars=[\"congress\"], var_name=\"type\", value_name=\"handle\")\n",
    "\n",
    "df_115 = df_115.rename(columns={\"Official Twitter\":\"official\",\n",
    "                                \"Staff Twitter\":\"staff\",\n",
    "                                \"Campaign Twitter\":\"campaign\"})\n",
    "df_115 = pd.melt(df_115, value_vars=[\"official\", \"staff\", \"campaign\"], \n",
    "        id_vars=[\"congress\"], var_name=\"type\", value_name=\"handle\")\n",
    "\n",
    "df_116 = df_116.rename(columns={\"Token\":\"handle\"})\n",
    "df_116[\"type\"] = \"official\"\n",
    "df_117 = df_117.rename(columns={\"Twitter\":\"handle\"})\n",
    "df_117[\"type\"] = \"official\"\n",
    "df_118 = df_118.rename(columns={\"Twitter Handle\":\"handle\"})\n",
    "df_118[\"type\"] = \"official\""
   ]
  },
  {
   "cell_type": "code",
   "execution_count": 7,
   "id": "f4f6bd50-1135-4fe4-9cba-a838a9718c4a",
   "metadata": {},
   "outputs": [],
   "source": [
    "df_114 = pd.concat([\n",
    "    df_114, \n",
    "    pd.DataFrame([{\"congress\":114, \"type\":\"campaign\", \"handle\":\"@randpaul16\"}])\n",
    "])\n",
    "\n",
    "df_114 = pd.concat([\n",
    "    df_114, \n",
    "    pd.DataFrame([{\"congress\":114, \"type\":\"campaign\", \"handle\":\"@DrRandPaul\"}])\n",
    "])\n",
    "df_114 = df_114.drop(236).reset_index(drop=True)"
   ]
  },
  {
   "cell_type": "code",
   "execution_count": 8,
   "id": "45d3a1b8-3030-43b9-80aa-6d9d5cfb3837",
   "metadata": {},
   "outputs": [
    {
     "name": "stdout",
     "output_type": "stream",
     "text": [
      "198 handles found for 114th congress\n",
      "202 handles found for 115th congress\n",
      "944 handles found for 116th congress\n",
      "538 handles found for 117th congress\n",
      "432 handles found for 118th congress\n"
     ]
    }
   ],
   "source": [
    "print(f\"{len(df_114.dropna())} handles found for 114th congress\")\n",
    "print(f\"{len(df_115.dropna())} handles found for 115th congress\")\n",
    "print(f\"{len(df_116.dropna())} handles found for 116th congress\")\n",
    "print(f\"{len(df_117.dropna())} handles found for 117th congress\")\n",
    "print(f\"{len(df_118.dropna())} handles found for 118th congress\")"
   ]
  },
  {
   "cell_type": "code",
   "execution_count": 9,
   "id": "20a5eb7e-7079-4dc9-9cd5-5d8d597d9ade",
   "metadata": {},
   "outputs": [],
   "source": [
    "df = pd.concat([df_114, df_115, df_116, df_117, df_118])\n",
    "df = df.dropna()\n",
    "df = df.reset_index(drop=True)\n",
    "df[\"handle\"] = df[\"handle\"].apply(lambda x: x.replace(\"@\", \"\"))\n",
    "df[\"handle\"] = df[\"handle\"].apply(lambda x: x.split(\" \")[0])"
   ]
  },
  {
   "cell_type": "code",
   "execution_count": 10,
   "id": "bcb43731-01f6-409d-9b6b-1319044cf856",
   "metadata": {},
   "outputs": [
    {
     "name": "stdout",
     "output_type": "stream",
     "text": [
      "found a total of 2314 handles\n",
      "found a total of 1278 unique handles\n"
     ]
    }
   ],
   "source": [
    "print(f\"found a total of {len(df)} handles\")\n",
    "print(f\"found a total of {len(df.handle.unique())} unique handles\")"
   ]
  },
  {
   "cell_type": "markdown",
   "id": "686067a3-e8c4-4cc9-bf95-daadca8e6a23",
   "metadata": {},
   "source": [
    "# Download current account information from the Twitter API"
   ]
  },
  {
   "cell_type": "code",
   "execution_count": 89,
   "id": "1ec7c5ea-b3d1-4688-a063-8e70a54df3c2",
   "metadata": {},
   "outputs": [],
   "source": [
    "df.to_csv(join(dst, \"clean\", \"congress-member-twitter-handles_114-118.csv\"), index=False)\n",
    "np.savetxt(join(dst, \"clean\", \"congress-member-twitter-handles_114-118.txt\"), \n",
    "           df[\"handle\"].drop_duplicates().values, fmt=\"%s\")"
   ]
  },
  {
   "cell_type": "code",
   "execution_count": 90,
   "id": "1476cd34-76e8-4aa6-a5d6-6b4d5a27c0fe",
   "metadata": {},
   "outputs": [
    {
     "name": "stdout",
     "output_type": "stream",
     "text": [
      "100%|████████| Processed 1278/1278 lines of input file [00:08<00:00, 159.40it/s]\n"
     ]
    }
   ],
   "source": [
    "# get twitter account information\n",
    "! twarc2 users --usernames ../../data/users/clean/congress-member-twitter-handles_114-118.txt ../../data/users/US_politician_twitter_accounts.jsonl"
   ]
  },
  {
   "cell_type": "code",
   "execution_count": 91,
   "id": "a423c0b9-6e83-477e-baab-268bed1484e8",
   "metadata": {},
   "outputs": [
    {
     "name": "stdout",
     "output_type": "stream",
     "text": [
      "100%|██████████████| Processed 2.14M/2.14M of input file [00:00<00:00, 17.0MB/s]\n",
      "\n",
      "ℹ️\n",
      "Parsed 1169 users objects from 13 lines in the input file.\n",
      "17 were duplicates. Wrote 1152 rows and output 27 columns in the CSV.\n",
      "\n"
     ]
    }
   ],
   "source": [
    "# transform account information from JSON to csv\n",
    "! twarc2 csv --input-data-type users ../../data/users/US_politician_twitter_accounts.jsonl ../../data/users/US_politician_twitter_accounts.csv"
   ]
  },
  {
   "cell_type": "markdown",
   "id": "fd3e1eba-0be3-4c9a-be76-d3c21eeab556",
   "metadata": {},
   "source": [
    "# Clean user data"
   ]
  },
  {
   "cell_type": "code",
   "execution_count": 3,
   "id": "2416bc41-6934-489a-b735-7fb03e151d2d",
   "metadata": {},
   "outputs": [
    {
     "data": {
      "text/html": [
       "<div>\n",
       "<style scoped>\n",
       "    .dataframe tbody tr th:only-of-type {\n",
       "        vertical-align: middle;\n",
       "    }\n",
       "\n",
       "    .dataframe tbody tr th {\n",
       "        vertical-align: top;\n",
       "    }\n",
       "\n",
       "    .dataframe thead th {\n",
       "        text-align: right;\n",
       "    }\n",
       "</style>\n",
       "<table border=\"1\" class=\"dataframe\">\n",
       "  <thead>\n",
       "    <tr style=\"text-align: right;\">\n",
       "      <th></th>\n",
       "      <th>id</th>\n",
       "      <th>created_at</th>\n",
       "      <th>username</th>\n",
       "      <th>name</th>\n",
       "      <th>description</th>\n",
       "      <th>entities.description.cashtags</th>\n",
       "      <th>entities.description.hashtags</th>\n",
       "      <th>entities.description.mentions</th>\n",
       "      <th>entities.description.urls</th>\n",
       "      <th>entities.url.urls</th>\n",
       "      <th>...</th>\n",
       "      <th>public_metrics.tweet_count</th>\n",
       "      <th>url</th>\n",
       "      <th>verified</th>\n",
       "      <th>verified_type</th>\n",
       "      <th>withheld.scope</th>\n",
       "      <th>withheld.copyright</th>\n",
       "      <th>withheld.country_codes</th>\n",
       "      <th>__twarc.retrieved_at</th>\n",
       "      <th>__twarc.url</th>\n",
       "      <th>__twarc.version</th>\n",
       "    </tr>\n",
       "  </thead>\n",
       "  <tbody>\n",
       "    <tr>\n",
       "      <th>0</th>\n",
       "      <td>18061669</td>\n",
       "      <td>2008-12-11T21:55:19.000Z</td>\n",
       "      <td>lisamurkowski</td>\n",
       "      <td>Sen. Lisa Murkowski</td>\n",
       "      <td>Official Twitter account for U.S. Senator Lisa...</td>\n",
       "      <td>NaN</td>\n",
       "      <td>NaN</td>\n",
       "      <td>NaN</td>\n",
       "      <td>NaN</td>\n",
       "      <td>[\"http://murkowski.senate.gov\"]</td>\n",
       "      <td>...</td>\n",
       "      <td>13225</td>\n",
       "      <td>http://murkowski.senate.gov</td>\n",
       "      <td>True</td>\n",
       "      <td>NaN</td>\n",
       "      <td>NaN</td>\n",
       "      <td>NaN</td>\n",
       "      <td>NaN</td>\n",
       "      <td>2023-02-12T09:10:54+00:00</td>\n",
       "      <td>https://api.twitter.com/2/users/by?tweet.field...</td>\n",
       "      <td>2.13.0</td>\n",
       "    </tr>\n",
       "    <tr>\n",
       "      <th>1</th>\n",
       "      <td>19394188</td>\n",
       "      <td>2009-01-23T13:42:31.000Z</td>\n",
       "      <td>SenJohnMcCain</td>\n",
       "      <td>John McCain</td>\n",
       "      <td>Memorial account for U.S. Senator John McCain,...</td>\n",
       "      <td>NaN</td>\n",
       "      <td>NaN</td>\n",
       "      <td>[\"@McCainInstitute\"]</td>\n",
       "      <td>NaN</td>\n",
       "      <td>NaN</td>\n",
       "      <td>...</td>\n",
       "      <td>14397</td>\n",
       "      <td>NaN</td>\n",
       "      <td>True</td>\n",
       "      <td>NaN</td>\n",
       "      <td>NaN</td>\n",
       "      <td>NaN</td>\n",
       "      <td>NaN</td>\n",
       "      <td>2023-02-12T09:10:54+00:00</td>\n",
       "      <td>https://api.twitter.com/2/users/by?tweet.field...</td>\n",
       "      <td>2.13.0</td>\n",
       "    </tr>\n",
       "  </tbody>\n",
       "</table>\n",
       "<p>2 rows × 27 columns</p>\n",
       "</div>"
      ],
      "text/plain": [
       "         id                created_at       username                 name  \\\n",
       "0  18061669  2008-12-11T21:55:19.000Z  lisamurkowski  Sen. Lisa Murkowski   \n",
       "1  19394188  2009-01-23T13:42:31.000Z  SenJohnMcCain          John McCain   \n",
       "\n",
       "                                         description  \\\n",
       "0  Official Twitter account for U.S. Senator Lisa...   \n",
       "1  Memorial account for U.S. Senator John McCain,...   \n",
       "\n",
       "   entities.description.cashtags entities.description.hashtags  \\\n",
       "0                            NaN                           NaN   \n",
       "1                            NaN                           NaN   \n",
       "\n",
       "  entities.description.mentions entities.description.urls  \\\n",
       "0                           NaN                       NaN   \n",
       "1          [\"@McCainInstitute\"]                       NaN   \n",
       "\n",
       "                 entities.url.urls  ... public_metrics.tweet_count  \\\n",
       "0  [\"http://murkowski.senate.gov\"]  ...                      13225   \n",
       "1                              NaN  ...                      14397   \n",
       "\n",
       "                           url verified  verified_type  withheld.scope  \\\n",
       "0  http://murkowski.senate.gov     True            NaN             NaN   \n",
       "1                          NaN     True            NaN             NaN   \n",
       "\n",
       "   withheld.copyright  withheld.country_codes       __twarc.retrieved_at  \\\n",
       "0                 NaN                     NaN  2023-02-12T09:10:54+00:00   \n",
       "1                 NaN                     NaN  2023-02-12T09:10:54+00:00   \n",
       "\n",
       "                                         __twarc.url  __twarc.version  \n",
       "0  https://api.twitter.com/2/users/by?tweet.field...           2.13.0  \n",
       "1  https://api.twitter.com/2/users/by?tweet.field...           2.13.0  \n",
       "\n",
       "[2 rows x 27 columns]"
      ]
     },
     "execution_count": 3,
     "metadata": {},
     "output_type": "execute_result"
    }
   ],
   "source": [
    "src = \"../../data/users\"\n",
    "fname = \"US_politician_twitter_accounts.csv\"\n",
    "users = pd.read_csv(join(src, fname), dtype={\"id\":str})\n",
    "users.head(2)"
   ]
  },
  {
   "cell_type": "code",
   "execution_count": 4,
   "id": "4b58ae34-859c-4b75-b5d3-e935ccffd7f0",
   "metadata": {},
   "outputs": [
    {
     "name": "stdout",
     "output_type": "stream",
     "text": [
      "136 user profiles could not be retrieved\n"
     ]
    }
   ],
   "source": [
    "df = pd.read_csv(join(src, \"clean\", \"congress-member-twitter-handles_114-118.csv\"))\n",
    "diff = list(set(df[\"handle\"]).difference(set(users[\"username\"])))\n",
    "print(f\"{len(diff)} user profiles could not be retrieved\")"
   ]
  },
  {
   "cell_type": "code",
   "execution_count": 5,
   "id": "6a98f9a6-1ec6-476b-85b8-bfe0b3eb50b3",
   "metadata": {},
   "outputs": [],
   "source": [
    "users = users.rename(columns={\n",
    "    \"id\":\"author_id\",\n",
    "    \"public_metrics.following_count\":\"following_count\",\n",
    "    \"public_metrics.followers_count\":\"followers_count\",\n",
    "    \"public_metrics.tweet_count\":\"tweet_count\"\n",
    "})"
   ]
  },
  {
   "cell_type": "code",
   "execution_count": 6,
   "id": "6f844248-0873-4c01-9edf-57e9249d8793",
   "metadata": {},
   "outputs": [],
   "source": [
    "src = \"../../data/utilities\"\n",
    "party_affiliation = pd.read_csv(join(src, \"party_affiliations_complete.csv\"),\n",
    "                dtype={\"author_id\":str, \"name\":str, \"handle\":str, \"party\":str})\n",
    "party_affiliation = party_affiliation.rename(columns={\"handle\":\"username\"})"
   ]
  },
  {
   "cell_type": "code",
   "execution_count": 7,
   "id": "49057bbc-fc22-4f14-a62b-df1c7f14a545",
   "metadata": {},
   "outputs": [
    {
     "name": "stdout",
     "output_type": "stream",
     "text": [
      "dropped 14 accounts\n"
     ]
    }
   ],
   "source": [
    "# remove accounts after manual checking\n",
    "# @RepTomCotton: fake account\n",
    "# @repcorygardner: fake account\n",
    "# @RepGaryPeters: fake account\n",
    "# @senatorsanders: unverified (old?) account\n",
    "# @SenBookerOfc: fake account\n",
    "# @coons4delaware: unverified old account\n",
    "# @DebFischer2012: not a politician account\n",
    "# @Menendez4NJ: not a politician account\n",
    "# @ToomeyForSenate: not a politician account\n",
    "# @friendsofbernie: not a politician account\n",
    "# @McCaskill2018: not a politician account\n",
    "# @DebFischerNE: not a politician account\n",
    "# @AnthonyGonzalez: not a politician account\n",
    "# @BuddForCongress: not a politician account\n",
    "# @RichHudson: not a politician account\n",
    "# @senatorvitter not the official account\n",
    "# @RepRobBishop not the official account\n",
    "# @RepTomReed: not a politician account\n",
    "\n",
    "N = len(users)\n",
    "users = pd.merge(users, party_affiliation[[\"username\", \"party\"]],\n",
    "                 how=\"left\", left_on=\"username\", right_on=\"username\")\n",
    "users = users.dropna(subset=[\"party\"])\n",
    "print(f\"dropped {N - len(users)} accounts\")\n",
    "users = users.rename(columns={\"username\":\"handle\"})"
   ]
  },
  {
   "cell_type": "code",
   "execution_count": 61,
   "id": "524ce71e-525f-4f58-85d3-0568e95156e8",
   "metadata": {},
   "outputs": [],
   "source": [
    "dst = \"../../data/users\"\n",
    "cols = [\"author_id\", \"handle\", \"name\", \"description\",\n",
    "        \"followers_count\", \"following_count\", \"tweet_count\",\n",
    "        \"created_at\", \"party\"]\n",
    "fname = \"US_politician_twitter_accounts_clean.csv\"\n",
    "users[cols].to_csv(join(dst, fname), index=False)"
   ]
  }
 ],
 "metadata": {
  "kernelspec": {
   "display_name": "Python 3 (ipykernel)",
   "language": "python",
   "name": "python3"
  },
  "language_info": {
   "codemirror_mode": {
    "name": "ipython",
    "version": 3
   },
   "file_extension": ".py",
   "mimetype": "text/x-python",
   "name": "python",
   "nbconvert_exporter": "python",
   "pygments_lexer": "ipython3",
   "version": "3.9.13"
  }
 },
 "nbformat": 4,
 "nbformat_minor": 5
}
